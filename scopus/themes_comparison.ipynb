{
 "cells": [
  {
   "cell_type": "code",
   "execution_count": 152,
   "id": "c3bdf184-274d-42ea-a0ee-e22962c07611",
   "metadata": {},
   "outputs": [
    {
     "name": "stdout",
     "output_type": "stream",
     "text": [
      "The lab_black extension is already loaded. To reload it, use:\n",
      "  %reload_ext lab_black\n"
     ]
    },
    {
     "data": {
      "text/html": [
       "\n",
       "    <div class=\"bk-root\">\n",
       "        <a href=\"https://bokeh.org\" target=\"_blank\" class=\"bk-logo bk-logo-small bk-logo-notebook\"></a>\n",
       "        <span id=\"4388\">Loading BokehJS ...</span>\n",
       "    </div>"
      ]
     },
     "metadata": {},
     "output_type": "display_data"
    },
    {
     "data": {
      "application/javascript": [
       "\n",
       "(function(root) {\n",
       "  function now() {\n",
       "    return new Date();\n",
       "  }\n",
       "\n",
       "  var force = true;\n",
       "\n",
       "  if (typeof root._bokeh_onload_callbacks === \"undefined\" || force === true) {\n",
       "    root._bokeh_onload_callbacks = [];\n",
       "    root._bokeh_is_loading = undefined;\n",
       "  }\n",
       "\n",
       "  var JS_MIME_TYPE = 'application/javascript';\n",
       "  var HTML_MIME_TYPE = 'text/html';\n",
       "  var EXEC_MIME_TYPE = 'application/vnd.bokehjs_exec.v0+json';\n",
       "  var CLASS_NAME = 'output_bokeh rendered_html';\n",
       "\n",
       "  /**\n",
       "   * Render data to the DOM node\n",
       "   */\n",
       "  function render(props, node) {\n",
       "    var script = document.createElement(\"script\");\n",
       "    node.appendChild(script);\n",
       "  }\n",
       "\n",
       "  /**\n",
       "   * Handle when an output is cleared or removed\n",
       "   */\n",
       "  function handleClearOutput(event, handle) {\n",
       "    var cell = handle.cell;\n",
       "\n",
       "    var id = cell.output_area._bokeh_element_id;\n",
       "    var server_id = cell.output_area._bokeh_server_id;\n",
       "    // Clean up Bokeh references\n",
       "    if (id != null && id in Bokeh.index) {\n",
       "      Bokeh.index[id].model.document.clear();\n",
       "      delete Bokeh.index[id];\n",
       "    }\n",
       "\n",
       "    if (server_id !== undefined) {\n",
       "      // Clean up Bokeh references\n",
       "      var cmd = \"from bokeh.io.state import curstate; print(curstate().uuid_to_server['\" + server_id + \"'].get_sessions()[0].document.roots[0]._id)\";\n",
       "      cell.notebook.kernel.execute(cmd, {\n",
       "        iopub: {\n",
       "          output: function(msg) {\n",
       "            var id = msg.content.text.trim();\n",
       "            if (id in Bokeh.index) {\n",
       "              Bokeh.index[id].model.document.clear();\n",
       "              delete Bokeh.index[id];\n",
       "            }\n",
       "          }\n",
       "        }\n",
       "      });\n",
       "      // Destroy server and session\n",
       "      var cmd = \"import bokeh.io.notebook as ion; ion.destroy_server('\" + server_id + \"')\";\n",
       "      cell.notebook.kernel.execute(cmd);\n",
       "    }\n",
       "  }\n",
       "\n",
       "  /**\n",
       "   * Handle when a new output is added\n",
       "   */\n",
       "  function handleAddOutput(event, handle) {\n",
       "    var output_area = handle.output_area;\n",
       "    var output = handle.output;\n",
       "\n",
       "    // limit handleAddOutput to display_data with EXEC_MIME_TYPE content only\n",
       "    if ((output.output_type != \"display_data\") || (!Object.prototype.hasOwnProperty.call(output.data, EXEC_MIME_TYPE))) {\n",
       "      return\n",
       "    }\n",
       "\n",
       "    var toinsert = output_area.element.find(\".\" + CLASS_NAME.split(' ')[0]);\n",
       "\n",
       "    if (output.metadata[EXEC_MIME_TYPE][\"id\"] !== undefined) {\n",
       "      toinsert[toinsert.length - 1].firstChild.textContent = output.data[JS_MIME_TYPE];\n",
       "      // store reference to embed id on output_area\n",
       "      output_area._bokeh_element_id = output.metadata[EXEC_MIME_TYPE][\"id\"];\n",
       "    }\n",
       "    if (output.metadata[EXEC_MIME_TYPE][\"server_id\"] !== undefined) {\n",
       "      var bk_div = document.createElement(\"div\");\n",
       "      bk_div.innerHTML = output.data[HTML_MIME_TYPE];\n",
       "      var script_attrs = bk_div.children[0].attributes;\n",
       "      for (var i = 0; i < script_attrs.length; i++) {\n",
       "        toinsert[toinsert.length - 1].firstChild.setAttribute(script_attrs[i].name, script_attrs[i].value);\n",
       "        toinsert[toinsert.length - 1].firstChild.textContent = bk_div.children[0].textContent\n",
       "      }\n",
       "      // store reference to server id on output_area\n",
       "      output_area._bokeh_server_id = output.metadata[EXEC_MIME_TYPE][\"server_id\"];\n",
       "    }\n",
       "  }\n",
       "\n",
       "  function register_renderer(events, OutputArea) {\n",
       "\n",
       "    function append_mime(data, metadata, element) {\n",
       "      // create a DOM node to render to\n",
       "      var toinsert = this.create_output_subarea(\n",
       "        metadata,\n",
       "        CLASS_NAME,\n",
       "        EXEC_MIME_TYPE\n",
       "      );\n",
       "      this.keyboard_manager.register_events(toinsert);\n",
       "      // Render to node\n",
       "      var props = {data: data, metadata: metadata[EXEC_MIME_TYPE]};\n",
       "      render(props, toinsert[toinsert.length - 1]);\n",
       "      element.append(toinsert);\n",
       "      return toinsert\n",
       "    }\n",
       "\n",
       "    /* Handle when an output is cleared or removed */\n",
       "    events.on('clear_output.CodeCell', handleClearOutput);\n",
       "    events.on('delete.Cell', handleClearOutput);\n",
       "\n",
       "    /* Handle when a new output is added */\n",
       "    events.on('output_added.OutputArea', handleAddOutput);\n",
       "\n",
       "    /**\n",
       "     * Register the mime type and append_mime function with output_area\n",
       "     */\n",
       "    OutputArea.prototype.register_mime_type(EXEC_MIME_TYPE, append_mime, {\n",
       "      /* Is output safe? */\n",
       "      safe: true,\n",
       "      /* Index of renderer in `output_area.display_order` */\n",
       "      index: 0\n",
       "    });\n",
       "  }\n",
       "\n",
       "  // register the mime type if in Jupyter Notebook environment and previously unregistered\n",
       "  if (root.Jupyter !== undefined) {\n",
       "    var events = require('base/js/events');\n",
       "    var OutputArea = require('notebook/js/outputarea').OutputArea;\n",
       "\n",
       "    if (OutputArea.prototype.mime_types().indexOf(EXEC_MIME_TYPE) == -1) {\n",
       "      register_renderer(events, OutputArea);\n",
       "    }\n",
       "  }\n",
       "\n",
       "  \n",
       "  if (typeof (root._bokeh_timeout) === \"undefined\" || force === true) {\n",
       "    root._bokeh_timeout = Date.now() + 5000;\n",
       "    root._bokeh_failed_load = false;\n",
       "  }\n",
       "\n",
       "  var NB_LOAD_WARNING = {'data': {'text/html':\n",
       "     \"<div style='background-color: #fdd'>\\n\"+\n",
       "     \"<p>\\n\"+\n",
       "     \"BokehJS does not appear to have successfully loaded. If loading BokehJS from CDN, this \\n\"+\n",
       "     \"may be due to a slow or bad network connection. Possible fixes:\\n\"+\n",
       "     \"</p>\\n\"+\n",
       "     \"<ul>\\n\"+\n",
       "     \"<li>re-rerun `output_notebook()` to attempt to load from CDN again, or</li>\\n\"+\n",
       "     \"<li>use INLINE resources instead, as so:</li>\\n\"+\n",
       "     \"</ul>\\n\"+\n",
       "     \"<code>\\n\"+\n",
       "     \"from bokeh.resources import INLINE\\n\"+\n",
       "     \"output_notebook(resources=INLINE)\\n\"+\n",
       "     \"</code>\\n\"+\n",
       "     \"</div>\"}};\n",
       "\n",
       "  function display_loaded() {\n",
       "    var el = document.getElementById(\"4388\");\n",
       "    if (el != null) {\n",
       "      el.textContent = \"BokehJS is loading...\";\n",
       "    }\n",
       "    if (root.Bokeh !== undefined) {\n",
       "      if (el != null) {\n",
       "        el.textContent = \"BokehJS \" + root.Bokeh.version + \" successfully loaded.\";\n",
       "      }\n",
       "    } else if (Date.now() < root._bokeh_timeout) {\n",
       "      setTimeout(display_loaded, 100)\n",
       "    }\n",
       "  }\n",
       "\n",
       "\n",
       "  function run_callbacks() {\n",
       "    try {\n",
       "      root._bokeh_onload_callbacks.forEach(function(callback) {\n",
       "        if (callback != null)\n",
       "          callback();\n",
       "      });\n",
       "    } finally {\n",
       "      delete root._bokeh_onload_callbacks\n",
       "    }\n",
       "    console.debug(\"Bokeh: all callbacks have finished\");\n",
       "  }\n",
       "\n",
       "  function load_libs(css_urls, js_urls, callback) {\n",
       "    if (css_urls == null) css_urls = [];\n",
       "    if (js_urls == null) js_urls = [];\n",
       "\n",
       "    root._bokeh_onload_callbacks.push(callback);\n",
       "    if (root._bokeh_is_loading > 0) {\n",
       "      console.debug(\"Bokeh: BokehJS is being loaded, scheduling callback at\", now());\n",
       "      return null;\n",
       "    }\n",
       "    if (js_urls == null || js_urls.length === 0) {\n",
       "      run_callbacks();\n",
       "      return null;\n",
       "    }\n",
       "    console.debug(\"Bokeh: BokehJS not loaded, scheduling load and callback at\", now());\n",
       "    root._bokeh_is_loading = css_urls.length + js_urls.length;\n",
       "\n",
       "    function on_load() {\n",
       "      root._bokeh_is_loading--;\n",
       "      if (root._bokeh_is_loading === 0) {\n",
       "        console.debug(\"Bokeh: all BokehJS libraries/stylesheets loaded\");\n",
       "        run_callbacks()\n",
       "      }\n",
       "    }\n",
       "\n",
       "    function on_error(url) {\n",
       "      console.error(\"failed to load \" + url);\n",
       "    }\n",
       "\n",
       "    for (let i = 0; i < css_urls.length; i++) {\n",
       "      const url = css_urls[i];\n",
       "      const element = document.createElement(\"link\");\n",
       "      element.onload = on_load;\n",
       "      element.onerror = on_error.bind(null, url);\n",
       "      element.rel = \"stylesheet\";\n",
       "      element.type = \"text/css\";\n",
       "      element.href = url;\n",
       "      console.debug(\"Bokeh: injecting link tag for BokehJS stylesheet: \", url);\n",
       "      document.body.appendChild(element);\n",
       "    }\n",
       "\n",
       "    const hashes = {\"https://cdn.bokeh.org/bokeh/release/bokeh-2.3.2.min.js\": \"XypntL49z55iwGVUW4qsEu83zKL3XEcz0MjuGOQ9SlaaQ68X/g+k1FcioZi7oQAc\", \"https://cdn.bokeh.org/bokeh/release/bokeh-tables-2.3.2.min.js\": \"bEsM86IHGDTLCS0Zod8a8WM6Y4+lafAL/eSiyQcuPzinmWNgNO2/olUF0Z2Dkn5i\", \"https://cdn.bokeh.org/bokeh/release/bokeh-widgets-2.3.2.min.js\": \"TX0gSQTdXTTeScqxj6PVQxTiRW8DOoGVwinyi1D3kxv7wuxQ02XkOxv0xwiypcAH\"};\n",
       "\n",
       "    for (let i = 0; i < js_urls.length; i++) {\n",
       "      const url = js_urls[i];\n",
       "      const element = document.createElement('script');\n",
       "      element.onload = on_load;\n",
       "      element.onerror = on_error.bind(null, url);\n",
       "      element.async = false;\n",
       "      element.src = url;\n",
       "      if (url in hashes) {\n",
       "        element.crossOrigin = \"anonymous\";\n",
       "        element.integrity = \"sha384-\" + hashes[url];\n",
       "      }\n",
       "      console.debug(\"Bokeh: injecting script tag for BokehJS library: \", url);\n",
       "      document.head.appendChild(element);\n",
       "    }\n",
       "  };\n",
       "\n",
       "  function inject_raw_css(css) {\n",
       "    const element = document.createElement(\"style\");\n",
       "    element.appendChild(document.createTextNode(css));\n",
       "    document.body.appendChild(element);\n",
       "  }\n",
       "\n",
       "  \n",
       "  var js_urls = [\"https://cdn.bokeh.org/bokeh/release/bokeh-2.3.2.min.js\", \"https://cdn.bokeh.org/bokeh/release/bokeh-widgets-2.3.2.min.js\", \"https://cdn.bokeh.org/bokeh/release/bokeh-tables-2.3.2.min.js\"];\n",
       "  var css_urls = [];\n",
       "  \n",
       "\n",
       "  var inline_js = [\n",
       "    function(Bokeh) {\n",
       "      Bokeh.set_log_level(\"info\");\n",
       "    },\n",
       "    function(Bokeh) {\n",
       "    \n",
       "    \n",
       "    }\n",
       "  ];\n",
       "\n",
       "  function run_inline_js() {\n",
       "    \n",
       "    if (root.Bokeh !== undefined || force === true) {\n",
       "      \n",
       "    for (var i = 0; i < inline_js.length; i++) {\n",
       "      inline_js[i].call(root, root.Bokeh);\n",
       "    }\n",
       "    if (force === true) {\n",
       "        display_loaded();\n",
       "      }} else if (Date.now() < root._bokeh_timeout) {\n",
       "      setTimeout(run_inline_js, 100);\n",
       "    } else if (!root._bokeh_failed_load) {\n",
       "      console.log(\"Bokeh: BokehJS failed to load within specified timeout.\");\n",
       "      root._bokeh_failed_load = true;\n",
       "    } else if (force !== true) {\n",
       "      var cell = $(document.getElementById(\"4388\")).parents('.cell').data().cell;\n",
       "      cell.output_area.append_execute_result(NB_LOAD_WARNING)\n",
       "    }\n",
       "\n",
       "  }\n",
       "\n",
       "  if (root._bokeh_is_loading === 0) {\n",
       "    console.debug(\"Bokeh: BokehJS loaded, going straight to plotting\");\n",
       "    run_inline_js();\n",
       "  } else {\n",
       "    load_libs(css_urls, js_urls, function() {\n",
       "      console.debug(\"Bokeh: BokehJS plotting callback run at\", now());\n",
       "      run_inline_js();\n",
       "    });\n",
       "  }\n",
       "}(window));"
      ],
      "application/vnd.bokehjs_load.v0+json": "\n(function(root) {\n  function now() {\n    return new Date();\n  }\n\n  var force = true;\n\n  if (typeof root._bokeh_onload_callbacks === \"undefined\" || force === true) {\n    root._bokeh_onload_callbacks = [];\n    root._bokeh_is_loading = undefined;\n  }\n\n  \n\n  \n  if (typeof (root._bokeh_timeout) === \"undefined\" || force === true) {\n    root._bokeh_timeout = Date.now() + 5000;\n    root._bokeh_failed_load = false;\n  }\n\n  var NB_LOAD_WARNING = {'data': {'text/html':\n     \"<div style='background-color: #fdd'>\\n\"+\n     \"<p>\\n\"+\n     \"BokehJS does not appear to have successfully loaded. If loading BokehJS from CDN, this \\n\"+\n     \"may be due to a slow or bad network connection. Possible fixes:\\n\"+\n     \"</p>\\n\"+\n     \"<ul>\\n\"+\n     \"<li>re-rerun `output_notebook()` to attempt to load from CDN again, or</li>\\n\"+\n     \"<li>use INLINE resources instead, as so:</li>\\n\"+\n     \"</ul>\\n\"+\n     \"<code>\\n\"+\n     \"from bokeh.resources import INLINE\\n\"+\n     \"output_notebook(resources=INLINE)\\n\"+\n     \"</code>\\n\"+\n     \"</div>\"}};\n\n  function display_loaded() {\n    var el = document.getElementById(\"4388\");\n    if (el != null) {\n      el.textContent = \"BokehJS is loading...\";\n    }\n    if (root.Bokeh !== undefined) {\n      if (el != null) {\n        el.textContent = \"BokehJS \" + root.Bokeh.version + \" successfully loaded.\";\n      }\n    } else if (Date.now() < root._bokeh_timeout) {\n      setTimeout(display_loaded, 100)\n    }\n  }\n\n\n  function run_callbacks() {\n    try {\n      root._bokeh_onload_callbacks.forEach(function(callback) {\n        if (callback != null)\n          callback();\n      });\n    } finally {\n      delete root._bokeh_onload_callbacks\n    }\n    console.debug(\"Bokeh: all callbacks have finished\");\n  }\n\n  function load_libs(css_urls, js_urls, callback) {\n    if (css_urls == null) css_urls = [];\n    if (js_urls == null) js_urls = [];\n\n    root._bokeh_onload_callbacks.push(callback);\n    if (root._bokeh_is_loading > 0) {\n      console.debug(\"Bokeh: BokehJS is being loaded, scheduling callback at\", now());\n      return null;\n    }\n    if (js_urls == null || js_urls.length === 0) {\n      run_callbacks();\n      return null;\n    }\n    console.debug(\"Bokeh: BokehJS not loaded, scheduling load and callback at\", now());\n    root._bokeh_is_loading = css_urls.length + js_urls.length;\n\n    function on_load() {\n      root._bokeh_is_loading--;\n      if (root._bokeh_is_loading === 0) {\n        console.debug(\"Bokeh: all BokehJS libraries/stylesheets loaded\");\n        run_callbacks()\n      }\n    }\n\n    function on_error(url) {\n      console.error(\"failed to load \" + url);\n    }\n\n    for (let i = 0; i < css_urls.length; i++) {\n      const url = css_urls[i];\n      const element = document.createElement(\"link\");\n      element.onload = on_load;\n      element.onerror = on_error.bind(null, url);\n      element.rel = \"stylesheet\";\n      element.type = \"text/css\";\n      element.href = url;\n      console.debug(\"Bokeh: injecting link tag for BokehJS stylesheet: \", url);\n      document.body.appendChild(element);\n    }\n\n    const hashes = {\"https://cdn.bokeh.org/bokeh/release/bokeh-2.3.2.min.js\": \"XypntL49z55iwGVUW4qsEu83zKL3XEcz0MjuGOQ9SlaaQ68X/g+k1FcioZi7oQAc\", \"https://cdn.bokeh.org/bokeh/release/bokeh-tables-2.3.2.min.js\": \"bEsM86IHGDTLCS0Zod8a8WM6Y4+lafAL/eSiyQcuPzinmWNgNO2/olUF0Z2Dkn5i\", \"https://cdn.bokeh.org/bokeh/release/bokeh-widgets-2.3.2.min.js\": \"TX0gSQTdXTTeScqxj6PVQxTiRW8DOoGVwinyi1D3kxv7wuxQ02XkOxv0xwiypcAH\"};\n\n    for (let i = 0; i < js_urls.length; i++) {\n      const url = js_urls[i];\n      const element = document.createElement('script');\n      element.onload = on_load;\n      element.onerror = on_error.bind(null, url);\n      element.async = false;\n      element.src = url;\n      if (url in hashes) {\n        element.crossOrigin = \"anonymous\";\n        element.integrity = \"sha384-\" + hashes[url];\n      }\n      console.debug(\"Bokeh: injecting script tag for BokehJS library: \", url);\n      document.head.appendChild(element);\n    }\n  };\n\n  function inject_raw_css(css) {\n    const element = document.createElement(\"style\");\n    element.appendChild(document.createTextNode(css));\n    document.body.appendChild(element);\n  }\n\n  \n  var js_urls = [\"https://cdn.bokeh.org/bokeh/release/bokeh-2.3.2.min.js\", \"https://cdn.bokeh.org/bokeh/release/bokeh-widgets-2.3.2.min.js\", \"https://cdn.bokeh.org/bokeh/release/bokeh-tables-2.3.2.min.js\"];\n  var css_urls = [];\n  \n\n  var inline_js = [\n    function(Bokeh) {\n      Bokeh.set_log_level(\"info\");\n    },\n    function(Bokeh) {\n    \n    \n    }\n  ];\n\n  function run_inline_js() {\n    \n    if (root.Bokeh !== undefined || force === true) {\n      \n    for (var i = 0; i < inline_js.length; i++) {\n      inline_js[i].call(root, root.Bokeh);\n    }\n    if (force === true) {\n        display_loaded();\n      }} else if (Date.now() < root._bokeh_timeout) {\n      setTimeout(run_inline_js, 100);\n    } else if (!root._bokeh_failed_load) {\n      console.log(\"Bokeh: BokehJS failed to load within specified timeout.\");\n      root._bokeh_failed_load = true;\n    } else if (force !== true) {\n      var cell = $(document.getElementById(\"4388\")).parents('.cell').data().cell;\n      cell.output_area.append_execute_result(NB_LOAD_WARNING)\n    }\n\n  }\n\n  if (root._bokeh_is_loading === 0) {\n    console.debug(\"Bokeh: BokehJS loaded, going straight to plotting\");\n    run_inline_js();\n  } else {\n    load_libs(css_urls, js_urls, function() {\n      console.debug(\"Bokeh: BokehJS plotting callback run at\", now());\n      run_inline_js();\n    });\n  }\n}(window));"
     },
     "metadata": {},
     "output_type": "display_data"
    }
   ],
   "source": [
    "%load_ext lab_black\n",
    "\n",
    "import pandas as pd\n",
    "import numpy as np\n",
    "\n",
    "import matplotlib.pyplot as plt\n",
    "import seaborn as sns\n",
    "\n",
    "from bokeh.io import output_notebook, show\n",
    "from bokeh.models import ColumnDataSource, FactorRange\n",
    "from bokeh.plotting import figure\n",
    "from bokeh.palettes import Spectral3\n",
    "\n",
    "sns.set()\n",
    "output_notebook()"
   ]
  },
  {
   "cell_type": "code",
   "execution_count": 327,
   "id": "c8b5d4f8-e150-4462-85bc-97cfa866211f",
   "metadata": {},
   "outputs": [],
   "source": [
    "dfs = [\n",
    "    pd.read_csv(\"data/health/ng_medi_2.csv\", delimiter=\";\"),\n",
    "    pd.read_csv(\"data/ecology/cng_ecology.csv\"),\n",
    "    pd.read_csv(\"data/energy/cng_energy.csv\"),\n",
    "]"
   ]
  },
  {
   "cell_type": "code",
   "execution_count": 328,
   "id": "ff54f9a9-eaec-4191-8ec8-54ec8d3fe30e",
   "metadata": {},
   "outputs": [],
   "source": [
    "dfs[0][\"theme\"] = \"Здоровье\"\n",
    "dfs[1][\"theme\"] = \"Экология\"\n",
    "dfs[2][\"theme\"] = \"Экономика\""
   ]
  },
  {
   "cell_type": "code",
   "execution_count": 329,
   "id": "35adb231-f987-4615-bb18-b1e312e24052",
   "metadata": {},
   "outputs": [],
   "source": [
    "data = pd.concat(dfs)"
   ]
  },
  {
   "cell_type": "code",
   "execution_count": 73,
   "id": "64ceaa40-c9d6-461c-b619-b949f069db82",
   "metadata": {},
   "outputs": [],
   "source": [
    "keywords_files = [\n",
    "    \"data/health/keywords_ng_medi.csv\",\n",
    "    \"data/ecology/keywords.csv\",\n",
    "    \"data/energy/keywords.csv\",\n",
    "]\n",
    "keywords = []\n",
    "for filename in keywords_files:\n",
    "    keywords.append(\n",
    "        pd.read_csv(filename, names=(\"keywords\", \"x\", \"y\", \"label\"), skiprows=1)\n",
    "    )\n",
    "\n",
    "keywords[0][\"theme\"] = \"Здоровье\"\n",
    "keywords[1][\"theme\"] = \"Экология\"\n",
    "keywords[2][\"theme\"] = \"Экономика\"\n",
    "\n",
    "\n",
    "keywords[0] = keywords[0][keywords[0][\"label\"] == 53]\n",
    "keywords[1] = keywords[1][keywords[1][\"label\"] == 6]\n",
    "keywords[2] = keywords[2][keywords[2][\"label\"] == 46]\n",
    "\n",
    "# keywords = pd.concat(keywords)\n",
    "# keywords[\"label\"] = keywords[\"label\"].astype(\"category\")\n",
    "# keywords.head()"
   ]
  },
  {
   "cell_type": "code",
   "execution_count": 74,
   "id": "11ff4af3-32a8-41b5-923d-718c21ccb226",
   "metadata": {},
   "outputs": [],
   "source": [
    "def check_containts(source: str, target: list, return_bool=False):\n",
    "    if type(source) != str:\n",
    "        if return_bool:\n",
    "            return False\n",
    "\n",
    "        return set()\n",
    "\n",
    "    source = source.lower().split(\"; \")\n",
    "    contains = set()\n",
    "    for t in target:\n",
    "        if t in source:\n",
    "            if return_bool:\n",
    "                return True\n",
    "\n",
    "            contains.add(t)\n",
    "\n",
    "    if return_bool:\n",
    "        return False\n",
    "    return contains"
   ]
  },
  {
   "cell_type": "code",
   "execution_count": 75,
   "id": "4d3c8896-0d5b-490b-baf1-18a9fe08f210",
   "metadata": {},
   "outputs": [],
   "source": [
    "data_filtered = []\n",
    "for i in range(3):\n",
    "    data_filtered.append(\n",
    "        dfs[i][\n",
    "            dfs[i][\"Ключевые слова указателя\"].apply(\n",
    "                lambda x: check_containts(x, keywords[i][\"keywords\"], return_bool=True)\n",
    "            )\n",
    "        ].copy()\n",
    "    )\n",
    "\n",
    "data_filtered = pd.concat(data_filtered)\n",
    "keywords = pd.concat(keywords)"
   ]
  },
  {
   "cell_type": "markdown",
   "id": "1dec7b28-7072-4142-a798-a55edc29c1b9",
   "metadata": {},
   "source": [
    "## По темам"
   ]
  },
  {
   "cell_type": "code",
   "execution_count": 153,
   "id": "bbb886d6-4c03-4c89-9738-957ed197268b",
   "metadata": {},
   "outputs": [],
   "source": [
    "counts = data_filtered[\"theme\"].value_counts()\n",
    "counts_theme = counts.index.tolist()\n",
    "counts_vals = counts.values.tolist()\n",
    "\n",
    "source_counts = ColumnDataSource(\n",
    "    data=dict(themes=counts_theme, counts=counts_vals, color=Spectral3)\n",
    ")"
   ]
  },
  {
   "cell_type": "code",
   "execution_count": 155,
   "id": "e5eb8da8-3f75-405d-b30e-c87855e5d7d7",
   "metadata": {},
   "outputs": [
    {
     "data": {
      "text/html": [
       "\n",
       "\n",
       "\n",
       "\n",
       "\n",
       "\n",
       "  <div class=\"bk-root\" id=\"3ba7cb6a-a3b1-47ac-88ce-9e7f4bfead9b\" data-root-id=\"4651\"></div>\n"
      ]
     },
     "metadata": {},
     "output_type": "display_data"
    },
    {
     "data": {
      "application/javascript": [
       "(function(root) {\n",
       "  function embed_document(root) {\n",
       "    \n",
       "  var docs_json = {\"68380320-b66d-48cc-b37f-adf8eaccef38\":{\"defs\":[],\"roots\":{\"references\":[{\"attributes\":{\"below\":[{\"id\":\"4662\"}],\"center\":[{\"id\":\"4664\"},{\"id\":\"4668\"}],\"height\":300,\"left\":[{\"id\":\"4665\"}],\"renderers\":[{\"id\":\"4673\"}],\"title\":{\"id\":\"4652\"},\"toolbar\":{\"id\":\"4669\"},\"toolbar_location\":null,\"x_range\":{\"id\":\"4654\"},\"x_scale\":{\"id\":\"4658\"},\"y_range\":{\"id\":\"4656\"},\"y_scale\":{\"id\":\"4660\"}},\"id\":\"4651\",\"subtype\":\"Figure\",\"type\":\"Plot\"},{\"attributes\":{\"factors\":[\"\\u042d\\u043a\\u043e\\u043d\\u043e\\u043c\\u0438\\u043a\\u0430\",\"\\u042d\\u043a\\u043e\\u043b\\u043e\\u0433\\u0438\\u044f\",\"\\u0417\\u0434\\u043e\\u0440\\u043e\\u0432\\u044c\\u0435\"]},\"id\":\"4654\",\"type\":\"FactorRange\"},{\"attributes\":{\"formatter\":{\"id\":\"4873\"},\"major_label_policy\":{\"id\":\"4872\"},\"ticker\":{\"id\":\"4666\"}},\"id\":\"4665\",\"type\":\"LinearAxis\"},{\"attributes\":{\"source\":{\"id\":\"4389\"}},\"id\":\"4674\",\"type\":\"CDSView\"},{\"attributes\":{},\"id\":\"4658\",\"type\":\"CategoricalScale\"},{\"attributes\":{\"formatter\":{\"id\":\"4870\"},\"major_label_policy\":{\"id\":\"4869\"},\"ticker\":{\"id\":\"4663\"}},\"id\":\"4662\",\"type\":\"CategoricalAxis\"},{\"attributes\":{},\"id\":\"4660\",\"type\":\"LinearScale\"},{\"attributes\":{\"start\":0},\"id\":\"4656\",\"type\":\"DataRange1d\"},{\"attributes\":{\"active_multi\":null},\"id\":\"4669\",\"type\":\"Toolbar\"},{\"attributes\":{\"axis\":{\"id\":\"4662\"},\"grid_line_color\":null,\"ticker\":null},\"id\":\"4664\",\"type\":\"Grid\"},{\"attributes\":{},\"id\":\"4604\",\"type\":\"UnionRenderers\"},{\"attributes\":{},\"id\":\"4663\",\"type\":\"CategoricalTicker\"},{\"attributes\":{\"fill_alpha\":{\"value\":0.1},\"fill_color\":{\"field\":\"color\"},\"line_alpha\":{\"value\":0.1},\"line_color\":{\"field\":\"color\"},\"top\":{\"field\":\"counts\"},\"width\":{\"value\":0.9},\"x\":{\"field\":\"themes\"}},\"id\":\"4672\",\"type\":\"VBar\"},{\"attributes\":{\"axis\":{\"id\":\"4665\"},\"dimension\":1,\"ticker\":null},\"id\":\"4668\",\"type\":\"Grid\"},{\"attributes\":{},\"id\":\"4870\",\"type\":\"CategoricalTickFormatter\"},{\"attributes\":{},\"id\":\"4666\",\"type\":\"BasicTicker\"},{\"attributes\":{},\"id\":\"4605\",\"type\":\"Selection\"},{\"attributes\":{\"data\":{\"color\":[\"#99d594\",\"#ffffbf\",\"#fc8d59\"],\"counts\":[1369,427,405],\"themes\":[\"\\u042d\\u043a\\u043e\\u043d\\u043e\\u043c\\u0438\\u043a\\u0430\",\"\\u042d\\u043a\\u043e\\u043b\\u043e\\u0433\\u0438\\u044f\",\"\\u0417\\u0434\\u043e\\u0440\\u043e\\u0432\\u044c\\u0435\"]},\"selected\":{\"id\":\"4605\"},\"selection_policy\":{\"id\":\"4604\"}},\"id\":\"4389\",\"type\":\"ColumnDataSource\"},{\"attributes\":{},\"id\":\"4872\",\"type\":\"AllLabels\"},{\"attributes\":{\"fill_color\":{\"field\":\"color\"},\"line_color\":{\"field\":\"color\"},\"top\":{\"field\":\"counts\"},\"width\":{\"value\":0.9},\"x\":{\"field\":\"themes\"}},\"id\":\"4671\",\"type\":\"VBar\"},{\"attributes\":{},\"id\":\"4873\",\"type\":\"BasicTickFormatter\"},{\"attributes\":{\"data_source\":{\"id\":\"4389\"},\"glyph\":{\"id\":\"4671\"},\"hover_glyph\":null,\"muted_glyph\":null,\"nonselection_glyph\":{\"id\":\"4672\"},\"view\":{\"id\":\"4674\"}},\"id\":\"4673\",\"type\":\"GlyphRenderer\"},{\"attributes\":{},\"id\":\"4869\",\"type\":\"AllLabels\"},{\"attributes\":{\"text\":\"\\u041a\\u043e\\u043b\\u0438\\u0447\\u0435\\u0441\\u0442\\u0432\\u043e \\u0441\\u0442\\u0430\\u0442\\u0435\\u0439 \\u043f\\u043e \\u0442\\u0435\\u043c\\u0430\\u043c (\\u043e\\u0442\\u0444\\u0438\\u043b\\u044c\\u0442\\u0440\\u043e\\u0432\\u0430\\u043d\\u043e \\u043f\\u043e \\u043a\\u043b\\u0430\\u0441\\u0442\\u0435\\u0440\\u0430\\u043c)\"},\"id\":\"4652\",\"type\":\"Title\"}],\"root_ids\":[\"4651\"]},\"title\":\"Bokeh Application\",\"version\":\"2.3.2\"}};\n",
       "  var render_items = [{\"docid\":\"68380320-b66d-48cc-b37f-adf8eaccef38\",\"root_ids\":[\"4651\"],\"roots\":{\"4651\":\"3ba7cb6a-a3b1-47ac-88ce-9e7f4bfead9b\"}}];\n",
       "  root.Bokeh.embed.embed_items_notebook(docs_json, render_items);\n",
       "\n",
       "  }\n",
       "  if (root.Bokeh !== undefined) {\n",
       "    embed_document(root);\n",
       "  } else {\n",
       "    var attempts = 0;\n",
       "    var timer = setInterval(function(root) {\n",
       "      if (root.Bokeh !== undefined) {\n",
       "        clearInterval(timer);\n",
       "        embed_document(root);\n",
       "      } else {\n",
       "        attempts++;\n",
       "        if (attempts > 100) {\n",
       "          clearInterval(timer);\n",
       "          console.log(\"Bokeh: ERROR: Unable to run BokehJS code because BokehJS library is missing\");\n",
       "        }\n",
       "      }\n",
       "    }, 10, root)\n",
       "  }\n",
       "})(window);"
      ],
      "application/vnd.bokehjs_exec.v0+json": ""
     },
     "metadata": {
      "application/vnd.bokehjs_exec.v0+json": {
       "id": "4651"
      }
     },
     "output_type": "display_data"
    }
   ],
   "source": [
    "p = figure(\n",
    "    x_range=counts_theme,\n",
    "    plot_height=300,\n",
    "    title=\"Количество статей по темам (отфильтровано по кластерам)\",\n",
    "    toolbar_location=None,\n",
    "    tools=\"\",\n",
    ")\n",
    "p.vbar(x=\"themes\", top=\"counts\", color=\"color\", source=source_counts, width=0.9)\n",
    "p.xgrid.grid_line_color = None\n",
    "p.y_range.start = 0\n",
    "show(p)"
   ]
  },
  {
   "cell_type": "markdown",
   "id": "6a57cb44-8297-4487-be7e-787ad72661dc",
   "metadata": {},
   "source": [
    "## По годам"
   ]
  },
  {
   "cell_type": "code",
   "execution_count": 205,
   "id": "bd4ca578-3514-4f14-a69c-35be4dfade24",
   "metadata": {},
   "outputs": [],
   "source": [
    "data_filtered[\"Год\"] = data_filtered[\"Год\"].astype(int)"
   ]
  },
  {
   "cell_type": "code",
   "execution_count": 206,
   "id": "aa57966f-f37c-401e-ae42-1d2e40255fe0",
   "metadata": {},
   "outputs": [],
   "source": [
    "data_filtered_year = data_filtered[data_filtered[\"Год\"] > 2010].copy()"
   ]
  },
  {
   "cell_type": "code",
   "execution_count": 244,
   "id": "aca3269b-9b87-46f0-b104-e7fce8998d19",
   "metadata": {},
   "outputs": [],
   "source": [
    "counts_year = data_filtered_year.groupby([\"theme\", \"Год\"]).size()\n",
    "themes = []\n",
    "years = sorted(data_filtered_year[\"Год\"].unique())\n",
    "for t in data_filtered_year[\"theme\"].unique():\n",
    "    data_source[t] = counts_year[t].values.tolist()\n",
    "    themes.append(t)\n",
    "data_source[\"years\"] = [str(i) for i in years]\n",
    "\n",
    "# counts_year_theme = np.unique(counts_year.index.get_level_values(0)).tolist()\n",
    "# counts_year_year = counts_year.index.get_level_values(1).unique().tolist()"
   ]
  },
  {
   "cell_type": "code",
   "execution_count": 252,
   "id": "e871c33c-133c-4d5b-b3c5-08b8ea9eb9ae",
   "metadata": {},
   "outputs": [
    {
     "data": {
      "text/html": [
       "\n",
       "\n",
       "\n",
       "\n",
       "\n",
       "\n",
       "  <div class=\"bk-root\" id=\"6ffef6b6-3643-4b35-82fb-c373fad2eff6\" data-root-id=\"8171\"></div>\n"
      ]
     },
     "metadata": {},
     "output_type": "display_data"
    },
    {
     "data": {
      "application/javascript": [
       "(function(root) {\n",
       "  function embed_document(root) {\n",
       "    \n",
       "  var docs_json = {\"9b07950d-cb14-4eac-b2bd-e549cabb1dec\":{\"defs\":[],\"roots\":{\"references\":[{\"attributes\":{\"below\":[{\"id\":\"8182\"}],\"center\":[{\"id\":\"8184\"},{\"id\":\"8188\"},{\"id\":\"8211\"}],\"height\":300,\"left\":[{\"id\":\"8185\"}],\"outline_line_color\":null,\"renderers\":[{\"id\":\"8200\"},{\"id\":\"8217\"},{\"id\":\"8235\"}],\"title\":{\"id\":\"8172\"},\"toolbar\":{\"id\":\"8189\"},\"toolbar_location\":null,\"x_range\":{\"id\":\"8174\"},\"x_scale\":{\"id\":\"8178\"},\"y_range\":{\"id\":\"8176\"},\"y_scale\":{\"id\":\"8180\"}},\"id\":\"8171\",\"subtype\":\"Figure\",\"type\":\"Plot\"},{\"attributes\":{\"axis\":{\"id\":\"8182\"},\"grid_line_color\":null,\"ticker\":null},\"id\":\"8184\",\"type\":\"Grid\"},{\"attributes\":{\"data\":{\"years\":[\"2011\",\"2012\",\"2013\",\"2014\",\"2015\",\"2016\",\"2017\",\"2018\",\"2019\",\"2020\",\"2021\"],\"\\u0417\\u0434\\u043e\\u0440\\u043e\\u0432\\u044c\\u0435\":[10,8,19,22,28,22,25,26,30,34,9],\"\\u042d\\u043a\\u043e\\u043b\\u043e\\u0433\\u0438\\u044f\":[12,16,21,29,29,31,40,34,45,66,39],\"\\u042d\\u043a\\u043e\\u043d\\u043e\\u043c\\u0438\\u043a\\u0430\":[81,59,57,73,68,71,97,84,96,67,51]},\"selected\":{\"id\":\"8210\"},\"selection_policy\":{\"id\":\"8209\"}},\"id\":\"8196\",\"type\":\"ColumnDataSource\"},{\"attributes\":{},\"id\":\"8183\",\"type\":\"CategoricalTicker\"},{\"attributes\":{\"fields\":[\"\\u0417\\u0434\\u043e\\u0440\\u043e\\u0432\\u044c\\u0435\"]},\"id\":\"8192\",\"type\":\"Stack\"},{\"attributes\":{},\"id\":\"8207\",\"type\":\"AllLabels\"},{\"attributes\":{\"data_source\":{\"id\":\"8196\"},\"glyph\":{\"id\":\"8198\"},\"hover_glyph\":null,\"muted_glyph\":null,\"name\":\"\\u0417\\u0434\\u043e\\u0440\\u043e\\u0432\\u044c\\u0435\",\"nonselection_glyph\":{\"id\":\"8199\"},\"view\":{\"id\":\"8201\"}},\"id\":\"8200\",\"type\":\"GlyphRenderer\"},{\"attributes\":{},\"id\":\"8205\",\"type\":\"CategoricalTickFormatter\"},{\"attributes\":{\"fields\":[\"\\u0417\\u0434\\u043e\\u0440\\u043e\\u0432\\u044c\\u0435\",\"\\u042d\\u043a\\u043e\\u043b\\u043e\\u0433\\u0438\\u044f\",\"\\u042d\\u043a\\u043e\\u043d\\u043e\\u043c\\u0438\\u043a\\u0430\"]},\"id\":\"8195\",\"type\":\"Stack\"},{\"attributes\":{\"fields\":[\"\\u0417\\u0434\\u043e\\u0440\\u043e\\u0432\\u044c\\u0435\",\"\\u042d\\u043a\\u043e\\u043b\\u043e\\u0433\\u0438\\u044f\"]},\"id\":\"8194\",\"type\":\"Stack\"},{\"attributes\":{\"label\":{\"value\":\"\\u0417\\u0434\\u043e\\u0440\\u043e\\u0432\\u044c\\u0435\"},\"renderers\":[{\"id\":\"8200\"}]},\"id\":\"8212\",\"type\":\"LegendItem\"},{\"attributes\":{},\"id\":\"8180\",\"type\":\"LinearScale\"},{\"attributes\":{\"source\":{\"id\":\"8196\"}},\"id\":\"8201\",\"type\":\"CDSView\"},{\"attributes\":{\"axis\":{\"id\":\"8185\"},\"dimension\":1,\"ticker\":null},\"id\":\"8188\",\"type\":\"Grid\"},{\"attributes\":{\"formatter\":{\"id\":\"8208\"},\"major_label_policy\":{\"id\":\"8207\"},\"minor_tick_line_color\":null,\"ticker\":{\"id\":\"8186\"}},\"id\":\"8185\",\"type\":\"LinearAxis\"},{\"attributes\":{\"bottom\":{\"expr\":{\"id\":\"8190\"}},\"fill_color\":{\"value\":\"#c9d9d3\"},\"line_color\":{\"value\":\"#c9d9d3\"},\"top\":{\"expr\":{\"id\":\"8191\"}},\"width\":{\"value\":0.9},\"x\":{\"field\":\"years\"}},\"id\":\"8198\",\"type\":\"VBar\"},{\"attributes\":{},\"id\":\"8178\",\"type\":\"CategoricalScale\"},{\"attributes\":{\"start\":0},\"id\":\"8176\",\"type\":\"DataRange1d\"},{\"attributes\":{\"data\":{\"years\":[\"2011\",\"2012\",\"2013\",\"2014\",\"2015\",\"2016\",\"2017\",\"2018\",\"2019\",\"2020\",\"2021\"],\"\\u0417\\u0434\\u043e\\u0440\\u043e\\u0432\\u044c\\u0435\":[10,8,19,22,28,22,25,26,30,34,9],\"\\u042d\\u043a\\u043e\\u043b\\u043e\\u0433\\u0438\\u044f\":[12,16,21,29,29,31,40,34,45,66,39],\"\\u042d\\u043a\\u043e\\u043d\\u043e\\u043c\\u0438\\u043a\\u0430\":[81,59,57,73,68,71,97,84,96,67,51]},\"selected\":{\"id\":\"8229\"},\"selection_policy\":{\"id\":\"8228\"}},\"id\":\"8213\",\"type\":\"ColumnDataSource\"},{\"attributes\":{\"active_multi\":null},\"id\":\"8189\",\"type\":\"Toolbar\"},{\"attributes\":{\"formatter\":{\"id\":\"8205\"},\"major_label_policy\":{\"id\":\"8204\"},\"minor_tick_line_color\":null,\"ticker\":{\"id\":\"8183\"}},\"id\":\"8182\",\"type\":\"CategoricalAxis\"},{\"attributes\":{},\"id\":\"8210\",\"type\":\"Selection\"},{\"attributes\":{\"bottom\":{\"expr\":{\"id\":\"8192\"}},\"fill_alpha\":{\"value\":0.1},\"fill_color\":{\"value\":\"#718dbf\"},\"line_alpha\":{\"value\":0.1},\"line_color\":{\"value\":\"#718dbf\"},\"top\":{\"expr\":{\"id\":\"8193\"}},\"width\":{\"value\":0.9},\"x\":{\"field\":\"years\"}},\"id\":\"8216\",\"type\":\"VBar\"},{\"attributes\":{},\"id\":\"8186\",\"type\":\"BasicTicker\"},{\"attributes\":{\"bottom\":{\"expr\":{\"id\":\"8194\"}},\"fill_alpha\":{\"value\":0.1},\"fill_color\":{\"value\":\"#e84d60\"},\"line_alpha\":{\"value\":0.1},\"line_color\":{\"value\":\"#e84d60\"},\"top\":{\"expr\":{\"id\":\"8195\"}},\"width\":{\"value\":0.9},\"x\":{\"field\":\"years\"}},\"id\":\"8234\",\"type\":\"VBar\"},{\"attributes\":{\"text\":\"\\u0420\\u0430\\u0441\\u043f\\u0440\\u0435\\u0434\\u0435\\u043b\\u0435\\u043d\\u0438\\u0435 \\u0442\\u0435\\u043c\\u0430\\u0442\\u0438\\u043a \\u043f\\u043e \\u0433\\u043e\\u0434\\u0430\\u043c\"},\"id\":\"8172\",\"type\":\"Title\"},{\"attributes\":{\"bottom\":{\"expr\":{\"id\":\"8192\"}},\"fill_color\":{\"value\":\"#718dbf\"},\"line_color\":{\"value\":\"#718dbf\"},\"top\":{\"expr\":{\"id\":\"8193\"}},\"width\":{\"value\":0.9},\"x\":{\"field\":\"years\"}},\"id\":\"8215\",\"type\":\"VBar\"},{\"attributes\":{\"factors\":[\"2011\",\"2012\",\"2013\",\"2014\",\"2015\",\"2016\",\"2017\",\"2018\",\"2019\",\"2020\",\"2021\"],\"range_padding\":0.1},\"id\":\"8174\",\"type\":\"FactorRange\"},{\"attributes\":{\"bottom\":{\"expr\":{\"id\":\"8190\"}},\"fill_alpha\":{\"value\":0.1},\"fill_color\":{\"value\":\"#c9d9d3\"},\"line_alpha\":{\"value\":0.1},\"line_color\":{\"value\":\"#c9d9d3\"},\"top\":{\"expr\":{\"id\":\"8191\"}},\"width\":{\"value\":0.9},\"x\":{\"field\":\"years\"}},\"id\":\"8199\",\"type\":\"VBar\"},{\"attributes\":{\"fields\":[\"\\u0417\\u0434\\u043e\\u0440\\u043e\\u0432\\u044c\\u0435\"]},\"id\":\"8191\",\"type\":\"Stack\"},{\"attributes\":{\"data\":{\"years\":[\"2011\",\"2012\",\"2013\",\"2014\",\"2015\",\"2016\",\"2017\",\"2018\",\"2019\",\"2020\",\"2021\"],\"\\u0417\\u0434\\u043e\\u0440\\u043e\\u0432\\u044c\\u0435\":[10,8,19,22,28,22,25,26,30,34,9],\"\\u042d\\u043a\\u043e\\u043b\\u043e\\u0433\\u0438\\u044f\":[12,16,21,29,29,31,40,34,45,66,39],\"\\u042d\\u043a\\u043e\\u043d\\u043e\\u043c\\u0438\\u043a\\u0430\":[81,59,57,73,68,71,97,84,96,67,51]},\"selected\":{\"id\":\"8249\"},\"selection_policy\":{\"id\":\"8248\"}},\"id\":\"8231\",\"type\":\"ColumnDataSource\"},{\"attributes\":{\"source\":{\"id\":\"8213\"}},\"id\":\"8218\",\"type\":\"CDSView\"},{\"attributes\":{\"data_source\":{\"id\":\"8213\"},\"glyph\":{\"id\":\"8215\"},\"hover_glyph\":null,\"muted_glyph\":null,\"name\":\"\\u042d\\u043a\\u043e\\u043b\\u043e\\u0433\\u0438\\u044f\",\"nonselection_glyph\":{\"id\":\"8216\"},\"view\":{\"id\":\"8218\"}},\"id\":\"8217\",\"type\":\"GlyphRenderer\"},{\"attributes\":{\"label\":{\"value\":\"\\u042d\\u043a\\u043e\\u043d\\u043e\\u043c\\u0438\\u043a\\u0430\"},\"renderers\":[{\"id\":\"8235\"}]},\"id\":\"8250\",\"type\":\"LegendItem\"},{\"attributes\":{\"source\":{\"id\":\"8231\"}},\"id\":\"8236\",\"type\":\"CDSView\"},{\"attributes\":{\"bottom\":{\"expr\":{\"id\":\"8194\"}},\"fill_color\":{\"value\":\"#e84d60\"},\"line_color\":{\"value\":\"#e84d60\"},\"top\":{\"expr\":{\"id\":\"8195\"}},\"width\":{\"value\":0.9},\"x\":{\"field\":\"years\"}},\"id\":\"8233\",\"type\":\"VBar\"},{\"attributes\":{\"label\":{\"value\":\"\\u042d\\u043a\\u043e\\u043b\\u043e\\u0433\\u0438\\u044f\"},\"renderers\":[{\"id\":\"8217\"}]},\"id\":\"8230\",\"type\":\"LegendItem\"},{\"attributes\":{\"items\":[{\"id\":\"8212\"},{\"id\":\"8230\"},{\"id\":\"8250\"}],\"location\":\"top_left\",\"orientation\":\"horizontal\"},\"id\":\"8211\",\"type\":\"Legend\"},{\"attributes\":{\"fields\":[\"\\u0417\\u0434\\u043e\\u0440\\u043e\\u0432\\u044c\\u0435\",\"\\u042d\\u043a\\u043e\\u043b\\u043e\\u0433\\u0438\\u044f\"]},\"id\":\"8193\",\"type\":\"Stack\"},{\"attributes\":{\"data_source\":{\"id\":\"8231\"},\"glyph\":{\"id\":\"8233\"},\"hover_glyph\":null,\"muted_glyph\":null,\"name\":\"\\u042d\\u043a\\u043e\\u043d\\u043e\\u043c\\u0438\\u043a\\u0430\",\"nonselection_glyph\":{\"id\":\"8234\"},\"view\":{\"id\":\"8236\"}},\"id\":\"8235\",\"type\":\"GlyphRenderer\"},{\"attributes\":{\"fields\":[]},\"id\":\"8190\",\"type\":\"Stack\"},{\"attributes\":{},\"id\":\"8228\",\"type\":\"UnionRenderers\"},{\"attributes\":{},\"id\":\"8229\",\"type\":\"Selection\"},{\"attributes\":{},\"id\":\"8204\",\"type\":\"AllLabels\"},{\"attributes\":{},\"id\":\"8248\",\"type\":\"UnionRenderers\"},{\"attributes\":{},\"id\":\"8249\",\"type\":\"Selection\"},{\"attributes\":{},\"id\":\"8208\",\"type\":\"BasicTickFormatter\"},{\"attributes\":{},\"id\":\"8209\",\"type\":\"UnionRenderers\"}],\"root_ids\":[\"8171\"]},\"title\":\"Bokeh Application\",\"version\":\"2.3.2\"}};\n",
       "  var render_items = [{\"docid\":\"9b07950d-cb14-4eac-b2bd-e549cabb1dec\",\"root_ids\":[\"8171\"],\"roots\":{\"8171\":\"6ffef6b6-3643-4b35-82fb-c373fad2eff6\"}}];\n",
       "  root.Bokeh.embed.embed_items_notebook(docs_json, render_items);\n",
       "\n",
       "  }\n",
       "  if (root.Bokeh !== undefined) {\n",
       "    embed_document(root);\n",
       "  } else {\n",
       "    var attempts = 0;\n",
       "    var timer = setInterval(function(root) {\n",
       "      if (root.Bokeh !== undefined) {\n",
       "        clearInterval(timer);\n",
       "        embed_document(root);\n",
       "      } else {\n",
       "        attempts++;\n",
       "        if (attempts > 100) {\n",
       "          clearInterval(timer);\n",
       "          console.log(\"Bokeh: ERROR: Unable to run BokehJS code because BokehJS library is missing\");\n",
       "        }\n",
       "      }\n",
       "    }, 10, root)\n",
       "  }\n",
       "})(window);"
      ],
      "application/vnd.bokehjs_exec.v0+json": ""
     },
     "metadata": {
      "application/vnd.bokehjs_exec.v0+json": {
       "id": "8171"
      }
     },
     "output_type": "display_data"
    }
   ],
   "source": [
    "colors = [\"#c9d9d3\", \"#718dbf\", \"#e84d60\"]\n",
    "\n",
    "p = figure(\n",
    "    x_range=data_source[\"years\"],\n",
    "    plot_height=300,\n",
    "    title=\"Распределение тематик по годам\",\n",
    "    toolbar_location=None,\n",
    "    tools=\"\",\n",
    ")\n",
    "\n",
    "p.vbar_stack(\n",
    "    themes, x=\"years\", width=0.9, color=colors, source=data_source, legend_label=themes\n",
    ")\n",
    "\n",
    "p.y_range.start = 0\n",
    "p.x_range.range_padding = 0.1\n",
    "p.xgrid.grid_line_color = None\n",
    "p.axis.minor_tick_line_color = None\n",
    "p.outline_line_color = None\n",
    "p.legend.location = \"top_left\"\n",
    "p.legend.orientation = \"horizontal\"\n",
    "\n",
    "show(p)"
   ]
  },
  {
   "cell_type": "markdown",
   "id": "8bae7c60-ef51-4e22-86b1-2752cd82e353",
   "metadata": {},
   "source": [
    "## По годам отдельно по темам"
   ]
  },
  {
   "cell_type": "code",
   "execution_count": 297,
   "id": "a6fc68d2-a397-4937-a117-85a0d7676f10",
   "metadata": {},
   "outputs": [],
   "source": [
    "def plot_count_theme(theme):\n",
    "    data_filtered_theme = data_filtered[\n",
    "        (data_filtered[\"theme\"] == theme) & (data_filtered[\"Год\"] > 2010)\n",
    "    ].copy()\n",
    "    counts_year = data_filtered_theme[\"Год\"].value_counts().sort_index()\n",
    "    years = counts_year.index.tolist()\n",
    "    years = [str(i) for i in years]\n",
    "\n",
    "    counts = counts_year.values.tolist()\n",
    "    p = figure(\n",
    "        x_range=years,\n",
    "        plot_height=300,\n",
    "        title=f\"Распределение статей по теме '{theme}' по годам\",\n",
    "        toolbar_location=None,\n",
    "        tools=\"\",\n",
    "    )\n",
    "\n",
    "    p.vbar(x=years, top=counts, width=0.9, color=\"#e84d60\")\n",
    "\n",
    "    p.y_range.start = 0\n",
    "    p.x_range.range_padding = 0.1\n",
    "    p.xgrid.grid_line_color = None\n",
    "    p.axis.minor_tick_line_color = None\n",
    "    p.outline_line_color = None\n",
    "\n",
    "    show(p)\n",
    "\n",
    "\n",
    "# counts_year_theme = np.unique(counts_year.index.get_level_values(0)).tolist()\n",
    "# counts_year_year = counts_year.index.get_level_values(1).unique().tolist()"
   ]
  },
  {
   "cell_type": "code",
   "execution_count": 300,
   "id": "4f6efb21-9dff-42c7-825e-095c29d89d0d",
   "metadata": {},
   "outputs": [
    {
     "data": {
      "text/html": [
       "\n",
       "\n",
       "\n",
       "\n",
       "\n",
       "\n",
       "  <div class=\"bk-root\" id=\"56ecb56c-1e2e-471e-b0b7-5d3e5286667a\" data-root-id=\"14505\"></div>\n"
      ]
     },
     "metadata": {},
     "output_type": "display_data"
    },
    {
     "data": {
      "application/javascript": [
       "(function(root) {\n",
       "  function embed_document(root) {\n",
       "    \n",
       "  var docs_json = {\"63c1c8d3-0af6-4a59-872a-d51c05c75447\":{\"defs\":[],\"roots\":{\"references\":[{\"attributes\":{\"below\":[{\"id\":\"14516\"}],\"center\":[{\"id\":\"14518\"},{\"id\":\"14522\"}],\"height\":300,\"left\":[{\"id\":\"14519\"}],\"outline_line_color\":null,\"renderers\":[{\"id\":\"14527\"}],\"title\":{\"id\":\"14506\"},\"toolbar\":{\"id\":\"14523\"},\"toolbar_location\":null,\"x_range\":{\"id\":\"14508\"},\"x_scale\":{\"id\":\"14512\"},\"y_range\":{\"id\":\"14510\"},\"y_scale\":{\"id\":\"14514\"}},\"id\":\"14505\",\"subtype\":\"Figure\",\"type\":\"Plot\"},{\"attributes\":{},\"id\":\"14514\",\"type\":\"LinearScale\"},{\"attributes\":{\"text\":\"\\u0420\\u0430\\u0441\\u043f\\u0440\\u0435\\u0434\\u0435\\u043b\\u0435\\u043d\\u0438\\u0435 \\u0441\\u0442\\u0430\\u0442\\u0435\\u0439 \\u043f\\u043e \\u0442\\u0435\\u043c\\u0435 '\\u042d\\u043a\\u043e\\u043d\\u043e\\u043c\\u0438\\u043a\\u0430' \\u043f\\u043e \\u0433\\u043e\\u0434\\u0430\\u043c\"},\"id\":\"14506\",\"type\":\"Title\"},{\"attributes\":{\"data_source\":{\"id\":\"14524\"},\"glyph\":{\"id\":\"14525\"},\"hover_glyph\":null,\"muted_glyph\":null,\"nonselection_glyph\":{\"id\":\"14526\"},\"view\":{\"id\":\"14528\"}},\"id\":\"14527\",\"type\":\"GlyphRenderer\"},{\"attributes\":{\"axis\":{\"id\":\"14516\"},\"grid_line_color\":null,\"ticker\":null},\"id\":\"14518\",\"type\":\"Grid\"},{\"attributes\":{\"formatter\":{\"id\":\"14970\"},\"major_label_policy\":{\"id\":\"14969\"},\"minor_tick_line_color\":null,\"ticker\":{\"id\":\"14520\"}},\"id\":\"14519\",\"type\":\"LinearAxis\"},{\"attributes\":{\"active_multi\":null},\"id\":\"14523\",\"type\":\"Toolbar\"},{\"attributes\":{},\"id\":\"14520\",\"type\":\"BasicTicker\"},{\"attributes\":{\"source\":{\"id\":\"14524\"}},\"id\":\"14528\",\"type\":\"CDSView\"},{\"attributes\":{},\"id\":\"14971\",\"type\":\"UnionRenderers\"},{\"attributes\":{\"fill_alpha\":{\"value\":0.1},\"fill_color\":{\"value\":\"#e84d60\"},\"line_alpha\":{\"value\":0.1},\"line_color\":{\"value\":\"#e84d60\"},\"top\":{\"field\":\"top\"},\"width\":{\"value\":0.9},\"x\":{\"field\":\"x\"}},\"id\":\"14526\",\"type\":\"VBar\"},{\"attributes\":{\"factors\":[\"2011\",\"2012\",\"2013\",\"2014\",\"2015\",\"2016\",\"2017\",\"2018\",\"2019\",\"2020\",\"2021\"],\"range_padding\":0.1},\"id\":\"14508\",\"type\":\"FactorRange\"},{\"attributes\":{},\"id\":\"14512\",\"type\":\"CategoricalScale\"},{\"attributes\":{},\"id\":\"14970\",\"type\":\"BasicTickFormatter\"},{\"attributes\":{\"start\":0},\"id\":\"14510\",\"type\":\"DataRange1d\"},{\"attributes\":{},\"id\":\"14969\",\"type\":\"AllLabels\"},{\"attributes\":{},\"id\":\"14972\",\"type\":\"Selection\"},{\"attributes\":{\"axis\":{\"id\":\"14519\"},\"dimension\":1,\"ticker\":null},\"id\":\"14522\",\"type\":\"Grid\"},{\"attributes\":{},\"id\":\"14966\",\"type\":\"AllLabels\"},{\"attributes\":{},\"id\":\"14517\",\"type\":\"CategoricalTicker\"},{\"attributes\":{\"fill_color\":{\"value\":\"#e84d60\"},\"line_color\":{\"value\":\"#e84d60\"},\"top\":{\"field\":\"top\"},\"width\":{\"value\":0.9},\"x\":{\"field\":\"x\"}},\"id\":\"14525\",\"type\":\"VBar\"},{\"attributes\":{\"data\":{\"top\":[81,59,57,73,68,71,97,84,96,67,51],\"x\":[\"2011\",\"2012\",\"2013\",\"2014\",\"2015\",\"2016\",\"2017\",\"2018\",\"2019\",\"2020\",\"2021\"]},\"selected\":{\"id\":\"14972\"},\"selection_policy\":{\"id\":\"14971\"}},\"id\":\"14524\",\"type\":\"ColumnDataSource\"},{\"attributes\":{},\"id\":\"14967\",\"type\":\"CategoricalTickFormatter\"},{\"attributes\":{\"formatter\":{\"id\":\"14967\"},\"major_label_policy\":{\"id\":\"14966\"},\"minor_tick_line_color\":null,\"ticker\":{\"id\":\"14517\"}},\"id\":\"14516\",\"type\":\"CategoricalAxis\"}],\"root_ids\":[\"14505\"]},\"title\":\"Bokeh Application\",\"version\":\"2.3.2\"}};\n",
       "  var render_items = [{\"docid\":\"63c1c8d3-0af6-4a59-872a-d51c05c75447\",\"root_ids\":[\"14505\"],\"roots\":{\"14505\":\"56ecb56c-1e2e-471e-b0b7-5d3e5286667a\"}}];\n",
       "  root.Bokeh.embed.embed_items_notebook(docs_json, render_items);\n",
       "\n",
       "  }\n",
       "  if (root.Bokeh !== undefined) {\n",
       "    embed_document(root);\n",
       "  } else {\n",
       "    var attempts = 0;\n",
       "    var timer = setInterval(function(root) {\n",
       "      if (root.Bokeh !== undefined) {\n",
       "        clearInterval(timer);\n",
       "        embed_document(root);\n",
       "      } else {\n",
       "        attempts++;\n",
       "        if (attempts > 100) {\n",
       "          clearInterval(timer);\n",
       "          console.log(\"Bokeh: ERROR: Unable to run BokehJS code because BokehJS library is missing\");\n",
       "        }\n",
       "      }\n",
       "    }, 10, root)\n",
       "  }\n",
       "})(window);"
      ],
      "application/vnd.bokehjs_exec.v0+json": ""
     },
     "metadata": {
      "application/vnd.bokehjs_exec.v0+json": {
       "id": "14505"
      }
     },
     "output_type": "display_data"
    }
   ],
   "source": [
    "plot_count_theme(\"Экономика\")"
   ]
  },
  {
   "cell_type": "markdown",
   "id": "1f5b33e4-1b8a-400b-989d-54b2e4f545bb",
   "metadata": {},
   "source": [
    "## Цитирования"
   ]
  },
  {
   "cell_type": "code",
   "execution_count": 302,
   "id": "32e4740d-3d47-4485-b18c-c48ca0ff8633",
   "metadata": {},
   "outputs": [],
   "source": [
    "data_filtered[\"Цитирования\"] = pd.to_numeric(data_filtered[\"Цитирования\"])"
   ]
  },
  {
   "cell_type": "code",
   "execution_count": 305,
   "id": "84cca910-cf01-48eb-97e1-843d2d86d6c6",
   "metadata": {},
   "outputs": [
    {
     "data": {
      "text/plain": [
       "theme      Год \n",
       "Здоровье   1956    23.000000\n",
       "           1967     2.000000\n",
       "           1970     1.000000\n",
       "           1971     9.000000\n",
       "           1972    17.000000\n",
       "                     ...    \n",
       "Экономика  2017    20.707317\n",
       "           2018    14.241935\n",
       "           2019    12.177215\n",
       "           2020     5.613636\n",
       "           2021     2.466667\n",
       "Name: Цитирования, Length: 125, dtype: float64"
      ]
     },
     "execution_count": 305,
     "metadata": {},
     "output_type": "execute_result"
    }
   ],
   "source": [
    "data_filtered.groupby([\"theme\", \"Год\"])[\"Цитирования\"].mean()"
   ]
  },
  {
   "cell_type": "code",
   "execution_count": 333,
   "id": "811335d0-c5c8-4dfa-8fd6-e904ff8564ae",
   "metadata": {},
   "outputs": [
    {
     "data": {
      "text/plain": [
       "Index(['Авторы', 'Идентификатор автора(ов)', 'Название', 'Год',\n",
       "       'Название источника', 'Том', 'Выпуск ', 'Статья №', 'Страница начала',\n",
       "       'Страница окончания', 'Количество страниц', 'Цитирования', 'DOI',\n",
       "       'Ссылка', 'Организации', 'Авторы организаций', 'Краткое описание',\n",
       "       'Ключевые слова автора', 'Ключевые слова указателя',\n",
       "       'Адрес для корреспонденции', 'Редакторы', 'Издатель', 'ISSN', 'ISBN',\n",
       "       'CODEN', 'Идентификатор PubMed', 'Язык оригинального документа',\n",
       "       'Сокращенное название источника', 'Тип документа', 'Стадия публикации',\n",
       "       'Open Access (открытый доступ)', 'Источник', 'EID', 'theme'],\n",
       "      dtype='object')"
      ]
     },
     "execution_count": 333,
     "metadata": {},
     "output_type": "execute_result"
    }
   ],
   "source": [
    "data_filtered.columns"
   ]
  },
  {
   "cell_type": "code",
   "execution_count": 306,
   "id": "58e758ad-5104-4165-8a3c-4edb7305c540",
   "metadata": {},
   "outputs": [],
   "source": [
    "data_filtered_year = data_filtered[data_filtered[\"Год\"] > 2010].copy()\n",
    "cites_year = data_filtered_year.groupby([\"theme\", \"Год\"])[\"Цитирования\"].mean()\n",
    "themes = []\n",
    "years = sorted(data_filtered_year[\"Год\"].unique())\n",
    "for t in data_filtered_year[\"theme\"].unique():\n",
    "    data_source[t] = cites_year[t].values.tolist()\n",
    "    themes.append(t)\n",
    "data_source[\"years\"] = [str(i) for i in years]\n",
    "\n",
    "# counts_year_theme = np.unique(counts_year.index.get_level_values(0)).tolist()\n",
    "# counts_year_year = counts_year.index.get_level_values(1).unique().tolist()"
   ]
  },
  {
   "cell_type": "code",
   "execution_count": 314,
   "id": "266e14dc-330f-4076-8e8b-2d3cc4964257",
   "metadata": {},
   "outputs": [
    {
     "data": {
      "text/html": [
       "\n",
       "\n",
       "\n",
       "\n",
       "\n",
       "\n",
       "  <div class=\"bk-root\" id=\"8810390c-4079-4f6d-ac2d-7a8e67993ff5\" data-root-id=\"16897\"></div>\n"
      ]
     },
     "metadata": {},
     "output_type": "display_data"
    },
    {
     "data": {
      "application/javascript": [
       "(function(root) {\n",
       "  function embed_document(root) {\n",
       "    \n",
       "  var docs_json = {\"2db71efd-c73d-475f-b0c4-c9a8aeb78dc0\":{\"defs\":[],\"roots\":{\"references\":[{\"attributes\":{\"below\":[{\"id\":\"16908\"}],\"center\":[{\"id\":\"16910\"},{\"id\":\"16914\"},{\"id\":\"16937\"}],\"height\":300,\"left\":[{\"id\":\"16911\"}],\"outline_line_color\":null,\"renderers\":[{\"id\":\"16926\"},{\"id\":\"16943\"},{\"id\":\"16961\"}],\"title\":{\"id\":\"16898\"},\"toolbar\":{\"id\":\"16915\"},\"toolbar_location\":null,\"x_range\":{\"id\":\"16900\"},\"x_scale\":{\"id\":\"16904\"},\"y_range\":{\"id\":\"16902\"},\"y_scale\":{\"id\":\"16906\"}},\"id\":\"16897\",\"subtype\":\"Figure\",\"type\":\"Plot\"},{\"attributes\":{\"active_multi\":null},\"id\":\"16915\",\"type\":\"Toolbar\"},{\"attributes\":{},\"id\":\"16904\",\"type\":\"CategoricalScale\"},{\"attributes\":{},\"id\":\"16974\",\"type\":\"UnionRenderers\"},{\"attributes\":{\"bottom\":{\"expr\":{\"id\":\"16920\"}},\"fill_alpha\":{\"value\":0.1},\"fill_color\":{\"value\":\"#e84d60\"},\"line_alpha\":{\"value\":0.1},\"line_color\":{\"value\":\"#e84d60\"},\"top\":{\"expr\":{\"id\":\"16921\"}},\"width\":{\"value\":0.9},\"x\":{\"field\":\"years\"}},\"id\":\"16960\",\"type\":\"VBar\"},{\"attributes\":{\"fields\":[\"\\u0417\\u0434\\u043e\\u0440\\u043e\\u0432\\u044c\\u0435\",\"\\u042d\\u043a\\u043e\\u043b\\u043e\\u0433\\u0438\\u044f\"]},\"id\":\"16919\",\"type\":\"Stack\"},{\"attributes\":{\"source\":{\"id\":\"16922\"}},\"id\":\"16927\",\"type\":\"CDSView\"},{\"attributes\":{},\"id\":\"16936\",\"type\":\"Selection\"},{\"attributes\":{\"formatter\":{\"id\":\"16931\"},\"major_label_policy\":{\"id\":\"16930\"},\"minor_tick_line_color\":null,\"ticker\":{\"id\":\"16909\"}},\"id\":\"16908\",\"type\":\"CategoricalAxis\"},{\"attributes\":{\"axis\":{\"id\":\"16908\"},\"grid_line_color\":null,\"ticker\":null},\"id\":\"16910\",\"type\":\"Grid\"},{\"attributes\":{\"bottom\":{\"expr\":{\"id\":\"16916\"}},\"fill_alpha\":{\"value\":0.1},\"fill_color\":{\"value\":\"#c9d9d3\"},\"line_alpha\":{\"value\":0.1},\"line_color\":{\"value\":\"#c9d9d3\"},\"top\":{\"expr\":{\"id\":\"16917\"}},\"width\":{\"value\":0.9},\"x\":{\"field\":\"years\"}},\"id\":\"16925\",\"type\":\"VBar\"},{\"attributes\":{\"text\":\"\\u0421\\u0440\\u0435\\u0434\\u043d\\u0435\\u0435 \\u0446\\u0438\\u0442\\u0438\\u0440\\u043e\\u0432\\u0430\\u043d\\u0438\\u0435 \\u0441\\u0442\\u0430\\u0442\\u0435\\u0439 \\u043f\\u043e \\u0433\\u043e\\u0434\\u0430\\u043c \\u0438 \\u0442\\u0435\\u043c\\u0430\\u043c\"},\"id\":\"16898\",\"type\":\"Title\"},{\"attributes\":{\"start\":0},\"id\":\"16902\",\"type\":\"DataRange1d\"},{\"attributes\":{\"data\":{\"years\":[\"2011\",\"2012\",\"2013\",\"2014\",\"2015\",\"2016\",\"2017\",\"2018\",\"2019\",\"2020\",\"2021\"],\"\\u0417\\u0434\\u043e\\u0440\\u043e\\u0432\\u044c\\u0435\":[21.6,27.75,21.333333333333332,63.8,15.8,24.36842105263158,17.5,12.041666666666666,7.5,3.090909090909091,2.0],\"\\u042d\\u043a\\u043e\\u043b\\u043e\\u0433\\u0438\\u044f\":[50.166666666666664,47.3125,57.705882352941174,28.833333333333332,32.357142857142854,29.85185185185185,22.657894736842106,21.678571428571427,21.238095238095237,6.627450980392157,4.3125],\"\\u042d\\u043a\\u043e\\u043d\\u043e\\u043c\\u0438\\u043a\\u0430\":[33.850746268656714,38.18604651162791,21.847826086956523,27.844827586206897,23.41509433962264,19.964912280701753,20.70731707317073,14.241935483870968,12.177215189873417,5.613636363636363,2.466666666666667]},\"selected\":{\"id\":\"16975\"},\"selection_policy\":{\"id\":\"16974\"}},\"id\":\"16957\",\"type\":\"ColumnDataSource\"},{\"attributes\":{\"label\":{\"value\":\"\\u0417\\u0434\\u043e\\u0440\\u043e\\u0432\\u044c\\u0435\"},\"renderers\":[{\"id\":\"16926\"}]},\"id\":\"16938\",\"type\":\"LegendItem\"},{\"attributes\":{\"bottom\":{\"expr\":{\"id\":\"16920\"}},\"fill_color\":{\"value\":\"#e84d60\"},\"line_color\":{\"value\":\"#e84d60\"},\"top\":{\"expr\":{\"id\":\"16921\"}},\"width\":{\"value\":0.9},\"x\":{\"field\":\"years\"}},\"id\":\"16959\",\"type\":\"VBar\"},{\"attributes\":{},\"id\":\"16935\",\"type\":\"UnionRenderers\"},{\"attributes\":{\"source\":{\"id\":\"16939\"}},\"id\":\"16944\",\"type\":\"CDSView\"},{\"attributes\":{\"bottom\":{\"expr\":{\"id\":\"16918\"}},\"fill_alpha\":{\"value\":0.1},\"fill_color\":{\"value\":\"#718dbf\"},\"line_alpha\":{\"value\":0.1},\"line_color\":{\"value\":\"#718dbf\"},\"top\":{\"expr\":{\"id\":\"16919\"}},\"width\":{\"value\":0.9},\"x\":{\"field\":\"years\"}},\"id\":\"16942\",\"type\":\"VBar\"},{\"attributes\":{\"fields\":[\"\\u0417\\u0434\\u043e\\u0440\\u043e\\u0432\\u044c\\u0435\"]},\"id\":\"16918\",\"type\":\"Stack\"},{\"attributes\":{\"factors\":[\"2011\",\"2012\",\"2013\",\"2014\",\"2015\",\"2016\",\"2017\",\"2018\",\"2019\",\"2020\",\"2021\"],\"range_padding\":0.1},\"id\":\"16900\",\"type\":\"FactorRange\"},{\"attributes\":{},\"id\":\"16954\",\"type\":\"UnionRenderers\"},{\"attributes\":{\"data_source\":{\"id\":\"16939\"},\"glyph\":{\"id\":\"16941\"},\"hover_glyph\":null,\"muted_glyph\":null,\"name\":\"\\u042d\\u043a\\u043e\\u043b\\u043e\\u0433\\u0438\\u044f\",\"nonselection_glyph\":{\"id\":\"16942\"},\"view\":{\"id\":\"16944\"}},\"id\":\"16943\",\"type\":\"GlyphRenderer\"},{\"attributes\":{\"fields\":[\"\\u0417\\u0434\\u043e\\u0440\\u043e\\u0432\\u044c\\u0435\",\"\\u042d\\u043a\\u043e\\u043b\\u043e\\u0433\\u0438\\u044f\",\"\\u042d\\u043a\\u043e\\u043d\\u043e\\u043c\\u0438\\u043a\\u0430\"]},\"id\":\"16921\",\"type\":\"Stack\"},{\"attributes\":{\"fields\":[]},\"id\":\"16916\",\"type\":\"Stack\"},{\"attributes\":{},\"id\":\"16975\",\"type\":\"Selection\"},{\"attributes\":{\"items\":[{\"id\":\"16938\"},{\"id\":\"16956\"},{\"id\":\"16976\"}],\"orientation\":\"horizontal\"},\"id\":\"16937\",\"type\":\"Legend\"},{\"attributes\":{\"label\":{\"value\":\"\\u042d\\u043a\\u043e\\u043d\\u043e\\u043c\\u0438\\u043a\\u0430\"},\"renderers\":[{\"id\":\"16961\"}]},\"id\":\"16976\",\"type\":\"LegendItem\"},{\"attributes\":{\"data\":{\"years\":[\"2011\",\"2012\",\"2013\",\"2014\",\"2015\",\"2016\",\"2017\",\"2018\",\"2019\",\"2020\",\"2021\"],\"\\u0417\\u0434\\u043e\\u0440\\u043e\\u0432\\u044c\\u0435\":[21.6,27.75,21.333333333333332,63.8,15.8,24.36842105263158,17.5,12.041666666666666,7.5,3.090909090909091,2.0],\"\\u042d\\u043a\\u043e\\u043b\\u043e\\u0433\\u0438\\u044f\":[50.166666666666664,47.3125,57.705882352941174,28.833333333333332,32.357142857142854,29.85185185185185,22.657894736842106,21.678571428571427,21.238095238095237,6.627450980392157,4.3125],\"\\u042d\\u043a\\u043e\\u043d\\u043e\\u043c\\u0438\\u043a\\u0430\":[33.850746268656714,38.18604651162791,21.847826086956523,27.844827586206897,23.41509433962264,19.964912280701753,20.70731707317073,14.241935483870968,12.177215189873417,5.613636363636363,2.466666666666667]},\"selected\":{\"id\":\"16955\"},\"selection_policy\":{\"id\":\"16954\"}},\"id\":\"16939\",\"type\":\"ColumnDataSource\"},{\"attributes\":{},\"id\":\"16955\",\"type\":\"Selection\"},{\"attributes\":{},\"id\":\"16909\",\"type\":\"CategoricalTicker\"},{\"attributes\":{\"data_source\":{\"id\":\"16957\"},\"glyph\":{\"id\":\"16959\"},\"hover_glyph\":null,\"muted_glyph\":null,\"name\":\"\\u042d\\u043a\\u043e\\u043d\\u043e\\u043c\\u0438\\u043a\\u0430\",\"nonselection_glyph\":{\"id\":\"16960\"},\"view\":{\"id\":\"16962\"}},\"id\":\"16961\",\"type\":\"GlyphRenderer\"},{\"attributes\":{},\"id\":\"16933\",\"type\":\"AllLabels\"},{\"attributes\":{},\"id\":\"16906\",\"type\":\"LinearScale\"},{\"attributes\":{\"axis\":{\"id\":\"16911\"},\"dimension\":1,\"ticker\":null},\"id\":\"16914\",\"type\":\"Grid\"},{\"attributes\":{\"source\":{\"id\":\"16957\"}},\"id\":\"16962\",\"type\":\"CDSView\"},{\"attributes\":{\"bottom\":{\"expr\":{\"id\":\"16916\"}},\"fill_color\":{\"value\":\"#c9d9d3\"},\"line_color\":{\"value\":\"#c9d9d3\"},\"top\":{\"expr\":{\"id\":\"16917\"}},\"width\":{\"value\":0.9},\"x\":{\"field\":\"years\"}},\"id\":\"16924\",\"type\":\"VBar\"},{\"attributes\":{\"bottom\":{\"expr\":{\"id\":\"16918\"}},\"fill_color\":{\"value\":\"#718dbf\"},\"line_color\":{\"value\":\"#718dbf\"},\"top\":{\"expr\":{\"id\":\"16919\"}},\"width\":{\"value\":0.9},\"x\":{\"field\":\"years\"}},\"id\":\"16941\",\"type\":\"VBar\"},{\"attributes\":{},\"id\":\"16934\",\"type\":\"BasicTickFormatter\"},{\"attributes\":{\"fields\":[\"\\u0417\\u0434\\u043e\\u0440\\u043e\\u0432\\u044c\\u0435\"]},\"id\":\"16917\",\"type\":\"Stack\"},{\"attributes\":{},\"id\":\"16930\",\"type\":\"AllLabels\"},{\"attributes\":{\"label\":{\"value\":\"\\u042d\\u043a\\u043e\\u043b\\u043e\\u0433\\u0438\\u044f\"},\"renderers\":[{\"id\":\"16943\"}]},\"id\":\"16956\",\"type\":\"LegendItem\"},{\"attributes\":{\"axis_label\":\"\\u041a\\u043e\\u043b\\u0438\\u0447\\u0435\\u0441\\u0442\\u0432\\u043e \\u0446\\u0438\\u0442\\u0438\\u0440\\u043e\\u0432\\u0430\\u043d\\u0438\\u0439\",\"formatter\":{\"id\":\"16934\"},\"major_label_policy\":{\"id\":\"16933\"},\"minor_tick_line_color\":null,\"ticker\":{\"id\":\"16912\"}},\"id\":\"16911\",\"type\":\"LinearAxis\"},{\"attributes\":{\"fields\":[\"\\u0417\\u0434\\u043e\\u0440\\u043e\\u0432\\u044c\\u0435\",\"\\u042d\\u043a\\u043e\\u043b\\u043e\\u0433\\u0438\\u044f\"]},\"id\":\"16920\",\"type\":\"Stack\"},{\"attributes\":{},\"id\":\"16931\",\"type\":\"CategoricalTickFormatter\"},{\"attributes\":{\"data_source\":{\"id\":\"16922\"},\"glyph\":{\"id\":\"16924\"},\"hover_glyph\":null,\"muted_glyph\":null,\"name\":\"\\u0417\\u0434\\u043e\\u0440\\u043e\\u0432\\u044c\\u0435\",\"nonselection_glyph\":{\"id\":\"16925\"},\"view\":{\"id\":\"16927\"}},\"id\":\"16926\",\"type\":\"GlyphRenderer\"},{\"attributes\":{},\"id\":\"16912\",\"type\":\"BasicTicker\"},{\"attributes\":{\"data\":{\"years\":[\"2011\",\"2012\",\"2013\",\"2014\",\"2015\",\"2016\",\"2017\",\"2018\",\"2019\",\"2020\",\"2021\"],\"\\u0417\\u0434\\u043e\\u0440\\u043e\\u0432\\u044c\\u0435\":[21.6,27.75,21.333333333333332,63.8,15.8,24.36842105263158,17.5,12.041666666666666,7.5,3.090909090909091,2.0],\"\\u042d\\u043a\\u043e\\u043b\\u043e\\u0433\\u0438\\u044f\":[50.166666666666664,47.3125,57.705882352941174,28.833333333333332,32.357142857142854,29.85185185185185,22.657894736842106,21.678571428571427,21.238095238095237,6.627450980392157,4.3125],\"\\u042d\\u043a\\u043e\\u043d\\u043e\\u043c\\u0438\\u043a\\u0430\":[33.850746268656714,38.18604651162791,21.847826086956523,27.844827586206897,23.41509433962264,19.964912280701753,20.70731707317073,14.241935483870968,12.177215189873417,5.613636363636363,2.466666666666667]},\"selected\":{\"id\":\"16936\"},\"selection_policy\":{\"id\":\"16935\"}},\"id\":\"16922\",\"type\":\"ColumnDataSource\"}],\"root_ids\":[\"16897\"]},\"title\":\"Bokeh Application\",\"version\":\"2.3.2\"}};\n",
       "  var render_items = [{\"docid\":\"2db71efd-c73d-475f-b0c4-c9a8aeb78dc0\",\"root_ids\":[\"16897\"],\"roots\":{\"16897\":\"8810390c-4079-4f6d-ac2d-7a8e67993ff5\"}}];\n",
       "  root.Bokeh.embed.embed_items_notebook(docs_json, render_items);\n",
       "\n",
       "  }\n",
       "  if (root.Bokeh !== undefined) {\n",
       "    embed_document(root);\n",
       "  } else {\n",
       "    var attempts = 0;\n",
       "    var timer = setInterval(function(root) {\n",
       "      if (root.Bokeh !== undefined) {\n",
       "        clearInterval(timer);\n",
       "        embed_document(root);\n",
       "      } else {\n",
       "        attempts++;\n",
       "        if (attempts > 100) {\n",
       "          clearInterval(timer);\n",
       "          console.log(\"Bokeh: ERROR: Unable to run BokehJS code because BokehJS library is missing\");\n",
       "        }\n",
       "      }\n",
       "    }, 10, root)\n",
       "  }\n",
       "})(window);"
      ],
      "application/vnd.bokehjs_exec.v0+json": ""
     },
     "metadata": {
      "application/vnd.bokehjs_exec.v0+json": {
       "id": "16897"
      }
     },
     "output_type": "display_data"
    }
   ],
   "source": [
    "colors = [\"#c9d9d3\", \"#718dbf\", \"#e84d60\"]\n",
    "\n",
    "p = figure(\n",
    "    x_range=data_source[\"years\"],\n",
    "    plot_height=300,\n",
    "    title=\"Среднее цитирование статей по годам и темам\",\n",
    "    toolbar_location=None,\n",
    "    tools=\"\",\n",
    ")\n",
    "\n",
    "p.vbar_stack(\n",
    "    themes, x=\"years\", width=0.9, color=colors, source=data_source, legend_label=themes\n",
    ")\n",
    "\n",
    "p.y_range.start = 0\n",
    "p.yaxis.axis_label = \"Количество цитирований\"\n",
    "p.x_range.range_padding = 0.1\n",
    "p.xgrid.grid_line_color = None\n",
    "p.axis.minor_tick_line_color = None\n",
    "p.outline_line_color = None\n",
    "p.legend.location = \"top_right\"\n",
    "p.legend.orientation = \"horizontal\"\n",
    "\n",
    "show(p)"
   ]
  },
  {
   "cell_type": "code",
   "execution_count": 324,
   "id": "cbf2dd0c-3d63-4e40-a372-cb9cf68b7c7d",
   "metadata": {},
   "outputs": [
    {
     "ename": "ValueError",
     "evalue": "Unable to parse string \"Int. J. Environ. Res. Public Health\" at position 24",
     "output_type": "error",
     "traceback": [
      "\u001b[1;31m---------------------------------------------------------------------------\u001b[0m",
      "\u001b[1;31mValueError\u001b[0m                                Traceback (most recent call last)",
      "\u001b[1;32mpandas\\_libs\\lib.pyx\u001b[0m in \u001b[0;36mpandas._libs.lib.maybe_convert_numeric\u001b[1;34m()\u001b[0m\n",
      "\u001b[1;31mValueError\u001b[0m: Unable to parse string \"Int. J. Environ. Res. Public Health\"",
      "\nDuring handling of the above exception, another exception occurred:\n",
      "\u001b[1;31mValueError\u001b[0m                                Traceback (most recent call last)",
      "\u001b[1;32m<ipython-input-324-87e4b843414a>\u001b[0m in \u001b[0;36m<module>\u001b[1;34m\u001b[0m\n\u001b[1;32m----> 1\u001b[1;33m \u001b[0mdata\u001b[0m\u001b[1;33m[\u001b[0m\u001b[1;34m'Цитирования'\u001b[0m\u001b[1;33m]\u001b[0m \u001b[1;33m=\u001b[0m \u001b[0mpd\u001b[0m\u001b[1;33m.\u001b[0m\u001b[0mto_numeric\u001b[0m\u001b[1;33m(\u001b[0m\u001b[0mdata\u001b[0m\u001b[1;33m[\u001b[0m\u001b[1;34m'Цитирования'\u001b[0m\u001b[1;33m]\u001b[0m\u001b[1;33m)\u001b[0m\u001b[1;33m\u001b[0m\u001b[1;33m\u001b[0m\u001b[0m\n\u001b[0m",
      "\u001b[1;32mC:\\Programs\\miniconda3\\envs\\gaz\\lib\\site-packages\\pandas\\core\\tools\\numeric.py\u001b[0m in \u001b[0;36mto_numeric\u001b[1;34m(arg, errors, downcast)\u001b[0m\n\u001b[0;32m    152\u001b[0m         \u001b[0mcoerce_numeric\u001b[0m \u001b[1;33m=\u001b[0m \u001b[0merrors\u001b[0m \u001b[1;32mnot\u001b[0m \u001b[1;32min\u001b[0m \u001b[1;33m(\u001b[0m\u001b[1;34m\"ignore\"\u001b[0m\u001b[1;33m,\u001b[0m \u001b[1;34m\"raise\"\u001b[0m\u001b[1;33m)\u001b[0m\u001b[1;33m\u001b[0m\u001b[1;33m\u001b[0m\u001b[0m\n\u001b[0;32m    153\u001b[0m         \u001b[1;32mtry\u001b[0m\u001b[1;33m:\u001b[0m\u001b[1;33m\u001b[0m\u001b[1;33m\u001b[0m\u001b[0m\n\u001b[1;32m--> 154\u001b[1;33m             values = lib.maybe_convert_numeric(\n\u001b[0m\u001b[0;32m    155\u001b[0m                 \u001b[0mvalues\u001b[0m\u001b[1;33m,\u001b[0m \u001b[0mset\u001b[0m\u001b[1;33m(\u001b[0m\u001b[1;33m)\u001b[0m\u001b[1;33m,\u001b[0m \u001b[0mcoerce_numeric\u001b[0m\u001b[1;33m=\u001b[0m\u001b[0mcoerce_numeric\u001b[0m\u001b[1;33m\u001b[0m\u001b[1;33m\u001b[0m\u001b[0m\n\u001b[0;32m    156\u001b[0m             )\n",
      "\u001b[1;32mpandas\\_libs\\lib.pyx\u001b[0m in \u001b[0;36mpandas._libs.lib.maybe_convert_numeric\u001b[1;34m()\u001b[0m\n",
      "\u001b[1;31mValueError\u001b[0m: Unable to parse string \"Int. J. Environ. Res. Public Health\" at position 24"
     ]
    }
   ],
   "source": [
    "data['Цитирования'] = pd.to_numeric(data['Цитирования'])"
   ]
  },
  {
   "cell_type": "code",
   "execution_count": 332,
   "id": "2a7a1a0d-ac5f-4568-a377-a3680be0f12f",
   "metadata": {},
   "outputs": [
    {
     "data": {
      "text/html": [
       "<div>\n",
       "<style scoped>\n",
       "    .dataframe tbody tr th:only-of-type {\n",
       "        vertical-align: middle;\n",
       "    }\n",
       "\n",
       "    .dataframe tbody tr th {\n",
       "        vertical-align: top;\n",
       "    }\n",
       "\n",
       "    .dataframe thead th {\n",
       "        text-align: right;\n",
       "    }\n",
       "</style>\n",
       "<table border=\"1\" class=\"dataframe\">\n",
       "  <thead>\n",
       "    <tr style=\"text-align: right;\">\n",
       "      <th></th>\n",
       "      <th>Цитирования</th>\n",
       "      <th>Название</th>\n",
       "    </tr>\n",
       "  </thead>\n",
       "  <tbody>\n",
       "    <tr>\n",
       "      <th>561</th>\n",
       "      <td>4.0</td>\n",
       "      <td>What are the main environmental exposures asso...</td>\n",
       "    </tr>\n",
       "    <tr>\n",
       "      <th>544</th>\n",
       "      <td>6.0</td>\n",
       "      <td>Hydraulic fracturing and the risk of silicosis</td>\n",
       "    </tr>\n",
       "    <tr>\n",
       "      <th>562</th>\n",
       "      <td>6.0</td>\n",
       "      <td>Modeling the effects of immunizations timing o...</td>\n",
       "    </tr>\n",
       "    <tr>\n",
       "      <th>547</th>\n",
       "      <td>6.0</td>\n",
       "      <td>Shale gas regulation in the UK and health impl...</td>\n",
       "    </tr>\n",
       "    <tr>\n",
       "      <th>568</th>\n",
       "      <td>7.0</td>\n",
       "      <td>Mansonella ozzardi (Nematoda: Onchocercidae) i...</td>\n",
       "    </tr>\n",
       "    <tr>\n",
       "      <th>543</th>\n",
       "      <td>7.0</td>\n",
       "      <td>Sonochemistry in the service of SOFC research</td>\n",
       "    </tr>\n",
       "    <tr>\n",
       "      <th>508</th>\n",
       "      <td>8.0</td>\n",
       "      <td>Hospital bioterrorism planning and burn surge</td>\n",
       "    </tr>\n",
       "    <tr>\n",
       "      <th>524</th>\n",
       "      <td>9.0</td>\n",
       "      <td>Genetic resources for methane production from ...</td>\n",
       "    </tr>\n",
       "    <tr>\n",
       "      <th>495</th>\n",
       "      <td>11.0</td>\n",
       "      <td>Injury rates on new and old technology oil and...</td>\n",
       "    </tr>\n",
       "    <tr>\n",
       "      <th>566</th>\n",
       "      <td>18.0</td>\n",
       "      <td>Uneven futures of human lifespans: Reckonings ...</td>\n",
       "    </tr>\n",
       "    <tr>\n",
       "      <th>529</th>\n",
       "      <td>19.0</td>\n",
       "      <td>Environmental health research recommendations ...</td>\n",
       "    </tr>\n",
       "    <tr>\n",
       "      <th>499</th>\n",
       "      <td>20.0</td>\n",
       "      <td>Field survey of health perception and complain...</td>\n",
       "    </tr>\n",
       "    <tr>\n",
       "      <th>551</th>\n",
       "      <td>23.0</td>\n",
       "      <td>Household air quality risk factors associated ...</td>\n",
       "    </tr>\n",
       "    <tr>\n",
       "      <th>521</th>\n",
       "      <td>24.0</td>\n",
       "      <td>Assessing impacts of unconventional natural ga...</td>\n",
       "    </tr>\n",
       "    <tr>\n",
       "      <th>507</th>\n",
       "      <td>33.0</td>\n",
       "      <td>Assessment of ecological and human health risk...</td>\n",
       "    </tr>\n",
       "    <tr>\n",
       "      <th>572</th>\n",
       "      <td>44.0</td>\n",
       "      <td>Hybrid reactor based on combined cavitation an...</td>\n",
       "    </tr>\n",
       "    <tr>\n",
       "      <th>569</th>\n",
       "      <td>51.0</td>\n",
       "      <td>Pollutant exposures from natural gas cooking b...</td>\n",
       "    </tr>\n",
       "    <tr>\n",
       "      <th>528</th>\n",
       "      <td>74.0</td>\n",
       "      <td>Developmental and reproductive effects of chem...</td>\n",
       "    </tr>\n",
       "    <tr>\n",
       "      <th>565</th>\n",
       "      <td>201.0</td>\n",
       "      <td>Birth outcomes and maternal residential proxim...</td>\n",
       "    </tr>\n",
       "    <tr>\n",
       "      <th>552</th>\n",
       "      <td>705.0</td>\n",
       "      <td>Outdoor air pollution and asthma</td>\n",
       "    </tr>\n",
       "  </tbody>\n",
       "</table>\n",
       "</div>"
      ],
      "text/plain": [
       "     Цитирования                                           Название\n",
       "561          4.0  What are the main environmental exposures asso...\n",
       "544          6.0     Hydraulic fracturing and the risk of silicosis\n",
       "562          6.0  Modeling the effects of immunizations timing o...\n",
       "547          6.0  Shale gas regulation in the UK and health impl...\n",
       "568          7.0  Mansonella ozzardi (Nematoda: Onchocercidae) i...\n",
       "543          7.0      Sonochemistry in the service of SOFC research\n",
       "508          8.0      Hospital bioterrorism planning and burn surge\n",
       "524          9.0  Genetic resources for methane production from ...\n",
       "495         11.0  Injury rates on new and old technology oil and...\n",
       "566         18.0  Uneven futures of human lifespans: Reckonings ...\n",
       "529         19.0  Environmental health research recommendations ...\n",
       "499         20.0  Field survey of health perception and complain...\n",
       "551         23.0  Household air quality risk factors associated ...\n",
       "521         24.0  Assessing impacts of unconventional natural ga...\n",
       "507         33.0  Assessment of ecological and human health risk...\n",
       "572         44.0  Hybrid reactor based on combined cavitation an...\n",
       "569         51.0  Pollutant exposures from natural gas cooking b...\n",
       "528         74.0  Developmental and reproductive effects of chem...\n",
       "565        201.0  Birth outcomes and maternal residential proxim...\n",
       "552        705.0                   Outdoor air pollution and asthma"
      ]
     },
     "execution_count": 332,
     "metadata": {},
     "output_type": "execute_result"
    }
   ],
   "source": [
    "data_filtered[(data_filtered[\"theme\"] == \"Здоровье\") & (data_filtered[\"Год\"] == 2014)][\n",
    "    [\"Цитирования\", \"Название\"]\n",
    "].dropna().sort_values(by=\"Цитирования\")"
   ]
  },
  {
   "cell_type": "code",
   "execution_count": 326,
   "id": "c6ab3991-24b2-4454-8861-ca6f649e494d",
   "metadata": {},
   "outputs": [
    {
     "data": {
      "text/plain": [
       "0       NaN\n",
       "1       NaN\n",
       "2       NaN\n",
       "3       NaN\n",
       "4       NaN\n",
       "       ... \n",
       "1663    NaN\n",
       "1664    NaN\n",
       "1665    NaN\n",
       "1666    NaN\n",
       "1667    NaN\n",
       "Name: Цитирования, Length: 3685, dtype: object"
      ]
     },
     "execution_count": 326,
     "metadata": {},
     "output_type": "execute_result"
    }
   ],
   "source": [
    "data[\"Цитирования\"]"
   ]
  }
 ],
 "metadata": {
  "kernelspec": {
   "display_name": "Python 3",
   "language": "python",
   "name": "python3"
  },
  "language_info": {
   "codemirror_mode": {
    "name": "ipython",
    "version": 3
   },
   "file_extension": ".py",
   "mimetype": "text/x-python",
   "name": "python",
   "nbconvert_exporter": "python",
   "pygments_lexer": "ipython3",
   "version": "3.8.10"
  }
 },
 "nbformat": 4,
 "nbformat_minor": 5
}
