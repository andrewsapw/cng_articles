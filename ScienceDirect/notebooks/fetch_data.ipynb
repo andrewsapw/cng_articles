{
 "cells": [
  {
   "cell_type": "code",
   "execution_count": 15,
   "metadata": {},
   "outputs": [],
   "source": [
    "import sys\n",
    "sys.path.insert(0, \"../scripts/\")\n",
    "\n",
    "from scdir import find, get_text_batch, get_text\n",
    "import pandas as pd\n",
    "import requests\n",
    "\n",
    "from bs4 import BeautifulSoup\n",
    "import unicodedata\n",
    "import numpy as np"
   ]
  },
  {
   "cell_type": "markdown",
   "metadata": {},
   "source": [
    "## Получение списка идентификоторв PII по заданному поиску "
   ]
  },
  {
   "cell_type": "code",
   "execution_count": 7,
   "metadata": {
    "tags": []
   },
   "outputs": [
    {
     "name": "stderr",
     "output_type": "stream",
     "text": [
      "  0%|                                                                                           | 0/30 [00:00<?, ?it/s]"
     ]
    },
    {
     "name": "stdout",
     "output_type": "stream",
     "text": [
      "RESULTS COUNT: 3021\n"
     ]
    },
    {
     "name": "stderr",
     "output_type": "stream",
     "text": [
      " 27%|██████████████████████▏                                                            | 8/30 [00:06<00:18,  1.17it/s]"
     ]
    },
    {
     "name": "stdout",
     "output_type": "stream",
     "text": [
      "Retrying... 429\n"
     ]
    },
    {
     "name": "stderr",
     "output_type": "stream",
     "text": [
      "100%|██████████████████████████████████████████████████████████████████████████████████| 30/30 [00:25<00:00,  1.19it/s]\n"
     ]
    }
   ],
   "source": [
    "search_results = []\n",
    "for res in find('(lifespan OR health) AND (\"natural gas\")', wait_time=1, on_page_count=100):\n",
    "    search_results += res"
   ]
  },
  {
   "cell_type": "markdown",
   "metadata": {},
   "source": [
    "> Фильтрация сломанных данных"
   ]
  },
  {
   "cell_type": "code",
   "execution_count": 24,
   "metadata": {},
   "outputs": [],
   "source": [
    "search_results = [i for i in search_results if len(i) == 3]"
   ]
  },
  {
   "cell_type": "code",
   "execution_count": 50,
   "metadata": {},
   "outputs": [
    {
     "data": {
      "text/html": [
       "<div>\n",
       "<style scoped>\n",
       "    .dataframe tbody tr th:only-of-type {\n",
       "        vertical-align: middle;\n",
       "    }\n",
       "\n",
       "    .dataframe tbody tr th {\n",
       "        vertical-align: top;\n",
       "    }\n",
       "\n",
       "    .dataframe thead th {\n",
       "        text-align: right;\n",
       "    }\n",
       "</style>\n",
       "<table border=\"1\" class=\"dataframe\">\n",
       "  <thead>\n",
       "    <tr style=\"text-align: right;\">\n",
       "      <th></th>\n",
       "      <th>pii</th>\n",
       "      <th>title</th>\n",
       "      <th>date</th>\n",
       "    </tr>\n",
       "  </thead>\n",
       "  <tbody>\n",
       "    <tr>\n",
       "      <th>0</th>\n",
       "      <td>S2666765721000478</td>\n",
       "      <td>Survey of Airborne Organic Compounds in Reside...</td>\n",
       "      <td>2021-06-13T00:00:00.000Z</td>\n",
       "    </tr>\n",
       "    <tr>\n",
       "      <th>1</th>\n",
       "      <td>S0269749119376717</td>\n",
       "      <td>Natural gas leaks and tree death: A first-look...</td>\n",
       "      <td>2020-04-03T00:00:00.000Z</td>\n",
       "    </tr>\n",
       "    <tr>\n",
       "      <th>2</th>\n",
       "      <td>S2352484721000202</td>\n",
       "      <td>Experimental optimization of engine performanc...</td>\n",
       "      <td>2021-01-21T00:00:00.000Z</td>\n",
       "    </tr>\n",
       "    <tr>\n",
       "      <th>3</th>\n",
       "      <td>S2213138820300308</td>\n",
       "      <td>Environmental life cycle assessment of glyceri...</td>\n",
       "      <td>2020-10-09T00:00:00.000Z</td>\n",
       "    </tr>\n",
       "    <tr>\n",
       "      <th>4</th>\n",
       "      <td>S2352484720312312</td>\n",
       "      <td>Comparative cost assessment of sustainable ene...</td>\n",
       "      <td>2020-07-23T00:00:00.000Z</td>\n",
       "    </tr>\n",
       "    <tr>\n",
       "      <th>...</th>\n",
       "      <td>...</td>\n",
       "      <td>...</td>\n",
       "      <td>...</td>\n",
       "    </tr>\n",
       "    <tr>\n",
       "      <th>2904</th>\n",
       "      <td>S1383586621006699</td>\n",
       "      <td>Advanced configurations for post-combustion CO...</td>\n",
       "      <td>2021-05-13T00:00:00.000Z</td>\n",
       "    </tr>\n",
       "    <tr>\n",
       "      <th>2905</th>\n",
       "      <td>S0021925818693585</td>\n",
       "      <td>The Depression of the Incorporation of Sulfur ...</td>\n",
       "      <td>2021-01-04T00:00:00.000Z</td>\n",
       "    </tr>\n",
       "    <tr>\n",
       "      <th>2906</th>\n",
       "      <td>S1750583619306395</td>\n",
       "      <td>CO&lt;ce:inf loc=post&gt;2&lt;/ce:inf&gt; capture adsorben...</td>\n",
       "      <td>2020-03-03T00:00:00.000Z</td>\n",
       "    </tr>\n",
       "    <tr>\n",
       "      <th>2907</th>\n",
       "      <td>S0360128516300442</td>\n",
       "      <td>Fuel consumption and CO&lt;ce:inf loc=post&gt;2&lt;/ce:...</td>\n",
       "      <td>2017-02-21T00:00:00.000Z</td>\n",
       "    </tr>\n",
       "    <tr>\n",
       "      <th>2908</th>\n",
       "      <td>S036012852030112X</td>\n",
       "      <td>Continuum scale modelling and complementary ex...</td>\n",
       "      <td>2021-04-13T00:00:00.000Z</td>\n",
       "    </tr>\n",
       "  </tbody>\n",
       "</table>\n",
       "<p>2909 rows × 3 columns</p>\n",
       "</div>"
      ],
      "text/plain": [
       "                    pii                                              title  \\\n",
       "0     S2666765721000478  Survey of Airborne Organic Compounds in Reside...   \n",
       "1     S0269749119376717  Natural gas leaks and tree death: A first-look...   \n",
       "2     S2352484721000202  Experimental optimization of engine performanc...   \n",
       "3     S2213138820300308  Environmental life cycle assessment of glyceri...   \n",
       "4     S2352484720312312  Comparative cost assessment of sustainable ene...   \n",
       "...                 ...                                                ...   \n",
       "2904  S1383586621006699  Advanced configurations for post-combustion CO...   \n",
       "2905  S0021925818693585  The Depression of the Incorporation of Sulfur ...   \n",
       "2906  S1750583619306395  CO<ce:inf loc=post>2</ce:inf> capture adsorben...   \n",
       "2907  S0360128516300442  Fuel consumption and CO<ce:inf loc=post>2</ce:...   \n",
       "2908  S036012852030112X  Continuum scale modelling and complementary ex...   \n",
       "\n",
       "                          date  \n",
       "0     2021-06-13T00:00:00.000Z  \n",
       "1     2020-04-03T00:00:00.000Z  \n",
       "2     2021-01-21T00:00:00.000Z  \n",
       "3     2020-10-09T00:00:00.000Z  \n",
       "4     2020-07-23T00:00:00.000Z  \n",
       "...                        ...  \n",
       "2904  2021-05-13T00:00:00.000Z  \n",
       "2905  2021-01-04T00:00:00.000Z  \n",
       "2906  2020-03-03T00:00:00.000Z  \n",
       "2907  2017-02-21T00:00:00.000Z  \n",
       "2908  2021-04-13T00:00:00.000Z  \n",
       "\n",
       "[2909 rows x 3 columns]"
      ]
     },
     "execution_count": 50,
     "metadata": {},
     "output_type": "execute_result"
    }
   ],
   "source": [
    "articles = pd.DataFrame(search_results, columns=(\"pii\", \"title\", \"date\"))\n",
    "articles = articles[articles['title'].apply(lambda x: 'abstracts' not in x.lower())]\n",
    "articles.index = pd.RangeIndex(len(articles))\n",
    "articles"
   ]
  },
  {
   "cell_type": "markdown",
   "metadata": {},
   "source": [
    "### Получение полных текстов статей"
   ]
  },
  {
   "cell_type": "code",
   "execution_count": 27,
   "metadata": {
    "tags": []
   },
   "outputs": [
    {
     "name": "stderr",
     "output_type": "stream",
     "text": [
      "100%|████████████████████████████████████████████████████████████████████████████| 2909/2909 [1:03:12<00:00,  1.30s/it]\n"
     ]
    }
   ],
   "source": [
    "texts = {}\n",
    "for link, text in get_text_batch(piis=articles['pii'], n_threads=3):\n",
    "    texts[link] = text"
   ]
  },
  {
   "cell_type": "code",
   "execution_count": 51,
   "metadata": {},
   "outputs": [],
   "source": [
    "articles = articles.merge(pd.DataFrame(texts.items(), columns=(\"pii\", \"text\")), on='pii')"
   ]
  },
  {
   "cell_type": "code",
   "execution_count": 52,
   "metadata": {},
   "outputs": [
    {
     "data": {
      "text/html": [
       "<div>\n",
       "<style scoped>\n",
       "    .dataframe tbody tr th:only-of-type {\n",
       "        vertical-align: middle;\n",
       "    }\n",
       "\n",
       "    .dataframe tbody tr th {\n",
       "        vertical-align: top;\n",
       "    }\n",
       "\n",
       "    .dataframe thead th {\n",
       "        text-align: right;\n",
       "    }\n",
       "</style>\n",
       "<table border=\"1\" class=\"dataframe\">\n",
       "  <thead>\n",
       "    <tr style=\"text-align: right;\">\n",
       "      <th></th>\n",
       "      <th>pii</th>\n",
       "      <th>title</th>\n",
       "      <th>date</th>\n",
       "      <th>text</th>\n",
       "    </tr>\n",
       "  </thead>\n",
       "  <tbody>\n",
       "    <tr>\n",
       "      <th>0</th>\n",
       "      <td>S2666765721000478</td>\n",
       "      <td>Survey of Airborne Organic Compounds in Reside...</td>\n",
       "      <td>2021-06-13T00:00:00.000Z</td>\n",
       "      <td>Natural gas production and use has increased i...</td>\n",
       "    </tr>\n",
       "    <tr>\n",
       "      <th>1</th>\n",
       "      <td>S0269749119376717</td>\n",
       "      <td>Natural gas leaks and tree death: A first-look...</td>\n",
       "      <td>2020-04-03T00:00:00.000Z</td>\n",
       "      <td>Urban vegetation, in particular tree canopy, i...</td>\n",
       "    </tr>\n",
       "    <tr>\n",
       "      <th>2</th>\n",
       "      <td>S2352484721000202</td>\n",
       "      <td>Experimental optimization of engine performanc...</td>\n",
       "      <td>2021-01-21T00:00:00.000Z</td>\n",
       "      <td>All data required for reproducing this researc...</td>\n",
       "    </tr>\n",
       "    <tr>\n",
       "      <th>3</th>\n",
       "      <td>S2213138820300308</td>\n",
       "      <td>Environmental life cycle assessment of glyceri...</td>\n",
       "      <td>2020-10-09T00:00:00.000Z</td>\n",
       "      <td>Glycerine is the usual commercial name in the ...</td>\n",
       "    </tr>\n",
       "    <tr>\n",
       "      <th>4</th>\n",
       "      <td>S2352484720312312</td>\n",
       "      <td>Comparative cost assessment of sustainable ene...</td>\n",
       "      <td>2020-07-23T00:00:00.000Z</td>\n",
       "      <td>The energy of natural gas can be transported i...</td>\n",
       "    </tr>\n",
       "    <tr>\n",
       "      <th>...</th>\n",
       "      <td>...</td>\n",
       "      <td>...</td>\n",
       "      <td>...</td>\n",
       "      <td>...</td>\n",
       "    </tr>\n",
       "    <tr>\n",
       "      <th>2904</th>\n",
       "      <td>S1383586621006699</td>\n",
       "      <td>Advanced configurations for post-combustion CO...</td>\n",
       "      <td>2021-05-13T00:00:00.000Z</td>\n",
       "      <td>Aqueous ammonia-based capture processes are am...</td>\n",
       "    </tr>\n",
       "    <tr>\n",
       "      <th>2905</th>\n",
       "      <td>S0021925818693585</td>\n",
       "      <td>The Depression of the Incorporation of Sulfur ...</td>\n",
       "      <td>2021-01-04T00:00:00.000Z</td>\n",
       "      <td></td>\n",
       "    </tr>\n",
       "    <tr>\n",
       "      <th>2906</th>\n",
       "      <td>S1750583619306395</td>\n",
       "      <td>CO&lt;ce:inf loc=post&gt;2&lt;/ce:inf&gt; capture adsorben...</td>\n",
       "      <td>2020-03-03T00:00:00.000Z</td>\n",
       "      <td>Because of the increasing environmental impact...</td>\n",
       "    </tr>\n",
       "    <tr>\n",
       "      <th>2907</th>\n",
       "      <td>S0360128516300442</td>\n",
       "      <td>Fuel consumption and CO&lt;ce:inf loc=post&gt;2&lt;/ce:...</td>\n",
       "      <td>2017-02-21T00:00:00.000Z</td>\n",
       "      <td>Road transport contributes about one-fifth of ...</td>\n",
       "    </tr>\n",
       "    <tr>\n",
       "      <th>2908</th>\n",
       "      <td>S036012852030112X</td>\n",
       "      <td>Continuum scale modelling and complementary ex...</td>\n",
       "      <td>2021-04-13T00:00:00.000Z</td>\n",
       "      <td>Forward Tafel slope, V Activity coefficient Re...</td>\n",
       "    </tr>\n",
       "  </tbody>\n",
       "</table>\n",
       "<p>2909 rows × 4 columns</p>\n",
       "</div>"
      ],
      "text/plain": [
       "                    pii                                              title  \\\n",
       "0     S2666765721000478  Survey of Airborne Organic Compounds in Reside...   \n",
       "1     S0269749119376717  Natural gas leaks and tree death: A first-look...   \n",
       "2     S2352484721000202  Experimental optimization of engine performanc...   \n",
       "3     S2213138820300308  Environmental life cycle assessment of glyceri...   \n",
       "4     S2352484720312312  Comparative cost assessment of sustainable ene...   \n",
       "...                 ...                                                ...   \n",
       "2904  S1383586621006699  Advanced configurations for post-combustion CO...   \n",
       "2905  S0021925818693585  The Depression of the Incorporation of Sulfur ...   \n",
       "2906  S1750583619306395  CO<ce:inf loc=post>2</ce:inf> capture adsorben...   \n",
       "2907  S0360128516300442  Fuel consumption and CO<ce:inf loc=post>2</ce:...   \n",
       "2908  S036012852030112X  Continuum scale modelling and complementary ex...   \n",
       "\n",
       "                          date  \\\n",
       "0     2021-06-13T00:00:00.000Z   \n",
       "1     2020-04-03T00:00:00.000Z   \n",
       "2     2021-01-21T00:00:00.000Z   \n",
       "3     2020-10-09T00:00:00.000Z   \n",
       "4     2020-07-23T00:00:00.000Z   \n",
       "...                        ...   \n",
       "2904  2021-05-13T00:00:00.000Z   \n",
       "2905  2021-01-04T00:00:00.000Z   \n",
       "2906  2020-03-03T00:00:00.000Z   \n",
       "2907  2017-02-21T00:00:00.000Z   \n",
       "2908  2021-04-13T00:00:00.000Z   \n",
       "\n",
       "                                                   text  \n",
       "0     Natural gas production and use has increased i...  \n",
       "1     Urban vegetation, in particular tree canopy, i...  \n",
       "2     All data required for reproducing this researc...  \n",
       "3     Glycerine is the usual commercial name in the ...  \n",
       "4     The energy of natural gas can be transported i...  \n",
       "...                                                 ...  \n",
       "2904  Aqueous ammonia-based capture processes are am...  \n",
       "2905                                                     \n",
       "2906  Because of the increasing environmental impact...  \n",
       "2907  Road transport contributes about one-fifth of ...  \n",
       "2908  Forward Tafel slope, V Activity coefficient Re...  \n",
       "\n",
       "[2909 rows x 4 columns]"
      ]
     },
     "execution_count": 52,
     "metadata": {},
     "output_type": "execute_result"
    }
   ],
   "source": [
    "articles"
   ]
  },
  {
   "cell_type": "code",
   "execution_count": 53,
   "metadata": {},
   "outputs": [],
   "source": [
    "articles = articles[articles['text'] != '']\n",
    "articles = articles[articles['text'].apply(lambda x: len(x) <= 92314)]"
   ]
  },
  {
   "cell_type": "code",
   "execution_count": 55,
   "metadata": {},
   "outputs": [],
   "source": [
    "articles.to_csv(\"../data/health_ng.csv\", index=False)"
   ]
  },
  {
   "cell_type": "code",
   "execution_count": null,
   "metadata": {},
   "outputs": [],
   "source": []
  }
 ],
 "metadata": {
  "kernelspec": {
   "display_name": "Python 3",
   "language": "python",
   "name": "python3"
  },
  "language_info": {
   "codemirror_mode": {
    "name": "ipython",
    "version": 3
   },
   "file_extension": ".py",
   "mimetype": "text/x-python",
   "name": "python",
   "nbconvert_exporter": "python",
   "pygments_lexer": "ipython3",
   "version": "3.8.10"
  }
 },
 "nbformat": 4,
 "nbformat_minor": 5
}