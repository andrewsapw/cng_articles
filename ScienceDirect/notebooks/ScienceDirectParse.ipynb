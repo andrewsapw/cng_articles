{
 "cells": [
  {
   "cell_type": "code",
   "execution_count": 15,
   "id": "cd3f2a2d-d913-437f-92f7-e7deebf149b3",
   "metadata": {},
   "outputs": [],
   "source": [
    "import sys\n",
    "sys.path.insert(0, \"../scripts/\")\n",
    "\n",
    "from scdir import find, get_text_batch, get_text\n",
    "import pandas as pd\n",
    "import requests\n",
    "\n",
    "from bs4 import BeautifulSoup\n",
    "import unicodedata\n",
    "import numpy as np"
   ]
  },
  {
   "cell_type": "code",
   "execution_count": 7,
   "id": "867c3916-d08b-4240-a079-0657d813e2d0",
   "metadata": {
    "tags": []
   },
   "outputs": [
    {
     "name": "stderr",
     "output_type": "stream",
     "text": [
      "  0%|                                                                                           | 0/30 [00:00<?, ?it/s]"
     ]
    },
    {
     "name": "stdout",
     "output_type": "stream",
     "text": [
      "RESULTS COUNT: 3021\n"
     ]
    },
    {
     "name": "stderr",
     "output_type": "stream",
     "text": [
      " 27%|██████████████████████▏                                                            | 8/30 [00:06<00:18,  1.17it/s]"
     ]
    },
    {
     "name": "stdout",
     "output_type": "stream",
     "text": [
      "Retrying... 429\n"
     ]
    },
    {
     "name": "stderr",
     "output_type": "stream",
     "text": [
      "100%|██████████████████████████████████████████████████████████████████████████████████| 30/30 [00:25<00:00,  1.19it/s]\n"
     ]
    }
   ],
   "source": [
    "search_results = []\n",
    "for res in find('(lifespan OR health) AND (\"natural gas\")', wait_time=1, on_page_count=100):\n",
    "    search_results += res"
   ]
  },
  {
   "cell_type": "code",
   "execution_count": 16,
   "id": "bf4357a0-f48a-4062-9cf3-8659a39e33ae",
   "metadata": {},
   "outputs": [
    {
     "data": {
      "text/plain": [
       "1000"
      ]
     },
     "execution_count": 16,
     "metadata": {},
     "output_type": "execute_result"
    }
   ],
   "source": [
    "np.argmax([len(i) for i in search_results])"
   ]
  },
  {
   "cell_type": "code",
   "execution_count": 24,
   "id": "5cce5ca9-c9c8-488e-858c-f8548a75012e",
   "metadata": {},
   "outputs": [],
   "source": [
    "search_results = [i for i in search_results if len(i) == 3]"
   ]
  },
  {
   "cell_type": "code",
   "execution_count": 25,
   "id": "a3cc4490-0f76-4753-a3b7-56bcc8237148",
   "metadata": {},
   "outputs": [
    {
     "data": {
      "text/plain": [
       "2921"
      ]
     },
     "execution_count": 25,
     "metadata": {},
     "output_type": "execute_result"
    }
   ],
   "source": [
    "len(search_results)"
   ]
  },
  {
   "cell_type": "code",
   "execution_count": 50,
   "id": "790567a8-1d76-4d8e-945c-2b5b73b552d4",
   "metadata": {},
   "outputs": [
    {
     "data": {
      "text/html": [
       "<div>\n",
       "<style scoped>\n",
       "    .dataframe tbody tr th:only-of-type {\n",
       "        vertical-align: middle;\n",
       "    }\n",
       "\n",
       "    .dataframe tbody tr th {\n",
       "        vertical-align: top;\n",
       "    }\n",
       "\n",
       "    .dataframe thead th {\n",
       "        text-align: right;\n",
       "    }\n",
       "</style>\n",
       "<table border=\"1\" class=\"dataframe\">\n",
       "  <thead>\n",
       "    <tr style=\"text-align: right;\">\n",
       "      <th></th>\n",
       "      <th>pii</th>\n",
       "      <th>title</th>\n",
       "      <th>date</th>\n",
       "    </tr>\n",
       "  </thead>\n",
       "  <tbody>\n",
       "    <tr>\n",
       "      <th>0</th>\n",
       "      <td>S2666765721000478</td>\n",
       "      <td>Survey of Airborne Organic Compounds in Reside...</td>\n",
       "      <td>2021-06-13T00:00:00.000Z</td>\n",
       "    </tr>\n",
       "    <tr>\n",
       "      <th>1</th>\n",
       "      <td>S0269749119376717</td>\n",
       "      <td>Natural gas leaks and tree death: A first-look...</td>\n",
       "      <td>2020-04-03T00:00:00.000Z</td>\n",
       "    </tr>\n",
       "    <tr>\n",
       "      <th>2</th>\n",
       "      <td>S2352484721000202</td>\n",
       "      <td>Experimental optimization of engine performanc...</td>\n",
       "      <td>2021-01-21T00:00:00.000Z</td>\n",
       "    </tr>\n",
       "    <tr>\n",
       "      <th>3</th>\n",
       "      <td>S2213138820300308</td>\n",
       "      <td>Environmental life cycle assessment of glyceri...</td>\n",
       "      <td>2020-10-09T00:00:00.000Z</td>\n",
       "    </tr>\n",
       "    <tr>\n",
       "      <th>4</th>\n",
       "      <td>S2352484720312312</td>\n",
       "      <td>Comparative cost assessment of sustainable ene...</td>\n",
       "      <td>2020-07-23T00:00:00.000Z</td>\n",
       "    </tr>\n",
       "    <tr>\n",
       "      <th>...</th>\n",
       "      <td>...</td>\n",
       "      <td>...</td>\n",
       "      <td>...</td>\n",
       "    </tr>\n",
       "    <tr>\n",
       "      <th>2904</th>\n",
       "      <td>S1383586621006699</td>\n",
       "      <td>Advanced configurations for post-combustion CO...</td>\n",
       "      <td>2021-05-13T00:00:00.000Z</td>\n",
       "    </tr>\n",
       "    <tr>\n",
       "      <th>2905</th>\n",
       "      <td>S0021925818693585</td>\n",
       "      <td>The Depression of the Incorporation of Sulfur ...</td>\n",
       "      <td>2021-01-04T00:00:00.000Z</td>\n",
       "    </tr>\n",
       "    <tr>\n",
       "      <th>2906</th>\n",
       "      <td>S1750583619306395</td>\n",
       "      <td>CO&lt;ce:inf loc=post&gt;2&lt;/ce:inf&gt; capture adsorben...</td>\n",
       "      <td>2020-03-03T00:00:00.000Z</td>\n",
       "    </tr>\n",
       "    <tr>\n",
       "      <th>2907</th>\n",
       "      <td>S0360128516300442</td>\n",
       "      <td>Fuel consumption and CO&lt;ce:inf loc=post&gt;2&lt;/ce:...</td>\n",
       "      <td>2017-02-21T00:00:00.000Z</td>\n",
       "    </tr>\n",
       "    <tr>\n",
       "      <th>2908</th>\n",
       "      <td>S036012852030112X</td>\n",
       "      <td>Continuum scale modelling and complementary ex...</td>\n",
       "      <td>2021-04-13T00:00:00.000Z</td>\n",
       "    </tr>\n",
       "  </tbody>\n",
       "</table>\n",
       "<p>2909 rows × 3 columns</p>\n",
       "</div>"
      ],
      "text/plain": [
       "                    pii                                              title  \\\n",
       "0     S2666765721000478  Survey of Airborne Organic Compounds in Reside...   \n",
       "1     S0269749119376717  Natural gas leaks and tree death: A first-look...   \n",
       "2     S2352484721000202  Experimental optimization of engine performanc...   \n",
       "3     S2213138820300308  Environmental life cycle assessment of glyceri...   \n",
       "4     S2352484720312312  Comparative cost assessment of sustainable ene...   \n",
       "...                 ...                                                ...   \n",
       "2904  S1383586621006699  Advanced configurations for post-combustion CO...   \n",
       "2905  S0021925818693585  The Depression of the Incorporation of Sulfur ...   \n",
       "2906  S1750583619306395  CO<ce:inf loc=post>2</ce:inf> capture adsorben...   \n",
       "2907  S0360128516300442  Fuel consumption and CO<ce:inf loc=post>2</ce:...   \n",
       "2908  S036012852030112X  Continuum scale modelling and complementary ex...   \n",
       "\n",
       "                          date  \n",
       "0     2021-06-13T00:00:00.000Z  \n",
       "1     2020-04-03T00:00:00.000Z  \n",
       "2     2021-01-21T00:00:00.000Z  \n",
       "3     2020-10-09T00:00:00.000Z  \n",
       "4     2020-07-23T00:00:00.000Z  \n",
       "...                        ...  \n",
       "2904  2021-05-13T00:00:00.000Z  \n",
       "2905  2021-01-04T00:00:00.000Z  \n",
       "2906  2020-03-03T00:00:00.000Z  \n",
       "2907  2017-02-21T00:00:00.000Z  \n",
       "2908  2021-04-13T00:00:00.000Z  \n",
       "\n",
       "[2909 rows x 3 columns]"
      ]
     },
     "execution_count": 50,
     "metadata": {},
     "output_type": "execute_result"
    }
   ],
   "source": [
    "articles = pd.DataFrame(search_results, columns=(\"pii\", \"title\", \"date\"))\n",
    "articles = articles[articles['title'].apply(lambda x: 'abstracts' not in x.lower())]\n",
    "articles.index = pd.RangeIndex(len(articles))\n",
    "articles"
   ]
  },
  {
   "cell_type": "code",
   "execution_count": 27,
   "id": "546f793d-4368-44d0-9f88-1351ab80859e",
   "metadata": {
    "tags": []
   },
   "outputs": [
    {
     "name": "stderr",
     "output_type": "stream",
     "text": [
      "100%|████████████████████████████████████████████████████████████████████████████| 2909/2909 [1:03:12<00:00,  1.30s/it]\n"
     ]
    }
   ],
   "source": [
    "texts = {}\n",
    "for link, text in get_text_batch(piis=articles['pii'], n_threads=3):\n",
    "    texts[link] = text"
   ]
  },
  {
   "cell_type": "code",
   "execution_count": 28,
   "id": "aea6bd58-94f8-4f30-ad9a-8c61ea852d64",
   "metadata": {},
   "outputs": [
    {
     "ename": "TypeError",
     "evalue": "'dict_keys' object is not subscriptable",
     "output_type": "error",
     "traceback": [
      "\u001b[1;31m---------------------------------------------------------------------------\u001b[0m",
      "\u001b[1;31mTypeError\u001b[0m                                 Traceback (most recent call last)",
      "\u001b[1;32m<ipython-input-28-dc119ee2f86e>\u001b[0m in \u001b[0;36m<module>\u001b[1;34m\u001b[0m\n\u001b[1;32m----> 1\u001b[1;33m \u001b[0mtexts\u001b[0m\u001b[1;33m.\u001b[0m\u001b[0mkeys\u001b[0m\u001b[1;33m(\u001b[0m\u001b[1;33m)\u001b[0m\u001b[1;33m[\u001b[0m\u001b[1;36m0\u001b[0m\u001b[1;33m]\u001b[0m\u001b[1;33m\u001b[0m\u001b[1;33m\u001b[0m\u001b[0m\n\u001b[0m",
      "\u001b[1;31mTypeError\u001b[0m: 'dict_keys' object is not subscriptable"
     ]
    }
   ],
   "source": [
    "texts.keys()[0]"
   ]
  },
  {
   "cell_type": "code",
   "execution_count": 47,
   "id": "6a26e9f2-5249-4d06-ba00-50095026d83b",
   "metadata": {},
   "outputs": [
    {
     "data": {
      "text/plain": [
       "1249"
      ]
     },
     "execution_count": 47,
     "metadata": {},
     "output_type": "execute_result"
    }
   ],
   "source": [
    "(pd.DataFrame(texts.items(), columns=(\"pii\", \"text\"))['text'] != '').sum()"
   ]
  },
  {
   "cell_type": "code",
   "execution_count": 51,
   "id": "f28a65c8-945a-4c0e-a25d-053ddf67b8d6",
   "metadata": {
    "tags": []
   },
   "outputs": [
    {
     "data": {
      "text/plain": [
       "('S0006349594808264', '')"
      ]
     },
     "execution_count": 51,
     "metadata": {},
     "output_type": "execute_result"
    }
   ],
   "source": [
    "get_text('S0006349594808264')"
   ]
  },
  {
   "cell_type": "code",
   "execution_count": 51,
   "id": "06da662c-5b8b-4caf-a1f3-11e0fe597bc1",
   "metadata": {},
   "outputs": [],
   "source": [
    "articles = articles.merge(pd.DataFrame(texts.items(), columns=(\"pii\", \"text\")), on='pii')"
   ]
  },
  {
   "cell_type": "code",
   "execution_count": 52,
   "id": "1b9ebdd5-fbf8-4eb1-938f-a78bf5672997",
   "metadata": {},
   "outputs": [
    {
     "data": {
      "text/html": [
       "<div>\n",
       "<style scoped>\n",
       "    .dataframe tbody tr th:only-of-type {\n",
       "        vertical-align: middle;\n",
       "    }\n",
       "\n",
       "    .dataframe tbody tr th {\n",
       "        vertical-align: top;\n",
       "    }\n",
       "\n",
       "    .dataframe thead th {\n",
       "        text-align: right;\n",
       "    }\n",
       "</style>\n",
       "<table border=\"1\" class=\"dataframe\">\n",
       "  <thead>\n",
       "    <tr style=\"text-align: right;\">\n",
       "      <th></th>\n",
       "      <th>pii</th>\n",
       "      <th>title</th>\n",
       "      <th>date</th>\n",
       "      <th>text</th>\n",
       "    </tr>\n",
       "  </thead>\n",
       "  <tbody>\n",
       "    <tr>\n",
       "      <th>0</th>\n",
       "      <td>S2666765721000478</td>\n",
       "      <td>Survey of Airborne Organic Compounds in Reside...</td>\n",
       "      <td>2021-06-13T00:00:00.000Z</td>\n",
       "      <td>Natural gas production and use has increased i...</td>\n",
       "    </tr>\n",
       "    <tr>\n",
       "      <th>1</th>\n",
       "      <td>S0269749119376717</td>\n",
       "      <td>Natural gas leaks and tree death: A first-look...</td>\n",
       "      <td>2020-04-03T00:00:00.000Z</td>\n",
       "      <td>Urban vegetation, in particular tree canopy, i...</td>\n",
       "    </tr>\n",
       "    <tr>\n",
       "      <th>2</th>\n",
       "      <td>S2352484721000202</td>\n",
       "      <td>Experimental optimization of engine performanc...</td>\n",
       "      <td>2021-01-21T00:00:00.000Z</td>\n",
       "      <td>All data required for reproducing this researc...</td>\n",
       "    </tr>\n",
       "    <tr>\n",
       "      <th>3</th>\n",
       "      <td>S2213138820300308</td>\n",
       "      <td>Environmental life cycle assessment of glyceri...</td>\n",
       "      <td>2020-10-09T00:00:00.000Z</td>\n",
       "      <td>Glycerine is the usual commercial name in the ...</td>\n",
       "    </tr>\n",
       "    <tr>\n",
       "      <th>4</th>\n",
       "      <td>S2352484720312312</td>\n",
       "      <td>Comparative cost assessment of sustainable ene...</td>\n",
       "      <td>2020-07-23T00:00:00.000Z</td>\n",
       "      <td>The energy of natural gas can be transported i...</td>\n",
       "    </tr>\n",
       "    <tr>\n",
       "      <th>...</th>\n",
       "      <td>...</td>\n",
       "      <td>...</td>\n",
       "      <td>...</td>\n",
       "      <td>...</td>\n",
       "    </tr>\n",
       "    <tr>\n",
       "      <th>2904</th>\n",
       "      <td>S1383586621006699</td>\n",
       "      <td>Advanced configurations for post-combustion CO...</td>\n",
       "      <td>2021-05-13T00:00:00.000Z</td>\n",
       "      <td>Aqueous ammonia-based capture processes are am...</td>\n",
       "    </tr>\n",
       "    <tr>\n",
       "      <th>2905</th>\n",
       "      <td>S0021925818693585</td>\n",
       "      <td>The Depression of the Incorporation of Sulfur ...</td>\n",
       "      <td>2021-01-04T00:00:00.000Z</td>\n",
       "      <td></td>\n",
       "    </tr>\n",
       "    <tr>\n",
       "      <th>2906</th>\n",
       "      <td>S1750583619306395</td>\n",
       "      <td>CO&lt;ce:inf loc=post&gt;2&lt;/ce:inf&gt; capture adsorben...</td>\n",
       "      <td>2020-03-03T00:00:00.000Z</td>\n",
       "      <td>Because of the increasing environmental impact...</td>\n",
       "    </tr>\n",
       "    <tr>\n",
       "      <th>2907</th>\n",
       "      <td>S0360128516300442</td>\n",
       "      <td>Fuel consumption and CO&lt;ce:inf loc=post&gt;2&lt;/ce:...</td>\n",
       "      <td>2017-02-21T00:00:00.000Z</td>\n",
       "      <td>Road transport contributes about one-fifth of ...</td>\n",
       "    </tr>\n",
       "    <tr>\n",
       "      <th>2908</th>\n",
       "      <td>S036012852030112X</td>\n",
       "      <td>Continuum scale modelling and complementary ex...</td>\n",
       "      <td>2021-04-13T00:00:00.000Z</td>\n",
       "      <td>Forward Tafel slope, V Activity coefficient Re...</td>\n",
       "    </tr>\n",
       "  </tbody>\n",
       "</table>\n",
       "<p>2909 rows × 4 columns</p>\n",
       "</div>"
      ],
      "text/plain": [
       "                    pii                                              title  \\\n",
       "0     S2666765721000478  Survey of Airborne Organic Compounds in Reside...   \n",
       "1     S0269749119376717  Natural gas leaks and tree death: A first-look...   \n",
       "2     S2352484721000202  Experimental optimization of engine performanc...   \n",
       "3     S2213138820300308  Environmental life cycle assessment of glyceri...   \n",
       "4     S2352484720312312  Comparative cost assessment of sustainable ene...   \n",
       "...                 ...                                                ...   \n",
       "2904  S1383586621006699  Advanced configurations for post-combustion CO...   \n",
       "2905  S0021925818693585  The Depression of the Incorporation of Sulfur ...   \n",
       "2906  S1750583619306395  CO<ce:inf loc=post>2</ce:inf> capture adsorben...   \n",
       "2907  S0360128516300442  Fuel consumption and CO<ce:inf loc=post>2</ce:...   \n",
       "2908  S036012852030112X  Continuum scale modelling and complementary ex...   \n",
       "\n",
       "                          date  \\\n",
       "0     2021-06-13T00:00:00.000Z   \n",
       "1     2020-04-03T00:00:00.000Z   \n",
       "2     2021-01-21T00:00:00.000Z   \n",
       "3     2020-10-09T00:00:00.000Z   \n",
       "4     2020-07-23T00:00:00.000Z   \n",
       "...                        ...   \n",
       "2904  2021-05-13T00:00:00.000Z   \n",
       "2905  2021-01-04T00:00:00.000Z   \n",
       "2906  2020-03-03T00:00:00.000Z   \n",
       "2907  2017-02-21T00:00:00.000Z   \n",
       "2908  2021-04-13T00:00:00.000Z   \n",
       "\n",
       "                                                   text  \n",
       "0     Natural gas production and use has increased i...  \n",
       "1     Urban vegetation, in particular tree canopy, i...  \n",
       "2     All data required for reproducing this researc...  \n",
       "3     Glycerine is the usual commercial name in the ...  \n",
       "4     The energy of natural gas can be transported i...  \n",
       "...                                                 ...  \n",
       "2904  Aqueous ammonia-based capture processes are am...  \n",
       "2905                                                     \n",
       "2906  Because of the increasing environmental impact...  \n",
       "2907  Road transport contributes about one-fifth of ...  \n",
       "2908  Forward Tafel slope, V Activity coefficient Re...  \n",
       "\n",
       "[2909 rows x 4 columns]"
      ]
     },
     "execution_count": 52,
     "metadata": {},
     "output_type": "execute_result"
    }
   ],
   "source": [
    "articles"
   ]
  },
  {
   "cell_type": "code",
   "execution_count": 53,
   "id": "06854162-ba8d-438f-b102-1c7578b8d266",
   "metadata": {},
   "outputs": [],
   "source": [
    "articles = articles[articles['text'] != '']\n",
    "articles = articles[articles['text'].apply(lambda x: len(x) <= 92314)]"
   ]
  },
  {
   "cell_type": "code",
   "execution_count": 55,
   "id": "3d243e2f",
   "metadata": {},
   "outputs": [],
   "source": [
    "articles.to_csv(\"../data/health_ng.csv\", index=False)"
   ]
  },
  {
   "cell_type": "code",
   "execution_count": 45,
   "id": "b96adf8c",
   "metadata": {},
   "outputs": [
    {
     "data": {
      "text/html": [
       "<div>\n",
       "<style scoped>\n",
       "    .dataframe tbody tr th:only-of-type {\n",
       "        vertical-align: middle;\n",
       "    }\n",
       "\n",
       "    .dataframe tbody tr th {\n",
       "        vertical-align: top;\n",
       "    }\n",
       "\n",
       "    .dataframe thead th {\n",
       "        text-align: right;\n",
       "    }\n",
       "</style>\n",
       "<table border=\"1\" class=\"dataframe\">\n",
       "  <thead>\n",
       "    <tr style=\"text-align: right;\">\n",
       "      <th></th>\n",
       "      <th>pii</th>\n",
       "      <th>title</th>\n",
       "      <th>date</th>\n",
       "      <th>text</th>\n",
       "    </tr>\n",
       "  </thead>\n",
       "  <tbody>\n",
       "    <tr>\n",
       "      <th>0</th>\n",
       "      <td>S2666765721000478</td>\n",
       "      <td>Survey of Airborne Organic Compounds in Reside...</td>\n",
       "      <td>2021-06-13T00:00:00.000Z</td>\n",
       "      <td>S2666765721000478</td>\n",
       "    </tr>\n",
       "    <tr>\n",
       "      <th>1</th>\n",
       "      <td>S0269749119376717</td>\n",
       "      <td>Natural gas leaks and tree death: A first-look...</td>\n",
       "      <td>2020-04-03T00:00:00.000Z</td>\n",
       "      <td>S0269749119376717</td>\n",
       "    </tr>\n",
       "    <tr>\n",
       "      <th>2</th>\n",
       "      <td>S2352484721000202</td>\n",
       "      <td>Experimental optimization of engine performanc...</td>\n",
       "      <td>2021-01-21T00:00:00.000Z</td>\n",
       "      <td>S2352484721000202</td>\n",
       "    </tr>\n",
       "    <tr>\n",
       "      <th>3</th>\n",
       "      <td>S2213138820300308</td>\n",
       "      <td>Environmental life cycle assessment of glyceri...</td>\n",
       "      <td>2020-10-09T00:00:00.000Z</td>\n",
       "      <td>S2213138820300308</td>\n",
       "    </tr>\n",
       "    <tr>\n",
       "      <th>4</th>\n",
       "      <td>S2352484720312312</td>\n",
       "      <td>Comparative cost assessment of sustainable ene...</td>\n",
       "      <td>2020-07-23T00:00:00.000Z</td>\n",
       "      <td>S2352484720312312</td>\n",
       "    </tr>\n",
       "    <tr>\n",
       "      <th>...</th>\n",
       "      <td>...</td>\n",
       "      <td>...</td>\n",
       "      <td>...</td>\n",
       "      <td>...</td>\n",
       "    </tr>\n",
       "    <tr>\n",
       "      <th>2902</th>\n",
       "      <td>S0008622320305558</td>\n",
       "      <td>Transition metal impurities in carbon-based ma...</td>\n",
       "      <td>2020-06-15T00:00:00.000Z</td>\n",
       "      <td>NaN</td>\n",
       "    </tr>\n",
       "    <tr>\n",
       "      <th>2904</th>\n",
       "      <td>S1383586621006699</td>\n",
       "      <td>Advanced configurations for post-combustion CO...</td>\n",
       "      <td>2021-05-13T00:00:00.000Z</td>\n",
       "      <td>NaN</td>\n",
       "    </tr>\n",
       "    <tr>\n",
       "      <th>2906</th>\n",
       "      <td>S1750583619306395</td>\n",
       "      <td>CO&lt;ce:inf loc=post&gt;2&lt;/ce:inf&gt; capture adsorben...</td>\n",
       "      <td>2020-03-03T00:00:00.000Z</td>\n",
       "      <td>NaN</td>\n",
       "    </tr>\n",
       "    <tr>\n",
       "      <th>2907</th>\n",
       "      <td>S0360128516300442</td>\n",
       "      <td>Fuel consumption and CO&lt;ce:inf loc=post&gt;2&lt;/ce:...</td>\n",
       "      <td>2017-02-21T00:00:00.000Z</td>\n",
       "      <td>NaN</td>\n",
       "    </tr>\n",
       "    <tr>\n",
       "      <th>2908</th>\n",
       "      <td>S036012852030112X</td>\n",
       "      <td>Continuum scale modelling and complementary ex...</td>\n",
       "      <td>2021-04-13T00:00:00.000Z</td>\n",
       "      <td>NaN</td>\n",
       "    </tr>\n",
       "  </tbody>\n",
       "</table>\n",
       "<p>2025 rows × 4 columns</p>\n",
       "</div>"
      ],
      "text/plain": [
       "                    pii                                              title  \\\n",
       "0     S2666765721000478  Survey of Airborne Organic Compounds in Reside...   \n",
       "1     S0269749119376717  Natural gas leaks and tree death: A first-look...   \n",
       "2     S2352484721000202  Experimental optimization of engine performanc...   \n",
       "3     S2213138820300308  Environmental life cycle assessment of glyceri...   \n",
       "4     S2352484720312312  Comparative cost assessment of sustainable ene...   \n",
       "...                 ...                                                ...   \n",
       "2902  S0008622320305558  Transition metal impurities in carbon-based ma...   \n",
       "2904  S1383586621006699  Advanced configurations for post-combustion CO...   \n",
       "2906  S1750583619306395  CO<ce:inf loc=post>2</ce:inf> capture adsorben...   \n",
       "2907  S0360128516300442  Fuel consumption and CO<ce:inf loc=post>2</ce:...   \n",
       "2908  S036012852030112X  Continuum scale modelling and complementary ex...   \n",
       "\n",
       "                          date               text  \n",
       "0     2021-06-13T00:00:00.000Z  S2666765721000478  \n",
       "1     2020-04-03T00:00:00.000Z  S0269749119376717  \n",
       "2     2021-01-21T00:00:00.000Z  S2352484721000202  \n",
       "3     2020-10-09T00:00:00.000Z  S2213138820300308  \n",
       "4     2020-07-23T00:00:00.000Z  S2352484720312312  \n",
       "...                        ...                ...  \n",
       "2902  2020-06-15T00:00:00.000Z                NaN  \n",
       "2904  2021-05-13T00:00:00.000Z                NaN  \n",
       "2906  2020-03-03T00:00:00.000Z                NaN  \n",
       "2907  2017-02-21T00:00:00.000Z                NaN  \n",
       "2908  2021-04-13T00:00:00.000Z                NaN  \n",
       "\n",
       "[2025 rows x 4 columns]"
      ]
     },
     "execution_count": 45,
     "metadata": {},
     "output_type": "execute_result"
    }
   ],
   "source": [
    "articles"
   ]
  },
  {
   "cell_type": "code",
   "execution_count": 39,
   "id": "62e9acf3-bc3f-4b85-a71e-b0c5e26016b7",
   "metadata": {},
   "outputs": [
    {
     "data": {
      "text/plain": [
       "92314.79999999999"
      ]
     },
     "execution_count": 39,
     "metadata": {},
     "output_type": "execute_result"
    }
   ],
   "source": [
    "articles['text'].apply(lambda x: len(x)).quantile(.95)"
   ]
  },
  {
   "cell_type": "code",
   "execution_count": 40,
   "id": "99f52402-e877-4e3a-aef0-9b91439f69b7",
   "metadata": {},
   "outputs": [],
   "source": [
    "articles = articles[articles['text'].apply(lambda x: len(x) <= 92314)]"
   ]
  },
  {
   "cell_type": "code",
   "execution_count": 42,
   "id": "65630da2-d468-4406-940d-91e05cb283e1",
   "metadata": {},
   "outputs": [
    {
     "data": {
      "text/plain": [
       "(2025, 4)"
      ]
     },
     "execution_count": 42,
     "metadata": {},
     "output_type": "execute_result"
    }
   ],
   "source": [
    "articles.shape"
   ]
  },
  {
   "cell_type": "code",
   "execution_count": null,
   "id": "e6c852ab-66f8-4ae7-b1cc-f2072c0fc738",
   "metadata": {},
   "outputs": [],
   "source": []
  }
 ],
 "metadata": {
  "kernelspec": {
   "display_name": "Python 3",
   "language": "python",
   "name": "python3"
  },
  "language_info": {
   "codemirror_mode": {
    "name": "ipython",
    "version": 3
   },
   "file_extension": ".py",
   "mimetype": "text/x-python",
   "name": "python",
   "nbconvert_exporter": "python",
   "pygments_lexer": "ipython3",
   "version": "3.8.10"
  }
 },
 "nbformat": 4,
 "nbformat_minor": 5
}