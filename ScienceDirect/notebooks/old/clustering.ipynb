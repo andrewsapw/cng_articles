{
 "cells": [
  {
   "cell_type": "code",
   "execution_count": 1,
   "id": "4a8fc6b3-ceaf-4216-89d6-b743d0892207",
   "metadata": {},
   "outputs": [],
   "source": [
    "%load_ext lab_black"
   ]
  },
  {
   "cell_type": "code",
   "execution_count": 233,
   "id": "da219580-afa8-426a-a3d9-28a085891874",
   "metadata": {},
   "outputs": [],
   "source": [
    "import numpy as np\n",
    "import pandas as pd\n",
    "\n",
    "import re\n",
    "from collections import Counter\n",
    "\n",
    "import yake\n",
    "\n",
    "from tqdm.auto import tqdm\n",
    "from nltk import pos_tag\n",
    "import nltk\n",
    "\n",
    "import seaborn as sns\n",
    "import matplotlib.pyplot as plt\n",
    "\n",
    "from nltk.tokenize import sent_tokenize\n",
    "from sklearn.cluster import KMeans, AgglomerativeClustering, SpectralClustering\n",
    "from sklearn import metrics\n",
    "import hdbscan"
   ]
  },
  {
   "cell_type": "code",
   "execution_count": 172,
   "id": "2eb1f010-336e-49e2-a9af-80f6c7427369",
   "metadata": {},
   "outputs": [
    {
     "data": {
      "text/html": [
       "<div>\n",
       "<style scoped>\n",
       "    .dataframe tbody tr th:only-of-type {\n",
       "        vertical-align: middle;\n",
       "    }\n",
       "\n",
       "    .dataframe tbody tr th {\n",
       "        vertical-align: top;\n",
       "    }\n",
       "\n",
       "    .dataframe thead th {\n",
       "        text-align: right;\n",
       "    }\n",
       "</style>\n",
       "<table border=\"1\" class=\"dataframe\">\n",
       "  <thead>\n",
       "    <tr style=\"text-align: right;\">\n",
       "      <th></th>\n",
       "      <th>text</th>\n",
       "      <th>text_original</th>\n",
       "      <th>pii</th>\n",
       "    </tr>\n",
       "  </thead>\n",
       "  <tbody>\n",
       "    <tr>\n",
       "      <th>0</th>\n",
       "      <td>natural gas production use increase unite stat...</td>\n",
       "      <td>Natural gas production and use has increased i...</td>\n",
       "      <td>S2666765721000478</td>\n",
       "    </tr>\n",
       "    <tr>\n",
       "      <th>1</th>\n",
       "      <td>natural gas extract conventional unconventiona...</td>\n",
       "      <td>Natural gas is extracted through conventional ...</td>\n",
       "      <td>S2666765721000478</td>\n",
       "    </tr>\n",
       "    <tr>\n",
       "      <th>2</th>\n",
       "      <td>extract natural gas transport production site ...</td>\n",
       "      <td>Once extracted, natural gas is transported fro...</td>\n",
       "      <td>S2666765721000478</td>\n",
       "    </tr>\n",
       "    <tr>\n",
       "      <th>3</th>\n",
       "      <td>compressor station also refer pump station loc...</td>\n",
       "      <td>Compressor stations, also referred to as pumpi...</td>\n",
       "      <td>S2666765721000478</td>\n",
       "    </tr>\n",
       "    <tr>\n",
       "      <th>4</th>\n",
       "      <td>depend specific factor diameter pipeline topog...</td>\n",
       "      <td>Depending on specific factors, such as the dia...</td>\n",
       "      <td>S2666765721000478</td>\n",
       "    </tr>\n",
       "  </tbody>\n",
       "</table>\n",
       "</div>"
      ],
      "text/plain": [
       "                                                text  \\\n",
       "0  natural gas production use increase unite stat...   \n",
       "1  natural gas extract conventional unconventiona...   \n",
       "2  extract natural gas transport production site ...   \n",
       "3  compressor station also refer pump station loc...   \n",
       "4  depend specific factor diameter pipeline topog...   \n",
       "\n",
       "                                       text_original                pii  \n",
       "0  Natural gas production and use has increased i...  S2666765721000478  \n",
       "1  Natural gas is extracted through conventional ...  S2666765721000478  \n",
       "2  Once extracted, natural gas is transported fro...  S2666765721000478  \n",
       "3  Compressor stations, also referred to as pumpi...  S2666765721000478  \n",
       "4  Depending on specific factors, such as the dia...  S2666765721000478  "
      ]
     },
     "execution_count": 172,
     "metadata": {},
     "output_type": "execute_result"
    }
   ],
   "source": [
    "data = pd.read_csv(\"../data/sentences.csv\")\n",
    "data.head()"
   ]
  },
  {
   "cell_type": "code",
   "execution_count": 188,
   "id": "f5484676-8669-4b69-9024-314957bc9b10",
   "metadata": {},
   "outputs": [
    {
     "data": {
      "text/html": [
       "<div>\n",
       "<style scoped>\n",
       "    .dataframe tbody tr th:only-of-type {\n",
       "        vertical-align: middle;\n",
       "    }\n",
       "\n",
       "    .dataframe tbody tr th {\n",
       "        vertical-align: top;\n",
       "    }\n",
       "\n",
       "    .dataframe thead th {\n",
       "        text-align: right;\n",
       "    }\n",
       "</style>\n",
       "<table border=\"1\" class=\"dataframe\">\n",
       "  <thead>\n",
       "    <tr style=\"text-align: right;\">\n",
       "      <th></th>\n",
       "      <th>pii</th>\n",
       "      <th>title</th>\n",
       "      <th>date</th>\n",
       "      <th>text</th>\n",
       "    </tr>\n",
       "    <tr>\n",
       "      <th>pii</th>\n",
       "      <th></th>\n",
       "      <th></th>\n",
       "      <th></th>\n",
       "      <th></th>\n",
       "    </tr>\n",
       "  </thead>\n",
       "  <tbody>\n",
       "    <tr>\n",
       "      <th>S2666765721000478</th>\n",
       "      <td>S2666765721000478</td>\n",
       "      <td>Survey of Airborne Organic Compounds in Reside...</td>\n",
       "      <td>2021-06-13T00:00:00.000Z</td>\n",
       "      <td>Natural gas production and use has increased i...</td>\n",
       "    </tr>\n",
       "    <tr>\n",
       "      <th>S0269749119376717</th>\n",
       "      <td>S0269749119376717</td>\n",
       "      <td>Natural gas leaks and tree death: A first-look...</td>\n",
       "      <td>2020-04-03T00:00:00.000Z</td>\n",
       "      <td>Urban vegetation, in particular tree canopy, i...</td>\n",
       "    </tr>\n",
       "    <tr>\n",
       "      <th>S2352484721000202</th>\n",
       "      <td>S2352484721000202</td>\n",
       "      <td>Experimental optimization of engine performanc...</td>\n",
       "      <td>2021-01-21T00:00:00.000Z</td>\n",
       "      <td>All data required for reproducing this researc...</td>\n",
       "    </tr>\n",
       "    <tr>\n",
       "      <th>S2213138820300308</th>\n",
       "      <td>S2213138820300308</td>\n",
       "      <td>Environmental life cycle assessment of glyceri...</td>\n",
       "      <td>2020-10-09T00:00:00.000Z</td>\n",
       "      <td>Glycerine is the usual commercial name in the ...</td>\n",
       "    </tr>\n",
       "    <tr>\n",
       "      <th>S2352484720312312</th>\n",
       "      <td>S2352484720312312</td>\n",
       "      <td>Comparative cost assessment of sustainable ene...</td>\n",
       "      <td>2020-07-23T00:00:00.000Z</td>\n",
       "      <td>The energy of natural gas can be transported i...</td>\n",
       "    </tr>\n",
       "  </tbody>\n",
       "</table>\n",
       "</div>"
      ],
      "text/plain": [
       "                                 pii  \\\n",
       "pii                                    \n",
       "S2666765721000478  S2666765721000478   \n",
       "S0269749119376717  S0269749119376717   \n",
       "S2352484721000202  S2352484721000202   \n",
       "S2213138820300308  S2213138820300308   \n",
       "S2352484720312312  S2352484720312312   \n",
       "\n",
       "                                                               title  \\\n",
       "pii                                                                    \n",
       "S2666765721000478  Survey of Airborne Organic Compounds in Reside...   \n",
       "S0269749119376717  Natural gas leaks and tree death: A first-look...   \n",
       "S2352484721000202  Experimental optimization of engine performanc...   \n",
       "S2213138820300308  Environmental life cycle assessment of glyceri...   \n",
       "S2352484720312312  Comparative cost assessment of sustainable ene...   \n",
       "\n",
       "                                       date  \\\n",
       "pii                                           \n",
       "S2666765721000478  2021-06-13T00:00:00.000Z   \n",
       "S0269749119376717  2020-04-03T00:00:00.000Z   \n",
       "S2352484721000202  2021-01-21T00:00:00.000Z   \n",
       "S2213138820300308  2020-10-09T00:00:00.000Z   \n",
       "S2352484720312312  2020-07-23T00:00:00.000Z   \n",
       "\n",
       "                                                                text  \n",
       "pii                                                                   \n",
       "S2666765721000478  Natural gas production and use has increased i...  \n",
       "S0269749119376717  Urban vegetation, in particular tree canopy, i...  \n",
       "S2352484721000202  All data required for reproducing this researc...  \n",
       "S2213138820300308  Glycerine is the usual commercial name in the ...  \n",
       "S2352484720312312  The energy of natural gas can be transported i...  "
      ]
     },
     "execution_count": 188,
     "metadata": {},
     "output_type": "execute_result"
    }
   ],
   "source": [
    "articles = pd.read_csv(\"../data/health_ng.csv\")\n",
    "articles.index = articles[\"pii\"]\n",
    "articles.head()"
   ]
  },
  {
   "cell_type": "code",
   "execution_count": 174,
   "id": "1ee5af96-3211-43e0-bc5d-3bff2f824112",
   "metadata": {},
   "outputs": [],
   "source": [
    "with open(\"../data/vectors_reduced.npy\", \"rb\") as f:\n",
    "    vectors = np.load(f)"
   ]
  },
  {
   "cell_type": "code",
   "execution_count": 175,
   "id": "eeabbc5e-eeba-4ca4-ab5a-ba7808bcaef3",
   "metadata": {},
   "outputs": [],
   "source": [
    "data[\"x\"] = vectors[:, 0]\n",
    "data[\"y\"] = vectors[:, 1]"
   ]
  },
  {
   "cell_type": "code",
   "execution_count": 189,
   "id": "525d0f5d-a456-4ac7-a9b4-af652fff06fd",
   "metadata": {},
   "outputs": [
    {
     "data": {
      "text/html": [
       "<div>\n",
       "<style scoped>\n",
       "    .dataframe tbody tr th:only-of-type {\n",
       "        vertical-align: middle;\n",
       "    }\n",
       "\n",
       "    .dataframe tbody tr th {\n",
       "        vertical-align: top;\n",
       "    }\n",
       "\n",
       "    .dataframe thead th {\n",
       "        text-align: right;\n",
       "    }\n",
       "</style>\n",
       "<table border=\"1\" class=\"dataframe\">\n",
       "  <thead>\n",
       "    <tr style=\"text-align: right;\">\n",
       "      <th></th>\n",
       "      <th>pii</th>\n",
       "      <th>title</th>\n",
       "      <th>date</th>\n",
       "      <th>text</th>\n",
       "      <th>x</th>\n",
       "      <th>y</th>\n",
       "    </tr>\n",
       "    <tr>\n",
       "      <th>pii</th>\n",
       "      <th></th>\n",
       "      <th></th>\n",
       "      <th></th>\n",
       "      <th></th>\n",
       "      <th></th>\n",
       "      <th></th>\n",
       "    </tr>\n",
       "  </thead>\n",
       "  <tbody>\n",
       "    <tr>\n",
       "      <th>S0001457513001735</th>\n",
       "      <td>S0001457513001735</td>\n",
       "      <td>Development and validation of safety climate s...</td>\n",
       "      <td>2013-05-10T00:00:00.000Z</td>\n",
       "      <td>Safety climate is defined as the shared percep...</td>\n",
       "      <td>-2.941993</td>\n",
       "      <td>-2.226599</td>\n",
       "    </tr>\n",
       "    <tr>\n",
       "      <th>S0001706X16301231</th>\n",
       "      <td>S0001706X16301231</td>\n",
       "      <td>Dispersal of &lt;ce:italic&gt;Lutzomyia longipalpis&lt;...</td>\n",
       "      <td>2016-09-15T00:00:00.000Z</td>\n",
       "      <td>Visceral leishmaniasis (VL) is a globally tran...</td>\n",
       "      <td>-2.421822</td>\n",
       "      <td>-5.398034</td>\n",
       "    </tr>\n",
       "    <tr>\n",
       "      <th>S0006320716309752</th>\n",
       "      <td>S0006320716309752</td>\n",
       "      <td>Spatial modelling of non-target exposure to an...</td>\n",
       "      <td>2017-06-16T00:00:00.000Z</td>\n",
       "      <td>Alberta, Canada, is rich in natural resources,...</td>\n",
       "      <td>-2.414597</td>\n",
       "      <td>0.837719</td>\n",
       "    </tr>\n",
       "    <tr>\n",
       "      <th>S0006497120449031</th>\n",
       "      <td>S0006497120449031</td>\n",
       "      <td>From an old remedy to a magic bullet: molecula...</td>\n",
       "      <td>2020-12-14T00:00:00.000Z</td>\n",
       "      <td>Arsenic is the 20th most abundant element in t...</td>\n",
       "      <td>-2.729861</td>\n",
       "      <td>4.537601</td>\n",
       "    </tr>\n",
       "    <tr>\n",
       "      <th>S0007091217300508</th>\n",
       "      <td>S0007091217300508</td>\n",
       "      <td>Financial and environmental costs of reusable ...</td>\n",
       "      <td>2017-12-13T00:00:00.000Z</td>\n",
       "      <td>Editor's key points•Anaesthetists use large am...</td>\n",
       "      <td>0.133853</td>\n",
       "      <td>0.703562</td>\n",
       "    </tr>\n",
       "  </tbody>\n",
       "</table>\n",
       "</div>"
      ],
      "text/plain": [
       "                                 pii  \\\n",
       "pii                                    \n",
       "S0001457513001735  S0001457513001735   \n",
       "S0001706X16301231  S0001706X16301231   \n",
       "S0006320716309752  S0006320716309752   \n",
       "S0006497120449031  S0006497120449031   \n",
       "S0007091217300508  S0007091217300508   \n",
       "\n",
       "                                                               title  \\\n",
       "pii                                                                    \n",
       "S0001457513001735  Development and validation of safety climate s...   \n",
       "S0001706X16301231  Dispersal of <ce:italic>Lutzomyia longipalpis<...   \n",
       "S0006320716309752  Spatial modelling of non-target exposure to an...   \n",
       "S0006497120449031  From an old remedy to a magic bullet: molecula...   \n",
       "S0007091217300508  Financial and environmental costs of reusable ...   \n",
       "\n",
       "                                       date  \\\n",
       "pii                                           \n",
       "S0001457513001735  2013-05-10T00:00:00.000Z   \n",
       "S0001706X16301231  2016-09-15T00:00:00.000Z   \n",
       "S0006320716309752  2017-06-16T00:00:00.000Z   \n",
       "S0006497120449031  2020-12-14T00:00:00.000Z   \n",
       "S0007091217300508  2017-12-13T00:00:00.000Z   \n",
       "\n",
       "                                                                text  \\\n",
       "pii                                                                    \n",
       "S0001457513001735  Safety climate is defined as the shared percep...   \n",
       "S0001706X16301231  Visceral leishmaniasis (VL) is a globally tran...   \n",
       "S0006320716309752  Alberta, Canada, is rich in natural resources,...   \n",
       "S0006497120449031  Arsenic is the 20th most abundant element in t...   \n",
       "S0007091217300508  Editor's key points•Anaesthetists use large am...   \n",
       "\n",
       "                          x         y  \n",
       "pii                                    \n",
       "S0001457513001735 -2.941993 -2.226599  \n",
       "S0001706X16301231 -2.421822 -5.398034  \n",
       "S0006320716309752 -2.414597  0.837719  \n",
       "S0006497120449031 -2.729861  4.537601  \n",
       "S0007091217300508  0.133853  0.703562  "
      ]
     },
     "execution_count": 189,
     "metadata": {},
     "output_type": "execute_result"
    }
   ],
   "source": [
    "articles = articles.join(data.groupby(\"pii\")[[\"x\", \"y\"]].mean())\n",
    "articles.head()"
   ]
  },
  {
   "cell_type": "code",
   "execution_count": 190,
   "id": "ded2595f-6871-41bd-98de-7d59218d0f13",
   "metadata": {},
   "outputs": [
    {
     "data": {
      "text/html": [
       "<div>\n",
       "<style scoped>\n",
       "    .dataframe tbody tr th:only-of-type {\n",
       "        vertical-align: middle;\n",
       "    }\n",
       "\n",
       "    .dataframe tbody tr th {\n",
       "        vertical-align: top;\n",
       "    }\n",
       "\n",
       "    .dataframe thead th {\n",
       "        text-align: right;\n",
       "    }\n",
       "</style>\n",
       "<table border=\"1\" class=\"dataframe\">\n",
       "  <thead>\n",
       "    <tr style=\"text-align: right;\">\n",
       "      <th></th>\n",
       "      <th>pii</th>\n",
       "      <th>title</th>\n",
       "      <th>date</th>\n",
       "      <th>text</th>\n",
       "      <th>x</th>\n",
       "      <th>y</th>\n",
       "      <th>text_processed</th>\n",
       "    </tr>\n",
       "    <tr>\n",
       "      <th>pii</th>\n",
       "      <th></th>\n",
       "      <th></th>\n",
       "      <th></th>\n",
       "      <th></th>\n",
       "      <th></th>\n",
       "      <th></th>\n",
       "      <th></th>\n",
       "    </tr>\n",
       "  </thead>\n",
       "  <tbody>\n",
       "    <tr>\n",
       "      <th>S0001457513001735</th>\n",
       "      <td>S0001457513001735</td>\n",
       "      <td>Development and validation of safety climate s...</td>\n",
       "      <td>2013-05-10T00:00:00.000Z</td>\n",
       "      <td>Safety climate is defined as the shared percep...</td>\n",
       "      <td>-2.941993</td>\n",
       "      <td>-2.226599</td>\n",
       "      <td>safety climate define share perception among w...</td>\n",
       "    </tr>\n",
       "    <tr>\n",
       "      <th>S0001706X16301231</th>\n",
       "      <td>S0001706X16301231</td>\n",
       "      <td>Dispersal of &lt;ce:italic&gt;Lutzomyia longipalpis&lt;...</td>\n",
       "      <td>2016-09-15T00:00:00.000Z</td>\n",
       "      <td>Visceral leishmaniasis (VL) is a globally tran...</td>\n",
       "      <td>-2.421822</td>\n",
       "      <td>-5.398034</td>\n",
       "      <td>visceral leishmaniasis globally transmit paras...</td>\n",
       "    </tr>\n",
       "    <tr>\n",
       "      <th>S0006320716309752</th>\n",
       "      <td>S0006320716309752</td>\n",
       "      <td>Spatial modelling of non-target exposure to an...</td>\n",
       "      <td>2017-06-16T00:00:00.000Z</td>\n",
       "      <td>Alberta, Canada, is rich in natural resources,...</td>\n",
       "      <td>-2.414597</td>\n",
       "      <td>0.837719</td>\n",
       "      <td>alberta canada rich natural resources find pri...</td>\n",
       "    </tr>\n",
       "    <tr>\n",
       "      <th>S0006497120449031</th>\n",
       "      <td>S0006497120449031</td>\n",
       "      <td>From an old remedy to a magic bullet: molecula...</td>\n",
       "      <td>2020-12-14T00:00:00.000Z</td>\n",
       "      <td>Arsenic is the 20th most abundant element in t...</td>\n",
       "      <td>-2.729861</td>\n",
       "      <td>4.537601</td>\n",
       "      <td>arsenic abundant element earth chemical analog...</td>\n",
       "    </tr>\n",
       "    <tr>\n",
       "      <th>S0007091217300508</th>\n",
       "      <td>S0007091217300508</td>\n",
       "      <td>Financial and environmental costs of reusable ...</td>\n",
       "      <td>2017-12-13T00:00:00.000Z</td>\n",
       "      <td>Editor's key points•Anaesthetists use large am...</td>\n",
       "      <td>0.133853</td>\n",
       "      <td>0.703562</td>\n",
       "      <td>editors key point anaesthetists use large amou...</td>\n",
       "    </tr>\n",
       "  </tbody>\n",
       "</table>\n",
       "</div>"
      ],
      "text/plain": [
       "                                 pii  \\\n",
       "pii                                    \n",
       "S0001457513001735  S0001457513001735   \n",
       "S0001706X16301231  S0001706X16301231   \n",
       "S0006320716309752  S0006320716309752   \n",
       "S0006497120449031  S0006497120449031   \n",
       "S0007091217300508  S0007091217300508   \n",
       "\n",
       "                                                               title  \\\n",
       "pii                                                                    \n",
       "S0001457513001735  Development and validation of safety climate s...   \n",
       "S0001706X16301231  Dispersal of <ce:italic>Lutzomyia longipalpis<...   \n",
       "S0006320716309752  Spatial modelling of non-target exposure to an...   \n",
       "S0006497120449031  From an old remedy to a magic bullet: molecula...   \n",
       "S0007091217300508  Financial and environmental costs of reusable ...   \n",
       "\n",
       "                                       date  \\\n",
       "pii                                           \n",
       "S0001457513001735  2013-05-10T00:00:00.000Z   \n",
       "S0001706X16301231  2016-09-15T00:00:00.000Z   \n",
       "S0006320716309752  2017-06-16T00:00:00.000Z   \n",
       "S0006497120449031  2020-12-14T00:00:00.000Z   \n",
       "S0007091217300508  2017-12-13T00:00:00.000Z   \n",
       "\n",
       "                                                                text  \\\n",
       "pii                                                                    \n",
       "S0001457513001735  Safety climate is defined as the shared percep...   \n",
       "S0001706X16301231  Visceral leishmaniasis (VL) is a globally tran...   \n",
       "S0006320716309752  Alberta, Canada, is rich in natural resources,...   \n",
       "S0006497120449031  Arsenic is the 20th most abundant element in t...   \n",
       "S0007091217300508  Editor's key points•Anaesthetists use large am...   \n",
       "\n",
       "                          x         y  \\\n",
       "pii                                     \n",
       "S0001457513001735 -2.941993 -2.226599   \n",
       "S0001706X16301231 -2.421822 -5.398034   \n",
       "S0006320716309752 -2.414597  0.837719   \n",
       "S0006497120449031 -2.729861  4.537601   \n",
       "S0007091217300508  0.133853  0.703562   \n",
       "\n",
       "                                                      text_processed  \n",
       "pii                                                                   \n",
       "S0001457513001735  safety climate define share perception among w...  \n",
       "S0001706X16301231  visceral leishmaniasis globally transmit paras...  \n",
       "S0006320716309752  alberta canada rich natural resources find pri...  \n",
       "S0006497120449031  arsenic abundant element earth chemical analog...  \n",
       "S0007091217300508  editors key point anaesthetists use large amou...  "
      ]
     },
     "execution_count": 190,
     "metadata": {},
     "output_type": "execute_result"
    }
   ],
   "source": [
    "articles = articles.join(\n",
    "    data.groupby(\"pii\")[\"text\"].agg(\" \".join), rsuffix=\"_processed\"\n",
    ")\n",
    "articles.head()"
   ]
  },
  {
   "cell_type": "code",
   "execution_count": 193,
   "id": "69495226-3f00-46c1-9357-054e2634199c",
   "metadata": {},
   "outputs": [],
   "source": [
    "articles = articles.dropna()"
   ]
  },
  {
   "cell_type": "code",
   "execution_count": 194,
   "id": "e069f686-5af8-4c2c-94fd-34c81a7f9522",
   "metadata": {},
   "outputs": [],
   "source": [
    "article_vector = articles[[\"x\", \"y\"]].values"
   ]
  },
  {
   "cell_type": "code",
   "execution_count": 211,
   "id": "f32ebe56-414d-4cbf-a306-1afe34985dca",
   "metadata": {},
   "outputs": [
    {
     "name": "stdout",
     "output_type": "stream",
     "text": [
      "Wall time: 1.16 s\n"
     ]
    },
    {
     "name": "stderr",
     "output_type": "stream",
     "text": [
      "<timed exec>:4: SettingWithCopyWarning: \n",
      "A value is trying to be set on a copy of a slice from a DataFrame.\n",
      "Try using .loc[row_indexer,col_indexer] = value instead\n",
      "\n",
      "See the caveats in the documentation: https://pandas.pydata.org/pandas-docs/stable/user_guide/indexing.html#returning-a-view-versus-a-copy\n"
     ]
    },
    {
     "data": {
      "text/plain": [
       "7"
      ]
     },
     "execution_count": 211,
     "metadata": {},
     "output_type": "execute_result"
    }
   ],
   "source": [
    "%%time\n",
    "clusterer = hdbscan.HDBSCAN(min_cluster_size=50, min_samples=1, cluster_selection_epsilon=1)\n",
    "clusterer = SpectralClustering()\n",
    "cluster_labels = clusterer.fit_predict(article_vector)\n",
    "articles[\"label\"] = cluster_labels\n",
    "articles[\"label\"].max()"
   ]
  },
  {
   "cell_type": "code",
   "execution_count": 212,
   "id": "1021778c-0ca0-4115-874c-126e43fdc650",
   "metadata": {},
   "outputs": [
    {
     "name": "stderr",
     "output_type": "stream",
     "text": [
      "C:\\Programs\\miniconda3\\envs\\gaz\\lib\\site-packages\\seaborn\\_decorators.py:36: FutureWarning: Pass the following variable as a keyword arg: x. From version 0.12, the only valid positional argument will be `data`, and passing other arguments without an explicit keyword will result in an error or misinterpretation.\n",
      "  warnings.warn(\n"
     ]
    },
    {
     "data": {
      "text/plain": [
       "<AxesSubplot:ylabel='count'>"
      ]
     },
     "execution_count": 212,
     "metadata": {},
     "output_type": "execute_result"
    },
    {
     "data": {
      "image/png": "[encoded data removed]",
      "text/plain": [
       "<Figure size 432x288 with 1 Axes>"
      ]
     },
     "metadata": {
      "needs_background": "light"
     },
     "output_type": "display_data"
    }
   ],
   "source": [
    "sns.countplot(cluster_labels)"
   ]
  },
  {
   "cell_type": "code",
   "execution_count": 154,
   "id": "2888631d-0b31-41e7-b4a1-e31010327c38",
   "metadata": {
    "tags": []
   },
   "outputs": [],
   "source": [
    "articles[\"label\"] = cluster_labels"
   ]
  },
  {
   "cell_type": "code",
   "execution_count": 155,
   "id": "678170ae-04a9-49ab-9fb8-08a714d458b2",
   "metadata": {},
   "outputs": [],
   "source": [
    "articles.to_csv(\"../data/articles_labeled.csv\", index=False)"
   ]
  },
  {
   "cell_type": "code",
   "execution_count": 213,
   "id": "b414a6f9-6be3-4e3d-a997-9789c7384997",
   "metadata": {},
   "outputs": [
    {
     "data": {
      "text/plain": [
       "(-8.5, 9.5)"
      ]
     },
     "execution_count": 213,
     "metadata": {},
     "output_type": "execute_result"
    },
    {
     "data": {
      "image/png": "[encoded data removed]",
      "text/plain": [
       "<Figure size 720x720 with 1 Axes>"
      ]
     },
     "metadata": {
      "needs_background": "light"
     },
     "output_type": "display_data"
    }
   ],
   "source": [
    "fig = plt.figure(figsize=(10, 10))\n",
    "\n",
    "plt.scatter(\n",
    "    article_vector[:, 0], article_vector[:, 1], s=20, alpha=0.2, c=cluster_labels\n",
    ")\n",
    "plt.xlim(-8.5, 9.5)\n",
    "plt.ylim(-8.5, 9.5)"
   ]
  },
  {
   "cell_type": "code",
   "execution_count": 31,
   "id": "c03e4905-8f94-4738-a36e-5130f950b99b",
   "metadata": {},
   "outputs": [
    {
     "data": {
      "text/html": [
       "<div>\n",
       "<style scoped>\n",
       "    .dataframe tbody tr th:only-of-type {\n",
       "        vertical-align: middle;\n",
       "    }\n",
       "\n",
       "    .dataframe tbody tr th {\n",
       "        vertical-align: top;\n",
       "    }\n",
       "\n",
       "    .dataframe thead th {\n",
       "        text-align: right;\n",
       "    }\n",
       "</style>\n",
       "<table border=\"1\" class=\"dataframe\">\n",
       "  <thead>\n",
       "    <tr style=\"text-align: right;\">\n",
       "      <th></th>\n",
       "      <th>text</th>\n",
       "      <th>text_original</th>\n",
       "      <th>pii</th>\n",
       "      <th>label</th>\n",
       "    </tr>\n",
       "  </thead>\n",
       "  <tbody>\n",
       "    <tr>\n",
       "      <th>0</th>\n",
       "      <td>natural gas production use increase unite stat...</td>\n",
       "      <td>Natural gas production and use has increased i...</td>\n",
       "      <td>S2666765721000478</td>\n",
       "      <td>6</td>\n",
       "    </tr>\n",
       "    <tr>\n",
       "      <th>1</th>\n",
       "      <td>natural gas extract conventional unconventiona...</td>\n",
       "      <td>Natural gas is extracted through conventional ...</td>\n",
       "      <td>S2666765721000478</td>\n",
       "      <td>3</td>\n",
       "    </tr>\n",
       "    <tr>\n",
       "      <th>2</th>\n",
       "      <td>extract natural gas transport production site ...</td>\n",
       "      <td>Once extracted, natural gas is transported fro...</td>\n",
       "      <td>S2666765721000478</td>\n",
       "      <td>6</td>\n",
       "    </tr>\n",
       "    <tr>\n",
       "      <th>3</th>\n",
       "      <td>compressor station also refer pump station loc...</td>\n",
       "      <td>Compressor stations, also referred to as pumpi...</td>\n",
       "      <td>S2666765721000478</td>\n",
       "      <td>1</td>\n",
       "    </tr>\n",
       "    <tr>\n",
       "      <th>4</th>\n",
       "      <td>depend specific factor diameter pipeline topog...</td>\n",
       "      <td>Depending on specific factors, such as the dia...</td>\n",
       "      <td>S2666765721000478</td>\n",
       "      <td>1</td>\n",
       "    </tr>\n",
       "  </tbody>\n",
       "</table>\n",
       "</div>"
      ],
      "text/plain": [
       "                                                text  \\\n",
       "0  natural gas production use increase unite stat...   \n",
       "1  natural gas extract conventional unconventiona...   \n",
       "2  extract natural gas transport production site ...   \n",
       "3  compressor station also refer pump station loc...   \n",
       "4  depend specific factor diameter pipeline topog...   \n",
       "\n",
       "                                       text_original                pii  label  \n",
       "0  Natural gas production and use has increased i...  S2666765721000478      6  \n",
       "1  Natural gas is extracted through conventional ...  S2666765721000478      3  \n",
       "2  Once extracted, natural gas is transported fro...  S2666765721000478      6  \n",
       "3  Compressor stations, also referred to as pumpi...  S2666765721000478      1  \n",
       "4  Depending on specific factors, such as the dia...  S2666765721000478      1  "
      ]
     },
     "execution_count": 31,
     "metadata": {},
     "output_type": "execute_result"
    }
   ],
   "source": [
    "data = pd.read_csv(\"../data/sentences_labeled.csv\")\n",
    "data.head()"
   ]
  },
  {
   "cell_type": "code",
   "execution_count": 326,
   "id": "7f679fce-41d2-42b8-951a-aaba3b456810",
   "metadata": {},
   "outputs": [],
   "source": [
    "from more_itertools import windowed\n",
    "import spacy\n",
    "from spacytextblob.spacytextblob import SpacyTextBlob\n",
    "\n",
    "\n",
    "def extract_keywords(text, top_n=20):\n",
    "    ke = yake.KeywordExtractor(n=5, top=50)\n",
    "    keywords = ke.extract_keywords(text)\n",
    "    return keywords\n",
    "\n",
    "\n",
    "def window_phrases(phrases, window_size=3):\n",
    "    #     phrases = windowed(text.split(), window_size)\n",
    "    #     phrases = sent_tokenize(text)\n",
    "    phrases = [\n",
    "        i for i in tqdm(phrases) if \"health\" in i.lower() and \"natural gas\" in i.lower()\n",
    "    ]\n",
    "    polarities = np.array([nlp(phrases)._.polarity for phrases in tqdm(phrases)])\n",
    "    #     c = Counter(phrases)\n",
    "    return phrases, polarities"
   ]
  },
  {
   "cell_type": "code",
   "execution_count": 287,
   "id": "7236fc3b-aada-4d15-8aa7-32450c16c829",
   "metadata": {},
   "outputs": [
    {
     "data": {
      "text/plain": [
       "<spacytextblob.spacytextblob.SpacyTextBlob at 0x1cd9d60edf0>"
      ]
     },
     "execution_count": 287,
     "metadata": {},
     "output_type": "execute_result"
    }
   ],
   "source": [
    "nlp = spacy.load(\"en_core_web_sm\")\n",
    "nlp.add_pipe(\"spacytextblob\")"
   ]
  },
  {
   "cell_type": "code",
   "execution_count": 327,
   "id": "5be78e96-1443-4cce-a4a9-37dc51a6b9c5",
   "metadata": {},
   "outputs": [
    {
     "data": {
      "application/vnd.jupyter.widget-view+json": {
       "model_id": "98ca4b4d9d934615ae9f7125b3a6a625",
       "version_major": 2,
       "version_minor": 0
      },
      "text/plain": [
       "  0%|          | 0/498915 [00:00<?, ?it/s]"
      ]
     },
     "metadata": {},
     "output_type": "display_data"
    },
    {
     "data": {
      "application/vnd.jupyter.widget-view+json": {
       "model_id": "a9b1e15b1deb481a8fc6ab00331a6724",
       "version_major": 2,
       "version_minor": 0
      },
      "text/plain": [
       "  0%|          | 0/95 [00:00<?, ?it/s]"
      ]
     },
     "metadata": {},
     "output_type": "display_data"
    }
   ],
   "source": [
    "phrases, polarities = window_phrases(data[\"text_original\"].values, window_size=2)"
   ]
  },
  {
   "cell_type": "code",
   "execution_count": 328,
   "id": "7a762b4d-7c0d-42af-8b80-82143002de2b",
   "metadata": {},
   "outputs": [
    {
     "data": {
      "text/plain": [
       "array([ 0.04285714,  0.095     ,  0.05      ,  0.184375  ,  0.085     ,\n",
       "        0.1       ,  0.09444444,  0.075     ,  0.13333333, -0.1452381 ,\n",
       "       -0.07      ,  0.0375    ,  0.03333333,  0.040625  ,  0.05      ,\n",
       "        0.05      ,  0.27333333, -0.02952381, -0.03928571,  0.08571429,\n",
       "        0.03137255,  0.00185185,  0.04388889,  0.15833333,  0.1       ,\n",
       "       -0.3       , -0.3       , -0.06875   , -0.3       , -0.01272727,\n",
       "       -0.025     ,  0.11818182,  0.1       ,  0.042     ,  0.040625  ,\n",
       "        0.20243056,  0.05      ,  0.02916667, -0.02222222,  0.04535714,\n",
       "        0.12232143,  0.16428571,  0.225     ,  0.11875   , -0.09772727,\n",
       "        0.04444444,  0.05      ,  0.15      ,  0.14444444, -0.04375   ,\n",
       "        0.03333333,  0.14814815,  0.225     ,  0.1       , -0.00833333,\n",
       "        0.1829932 ,  0.06      , -0.06388889,  0.11666667,  0.025     ,\n",
       "        0.11875   ,  0.23333333,  0.05      ,  0.23956044,  0.11875   ,\n",
       "       -0.00333333,  0.18214286,  0.03333333,  0.1       ,  0.00583333,\n",
       "        0.10075758,  0.03290043,  0.06122449,  0.09259259,  0.16666667,\n",
       "        0.2525    ,  0.2       , -0.00833333,  0.09583333,  0.09642857,\n",
       "        0.08939394,  0.17708333,  0.1       ,  0.26666667,  0.11222222,\n",
       "       -0.26458333,  0.00666667,  0.12      ,  0.02      , -0.06952381,\n",
       "        0.1       ,  0.35      ,  0.09047619,  0.17222222,  0.01875   ])"
      ]
     },
     "execution_count": 328,
     "metadata": {},
     "output_type": "execute_result"
    }
   ],
   "source": [
    "polarities"
   ]
  },
  {
   "cell_type": "code",
   "execution_count": 324,
   "id": "500787c2-8797-4de5-adef-839bc2061de2",
   "metadata": {},
   "outputs": [
    {
     "data": {
      "text/plain": [
       "['However, there is limited information about exposure to air contaminants and resulting health effects in residents living near natural gas compressor stations.',\n",
       " 'Due to the rapid rise of natural gas and fracking technology coupled with the lack of transparency involved in the processes, many questions surround the potential public health impacts (Adgate et al., 2014, Fisher et al., 2018).',\n",
       " 'In an effort to contribute to understanding of tree health in proximity to gas leaks, we conducted a formal assessment of tree death and fugitive natural gas exposure in a densely populated urban community in Massachusetts, USA.',\n",
       " 'While not all trees removed each year are due to methane exposure-related decline, our results indicate that fugitive natural gas could be an important contributor to urban tree death and that these deaths could have notable ecological, human health, and economic impacts.',\n",
       " 'We found that exposure to elevated soil methane concentrations was associated with significant increased odds of tree death, supporting the hypothesis that fugitive emissions from natural gas distribution infrastructure negatively impact urban vegetation health.',\n",
       " 'However, studies that investigate the potential exposure for individuals residing near underground natural gas storage fields are rare, and this lack of knowledge impedes efforts to protect public health around these facilities.',\n",
       " 'Methane, the main component of natural gas, also serves as a powerful greenhouse gas with the potential to impact human health by contributing to climate change; however, it is relatively non-toxic and does not have a Permissible Exposure Limit threshold assigned by the Occupational Safety and Health Administration.',\n",
       " 'In collaboration with the U.S. EPA, the CARB, and UCLA COEH, LADPH developed the indoor environmental assessment survey that was conducted during the Public Health Assessment of 114 indoor environments directly after the natural gas storage blowout.',\n",
       " 'While we have an adequate understanding about particles near roadways, a dearth of scientific literature exists investigating the constituents of particles from natural gas storage wells and their impact to human health.',\n",
       " 'Second, single pollutant health-based standards are unable to provide risk estimates from concurrent or close-succession exposures from a wide range of pollutants common in oil and natural gas development and storage.',\n",
       " 'A growing pool of evidence has identified a relationship between the proximity of upstream oil and natural gas facilities and human health impacts; yet, in general, in-situ air pollutant measurements have failed to identify concentrations above heath benchmarks (Garcia-Gonzales et al., 2019b).',\n",
       " 'Similarly, the absence of air sample concentrations that exceed health benchmarks may not ensure the safety of local residents living near natural gas storage facilities and should not be used as a solitary way in which to assess risk.',\n",
       " 'Therefore, and in line with recommendations set forth by the CCST, we recommend facility-specific meteorological and air quality data-collection equipment installed at all natural gas storage facilities to ensure (a) data collection for baseline concentrations against which to compare in the event of an accidental release and (b) to monitor whether routine emissions have the potential to harm public health.',\n",
       " 'While the CCST recommends continued public health surveillance during and after major loss-of-containment events, we expand this recommendation to include environmental surveillance across all natural gas storage facilities despite the presence of human receptors.',\n",
       " 'Natural gas drilling may pose multiple health risks, including congenital anomalies, through air pollutant emissions and contaminated water (Adgate et al., 2014; Esswein et al., 2014; McKenzie et al., 2012; Webb et al., 2014).',\n",
       " 'A recent systematic review evaluated the relationship between oil and natural gas drilling and reproductive health (Balise et al., 2016).',\n",
       " 'In the midst of industry efforts to promote gas as clean, safe, and sustainable, citizens are disturbed by what they perceive as procedural injustices ignoring public health and safety risks, ecological impacts, and climate disruption associated with natural gas infrastructure [3–7].',\n",
       " 'Among the contaminants in the natural gas, H2S is the worst and can never be allowed in natural gas streams because it is highly toxic to living organisms and can irreversibly and strongly coordinate to the metals in the human body, and even low concentrations of H2S are not allowed (the Occupational Safety and Health Administration permissible limit is 5–10 ppm) because of leakage or long-term exposure risks.',\n",
       " 'This article presents a comprehensive review of science-based studies of environmental health impacts caused by the development of unconventional natural gas resources, specifically shale gas, tight gas, and CSG.',\n",
       " 'The searches were based on one primary key search term “...and health” and a range of secondary key search terms used with the primary key search term, e.g., ‘natural gas’ and ‘health’.',\n",
       " 'This includes papers that discussed health in relation to UNGD without utilising data, e.g., discussion of other studies, and;•Irrelevant: The following studies were excluded:ᴑ∘Studies that reported on potentially hazardous discharges and emissions for purposes clearly related to describing environmental impacts, with no discussion of human health issues;ᴑ∘Studies published prior to 1995, conference abstracts, or published in non-English;ᴑ∘Studies that focussed on sour gas, natural gas combustion, oil and oil-related studies, or offshore drilling;ᴑ∘Studies on technical aspects of natural gas processing;ᴑ∘Occupational health studies focussed on human factors and/or fatalities/injuries;ᴑ∘Animal studies related to biodiversity, habitat selection, and species occurrence, and;ᴑ∘Studies, predominantly from internet searches, that included views from environmental, industry, and social action groups due to the bias associated with such studies; however, it is acknowledged that studies in the peer-reviewed literature can also be biased towards specific groups.',\n",
       " 'This includes papers that discussed health in relation to UNGD without utilising data, e.g., discussion of other studies, and; Irrelevant: The following studies were excluded:ᴑ∘Studies that reported on potentially hazardous discharges and emissions for purposes clearly related to describing environmental impacts, with no discussion of human health issues;ᴑ∘Studies published prior to 1995, conference abstracts, or published in non-English;ᴑ∘Studies that focussed on sour gas, natural gas combustion, oil and oil-related studies, or offshore drilling;ᴑ∘Studies on technical aspects of natural gas processing;ᴑ∘Occupational health studies focussed on human factors and/or fatalities/injuries;ᴑ∘Animal studies related to biodiversity, habitat selection, and species occurrence, and;ᴑ∘Studies, predominantly from internet searches, that included views from environmental, industry, and social action groups due to the bias associated with such studies; however, it is acknowledged that studies in the peer-reviewed literature can also be biased towards specific groups.',\n",
       " 'Studies that reported on potentially hazardous discharges and emissions for purposes clearly related to describing environmental impacts, with no discussion of human health issues; Studies published prior to 1995, conference abstracts, or published in non-English; Studies that focussed on sour gas, natural gas combustion, oil and oil-related studies, or offshore drilling; Studies on technical aspects of natural gas processing; Occupational health studies focussed on human factors and/or fatalities/injuries; Animal studies related to biodiversity, habitat selection, and species occurrence, and; Studies, predominantly from internet searches, that included views from environmental, industry, and social action groups due to the bias associated with such studies; however, it is acknowledged that studies in the peer-reviewed literature can also be biased towards specific groups.',\n",
       " 'It found that perception of drilling as an environmental and public health threat is a significant predictor for the level of support of natural gas drilling; however, this did not differ between the two counties (Kriesky et al., 2013), once again demonstrating the importance of risk perception amongst community residents.',\n",
       " 'Under the condition of equivalent heating value, the quantity of CO2, SO2 and dust emitted from natural gas combustion is only 57%, 1/700 and 1/1478 of that emitted from coal combustion, which will help achieve the goal proposed by China to “reduce the CO2 emission per unit GDP by 40%–45% by 2020 compared with that in 2005” and will also help reduce the damage to human health and ecological environment caused by the total suspended particles and SO2 in the atmosphere.',\n",
       " 'It includes coal, crude oil, and natural gas., depletion of forest resources, the incidence of tuberculosis (TB) and health care expenditures as the dependent variable was examined.',\n",
       " 'Therefore, fossil fuel consumption should be minimized.5-The urbanization rate coefficients show that with increasing urbanization rates, the lifespan of coal, crude oil and natural gas energy resources, and the incidence of TB decrease, and the health care expenditures increase.',\n",
       " 'Therefore, in order to reduce the costs of health care and increase the lifespan of energy resources, it is necessary to prevent the spread of urbanization rate.6-Ultimately, MENA countries should have used the proper policies to protect forest resources by diversifying economic activities such as agroforestry, ecotourism and scientific researches instead of direct forest resources depletion Increasing CO2 emissions imply excessive extraction of coal, crude oil and natural gas energy sources reducing the lifespan of these resources as well as forest resources.',\n",
       " 'The urbanization rate coefficients show that with increasing urbanization rates, the lifespan of coal, crude oil and natural gas energy resources, and the incidence of TB decrease, and the health care expenditures increase.',\n",
       " \"The public's health should be a consideration when there is widespread adoption of new industrial activity such as extraction of natural gas through hydraulic fracturing, commonly referred to as “fracking”.\",\n",
       " 'The 51 adults included in this record review had reported at least one symptom on their health assessment, denied occupation exposure related to natural gas extraction and lived in Pennsylvania within 1km of an unconventional natural gas well.',\n",
       " 'Health care providers whose clients live or work in communities where unconventional techniques are used to extract natural gas and/or oil should be alert to the possibility of environmental exposures.',\n",
       " 'The following six processes as directly relevant to food safety are: 1) natural gas for water heating for sanitation; 2) electricity for cooling; 3) packaging materials; 4) chemicals (processing shift); 5) chemicals (cleaning shift); 6) onsite water use, accounting 42% of the entire environmental human health impacts.',\n",
       " 'Optimizing resource use efficiency may focus on processes not directly contributing to improving food safety but causing high environmental human health impacts, such as electricity for processing (i.e., equipment motors and lighting systems) and natural gas for space heating.',\n",
       " 'As natural gas and electricity consumption are the two major contributors to the human health impacts by environmental pollutions, upgrading cleaner energy sources and optimizing the efficiency of energy use at the plant may offer the largest human health benefits.',\n",
       " 'As exemplified by an experienced high-ranking manager in an oil and gas company: ‘it [a large-scale offshore Arctic natural gas project] went down in the list of priorities and was blocked by the development of other natural resources.’ Acknowledgement and higher involvement (4.1S) of ecological and environmental issues by energy companies and governments result in higher health, safety and environment standards (Dietz et al., 2020).',\n",
       " 'To our knowledge, no study has investigated possible health effects of PM2.5 from natural gas combustion using a source apportionment approach.',\n",
       " 'Other source apportionment techniques that only apportion primary PM2.5 cannot be used to examine health associations with PM2.5 from natural gas, because virtually all the PM2.5 produced from natural gas is secondary.',\n",
       " 'Previous work has been done, however, to investigate the public health impact of the boom of unconventional natural gas development (UNGD) throughout the U.S. (Adgate et al., 2014; Casey et al., 2016; Hill, 2012; McKenzie et al., 2012; Rasmussen et al., 2016; Werner et al., 2015).',\n",
       " 'In certain cases, natural gas may contain trace amounts of BTEX, which can pose health concerns and may warrant response actions distinct from those needed to address methane and other hydrocarbon gases alone.3.Persistence of stray gas in groundwater: The relative persistence of stray gas in an aquifer largely depends on the natural hydrogeologic and redox conditions of the aquifer, including: i) the confined/unconfined and heterogeneous/homogenous nature of aquifers, which drive the likelihood that free-gas escapes to the unsaturated zone or surface, ii) aquifer transmissivity and average groundwater velocity, which affect the dissolution of trapped free-phase gas and advective transport of dissolved gas, and iii) the redox state and associated potential for biodegradation of dissolved gas.',\n",
       " 'In certain cases, natural gas may contain trace amounts of BTEX, which can pose health concerns and may warrant response actions distinct from those needed to address methane and other hydrocarbon gases alone.',\n",
       " 'Proactive measures and management of all gas pipeline system defects, from small to large, with transparency taking into account both the frequency and severity of leaks, using established risk management procedures is recommended.Key findings1.Leaked methane from natural gas distribution is a significant human and environmental health problem in urban areas.2.A straightforward, innovative, and proactive measurement procedure is introduced and deployed in towns in the Northeast U.S.',\n",
       " '1.Leaked methane from natural gas distribution is a significant human and environmental health problem in urban areas.2.A straightforward, innovative, and proactive measurement procedure is introduced and deployed in towns in the Northeast U.S.',\n",
       " 'Leaked methane from natural gas distribution is a significant human and environmental health problem in urban areas.',\n",
       " 'The worst results are for natural gas due to low points from GHG impacts, domestic solar heating due to low points from economic indicators, and for traditional biomass due low points from the health indicator (PM10,2.5).',\n",
       " 'To assess the impact on CO2 emissions (and in the following section, impacts on health) of current and future Swedish nuclear electricity production, three scenarios were modeled here:1.Nuclear is replaced by (or replaces) 100% coal2.Nuclear is replaced by (or replaces) 90% coal and 10% natural gas3.Nuclear is replaced by (or replaces) 80% coal and 20% natural gas Nuclear is replaced by (or replaces) 100% coal Nuclear is replaced by (or replaces) 90% coal and 10% natural gas Nuclear is replaced by (or replaces) 80% coal and 20% natural gas For this analysis, all reactors are assumed to continue to operate for the rest of their technological lifespans (Table 1) at their individual lifetime integrated capacity factors (up to 2013) as reported to the Power Reactor Information System (PRIS) (International Atomic Energy Agency (IAEA), 2014).',\n",
       " 'LPG, wood, charcoal, ethanol, biogas, natural gas, solar, grid electricity), in the context of differing national priorities for health and climate mitigation, we suggest that explicit integration of these goals in decision support tools is necessary.',\n",
       " 'In order to effectively reduce the risk of metal elements in PM2.5 partials bring to health, government should take relevant measures to reduce risks, such as advocating green travel, reducing the use of private cars, and encouraging the use of natural gas to cut coal use.',\n",
       " 'Environmental, health and safety assessment was performed to analyze the life cycle impact and potential hazards associated with the operation of CO2 capture units that employ phase-change solvents, designed for two industrial sites: a quick lime plant, producing 150 tonnes of lime per day, and a 400 MW natural gas combined cycle power plant.',\n",
       " 'As an example, global average values of the mortality rate per billion kWh, due to all causes as reported by the World Health Organization (WHO), are 100 for coal, 36 for oil, 24 for biofuel/biomass, 4 for natural gas, 1.4 for hydro, 0.44 for solar, 0.15 for wind and 0.04 for nuclear (Table 6).',\n",
       " 'To obtain easier Health and Safety Executive clearance, and avoid public dissent, the link pipe was planned to be operated as a pressured CO2 gas, analogous to local distribution in natural gas.',\n",
       " 'The call specifically recommends policies that advance the following aims:1Meet and strengthen the commitments under the Paris Agreement2Transition away from the use of coal, oil and natural gas to clean, safe, and renewable energy.3Transition to zero-carbon transportation systems with an emphasis on active transportation.4Build local, healthy, and sustainable food and agricultural systems.5Invest in policies that support a just transition for workers and communities adversely impacted by the move to a low-carbon economy6Ensure that gender equality is central to climate action.7Raise the health sector voice in the call for climate action.8Incorporate climate solutions into all health care and public health systems.9Build resilient communities in the face of climate change.10Invest in climate and health.',\n",
       " 'Given that adverse impacts of HAP is of great importance from public health perspectives, stringent guidelines and policy measures should be established to eradicate the use of unclean fuels like biomass and kerosene and encourage use of relatively cleaner fuels like ethanol, natural gas and electricity.',\n",
       " 'Lean-burn engines that operate in excess O2 and run on natural gas (NG), propane or their bio alternatives are considered promising possibilities to reduce cumulative emissions and mitigate public health effects caused by them [9–12].',\n",
       " 'That study also did not consider the health or climate costs of the combustion sources, the delays between planning and operation of nuclear plants or plants using natural gas with carbon capture, or the resulting background-grid CO2 and air-pollution emissions and costs due to such delays.',\n",
       " 'Iran is a regional power and has an important role in international energy security and the world economy as a result of its large reserves of petroleum and natural gas.1,2 Health care in Iran primarily is divided in 3 main sections: the public-governmental system, the private sector, and nongovernmental organizations.',\n",
       " 'Critical energy infrastructures (CEIs) including electricity, natural gas and oil systems, provide fuel that is essential for the continuous and reliable functioning of national or regional security, economic operations, public health and safety.',\n",
       " 'Measurements of NO2 exposures from LPG stoves are sparse in LMICs, despite previous findings of NO2 in kitchens with other types of gas stoves in LMICs and the growing body of literature on the health impacts of NO2 exposures from natural gas stoves in HICs.',\n",
       " 'It provides detailed statistics on socio economic themes (population, housing, income, education, employment), human health, urban landscape, and energy use by individual households (natural gas, electricity) at city, district and neighbourhood level.',\n",
       " 'Due to the presence of the largest natural gas field in the world and the associated activities near the study area, the health of these marine ecosystems are threatened, and coastal habitats have been severely degraded already (Kalhori and Kokya, 2012).',\n",
       " 'SDGs among other environmental initiatives has been deemed to have most influence in improving the socio-economic, environmental and public health of the region vis-à-vis reduction in FG through increased natural gas utilization in the country.',\n",
       " 'After the energy use was calculated, DEFRA carbon emission conversion standards (kg of CO2e/kWh) were applied to each electricity source as follows: natural gas (0.184), oil (0.276), coal (0.310), nuclear-renewables-on site generated (0.412).21 According to a survey carried out by the NHS, with more than 1000 hospitals, the energy mix by health care facilities is distributed as follows: natural gas (39%), coal generation (33%), mixture of renewables-nuclear-on site (27%), and oil (1%).22 A conversion factor of 0.288 kg CO2/kWh energy-emissions was then used.',\n",
       " 'The U.S. average electricity contains a higher percentage of natural gas than RFCW electricity (Table S21), which caused the higher ecotoxicity and human health cancer impact compared to using the U.S. average electricity grid.',\n",
       " 'In addition, bone metabolism increases with age, and the potential clinical application of these markers is to assess fracture risk.3 More recently, there has been evidence that aquatic exercise can affect bone metabolism.4-8 In addition to aquatic exercise, the elderly can also be immersed in certain water without exercise, such as balneotherapy, which is also considered effective and has a good effect on bone health.9-11 Balneotherapy traditionally involved either immersion in mineral and/or thermal waters from natural springs and/or balneological interventions with natural gases or peloids (mud).12 In this study, balneotherapy was defined as the use of baths (in tubs or pools) containing thermal and/or mineral water from natural springs or drilled wells.13 Balneotherapy is a potentially useful complementary therapy that can be used for non-invasive treatment for many pathological conditions.',\n",
       " 'The Figure shows that significant impacts on human health are coming from electricity, emissions, and natural gas (16.3 mPt, 7.96 mPt, and 5.91 mPt, respectively).',\n",
       " 'The second highest impact is related to climate change affects human health (4.75 × 10−7 DALY equal to 14.1 mPt per each dry kg), while the third highest impact is on particulate matter formation (3.65 × 10−7 DALY equal to 10.7 mPt per each dry kg) which is mainly related to emissions from incineration plus the emissions from electricity and natural gas production.',\n",
       " 'Besides, people should encourage to use bicycle in a short distance, and public bike sharing (PBS) system (like China) should be available for mass usage, which is not only environment friendly but also beneficial for health.iiiUse of renewable energy: Use of renewable energy can lower the demand of fossil fuels like coal, oil, and natural gas, which can play an important role in reducing the GHGs emissions (Ellabban et al., 2014; CCAC, 2019).',\n",
       " \"Then, respondents' attitudes toward wind, coal, and natural gas generally (not a specific facility) were ascertained, as well as their beliefs about impacts on human health and the environment.\",\n",
       " 'Nevertheless, both communities agree that the damages to health and environment are reduced as one moves from coal, to natural gas, to wind power.',\n",
       " 'Another way of describing these results is that, on average, residents in both communities accurately describe the relative environmental and health impacts of coal, natural gas and wind, with only a slight bias based on familiarity, local employment, and possibly also due to community political preferences.',\n",
       " 'Mothers Out Front’s fossil fuel infrastructure campaigns have particularly focused on local-level impacts of new natural gas infrastructure, including disproportionate health impacts and encroachment on marginalized communities, empowering local resistance to the fossil fuel industry.',\n",
       " 'The report [1] describes and recommends multiple strategies to make outages less frequent or smaller, including:•Improving the health and reliability of individual grid components, for example through preventative maintenance;•Designing the system’s cyber-physical architecture to reduce the criticality of individual components;•Rapidly providing better information and control strategies to operators through increased deployment of sensors and advanced data analytics; and•Avoiding over-reliance on any single fuel source, particularly natural gas, which has vulnerable supply networks.',\n",
       " 'Improving the health and reliability of individual grid components, for example through preventative maintenance; Designing the system’s cyber-physical architecture to reduce the criticality of individual components; Rapidly providing better information and control strategies to operators through increased deployment of sensors and advanced data analytics; and Avoiding over-reliance on any single fuel source, particularly natural gas, which has vulnerable supply networks.',\n",
       " 'Some can offer financial or social benefits to early adopters—cooler homes for the owners of air conditioning, improved health for cookstove users, savings at the pump for FFV drivers—whereas others (such as nuclear power in France, oil in Kuwait, and natural gas in the Netherlands) primarily diffused their benefits to governments and private corporate actors in the form of economic rents.',\n",
       " 'These findings suggest that replacing biomass fuel by natural gas may be an important public health intervention in Colombia because it can reduce the prevalence of abnormal patterns of pulmonary function.',\n",
       " 'Although coal to natural gas costs will increase cost, natural gas has the best emission reduction effect with no other pollutants, which is conducive to environmental protection and the human health of the personnel in the mixing station.',\n",
       " 'This rapid development of unconventional natural gas resources in the Appalachian region has led to many concerns about the potential community, economic, health, and environmental consequences.',\n",
       " 'Groups of citizens, such as watershed organizations and other environmental groups, have begun to collect or enhanced their efforts to collect data used to monitor the health of ecosystems affected by natural gas development [47,73–75].',\n",
       " 'It can result in significant health issues, including asthma, cardiovascular, cancer, decreasing the quality and number of years of life.•Data are valuable for policymakers to further study low-emission vehicles as an attempt to combat climate change issues.•To comply with the regulatory restrictions, the engine operator may also use the data for further engine development coupled with alternative fuel such as biodiesel or natural gas, either experimentally or numerically.',\n",
       " 'Indeed, less-expensive modern fuels including natural gas and liquefied petroleum gas need to be accessible and economical.111 These interventions are only viable with coordinated support from the government and the commercial sector.112 To tackle the problem of IAP, additional research is necessary for associations between cancers and IAP risk factors, exposure assessment, and public health intervention outcomes.113 Additional outcomes of IAP need evaluation.',\n",
       " 'The rule below demonstrates an example of the logic development for heating measures:IF the current heating system is a central forced-air natural gas systemAND it is 30years oldAND has an AFUE of 72%AND has a size of 150kBtuhTHEN perform the following upgrades:1.Upgrade current 30year old system with a new energy star labeled central forced-air heating system with an AFUE of more than 90%.2.In order to determine the proper sizing for the heating system and to perform a health and safety test before and after the installation of a new system, consult an energy retrofit professional.',\n",
       " 'This dynamic in the electricity system is important for policy makers to keep in mind when considering the energy system more broadly as we can expect further electrification in mobility (for environmental and health reasons), heating (including a move away from natural gas for environmental and energy security reasons) and industry (for environmental reasons).',\n",
       " 'Although natural gas and electrical cooking reduce the health concerns of biomass cooking, they remain a costly option with environmental impacts.',\n",
       " 'This shift has strong indoor air health benefits associated with reduced indoor particulate matter, but counts as increased GHG emissions to the degree LPG or natural gas is used.',\n",
       " 'Multiple IOM reports have outlined how unique this lack of basic safety is in healthcare is [3,10] and have called for healthcare to adopt many of the standard safety practices from other high risk industries such as nuclear power, aviation and natural gas [3].',\n",
       " 'However, incidence oil spills and environmental pollution of nearby rivers and lakes posed a serious health risk to the people of the region due to crude oil spillage and natural gas exploration and refining activities.',\n",
       " 'In Delhi, previous efforts to control pollution in the early 2000s, such as converting all commercial vehicles to compressed natural gas and closing polluting industries, helped to improve respiratory health (Foster and Kumar, 2011), but these gains may be now overshadowed by the increased vehicle population (Gurjar et al., 2016).',\n",
       " 'Indeed, over one-half of the world’s population cooks using electricity or gaseous fuels, mostly piped natural gas or bottled liquefied petroleum gas, which, relative to solid fuels, emit very low levels of health-damaging pollutants.',\n",
       " 'Their results offer an alternative perspective on how HOM decomposition could affect the aerosol-climate interaction and induce adverse health effects related to oxidative stress.Potential EnergyDong, page 520Fifth-year PhD student Zhe Dong talks about the efforts of Guangbin Dong’s lab in further developing cooperative palladium/norbornene catalysis, his personal development under Guangbin’s guidance, and the high-quality research environment of the Chemistry Department at the University of Chicago.ReviewsStrauss et al., page 531In the quest to develop functional all-carbon-based devices for energy solutions of the future, the authors discuss fullerenes, carbon nanotubes, and graphene in the context of their uni- and bidirectional charge-transport and -transfer properties.Li et al., page 557The authors provide an updated status on metal-organic frameworks (MOFs) for methane storage and discuss the opportunity to improve their capacity at 65 bar by adjusting the storage temperature to 270 K, which could enable the wide-spread use of natural gas as a transportation fuel.',\n",
       " 'While it is suspected that atmospheric deposition has historically lowered base cation pools and soil pH,16,17 costly additions of dolostone or limestone to buffer such acidity and improve tree health typically have species specific results at best.18 Oil and gas operations can reduce forest biomass where infrastructure development is occurring and thus change forest core/edge extent.19 Natural gas development is largely occurring in ES1, ES2, and ES3 with the extent and rate differing depending on whether conventional or unconventional gas is being developed.',\n",
       " 'Natural gas cooking alleviates the health concerns of indoor air pollution (Smith and Dutta, 2011), but remains a costly option.',\n",
       " 'The model showed that in residences with natural gas cooking burners the formaldehyde levels may exceed acute Californian health-based standards and guidelines.',\n",
       " 'The choice of an estimated matrix, not informed by the IBGE, was given an option by working with more data current Brazilian economy.SectorsAgriculture, forestry, logging1Livestock and fishing2Oil and natural gas3Iron ore4Other mining and quarrying5Food and beverage6Products tobacco7Textiles8Articles of apparel and accessories9Leather goods and footwear10Wood products — furniture exclusive11Pulp and paper products12Newspapers, magazines, records13Petroleum refining and coke14Alcoho15Chemicals products16Resin manufacturing and elastomers17Pharmaceuticals18Pesticides19Perfumery, hygiene and cleaning20Paints, varnishes, enamels and lacquers21Products and prepared several chemical22Rubber and plastic23Cement24Other non-metallic mineral products25Steel manufacturing and derivatives26Non-ferrous metallurgy27Metal products — except machinery and equipment28Machinery and equipment, including maintenance and repairs29Appliances30Office machinery and computer equipment31Machinery, appliances and equipment32Electronic material and communication equipment33Devices/medical and hospital instruments, measurement and optical34Cars, vans and utilities35Trucks and buses36Parts and accessories for motor vehicles37Other transport equipment38Furniture and products of various industries39Electricity and gas, water, sewage and urban sanitation40Construction41Trade42Transport, storage and postal services43Information services44Financial intermediation and insurance45Real estate and rental46Maintenance and repair47Accommodation and food services48Business services49Commercial education50Commercial health51Services provided to families and associations52Domestic services53Public education54Public health55Public administration and social security56 Source: Authors.',\n",
       " 'India is found as 4th largest petroleum consuming country followed by USA, China and Japan countries with its impact on grown economy of 6–8% per year and it can create further strong dependency on various type of petroleum products (petrol, kerosene or natural gases) with more environmental causing health problems risks and challenges like global warming.',\n",
       " 'A decreased sense of smell can lead to significant impairment of quality of life, including taste disturbance and loss of pleasure from eating with resulting changes in weight and difficulty in avoiding health risks such as spoiled food or not recognizing a natural gas leak.']"
      ]
     },
     "execution_count": 324,
     "metadata": {},
     "output_type": "execute_result"
    }
   ],
   "source": [
    "[phrases[i] for i in range(len(polarities)) 5]"
   ]
  },
  {
   "cell_type": "code",
   "execution_count": 224,
   "id": "0c7597e7-0207-45cd-b19b-f224f7a6a7d9",
   "metadata": {
    "collapsed": true,
    "jupyter": {
     "outputs_hidden": true
    },
    "tags": []
   },
   "outputs": [
    {
     "data": {
      "application/vnd.jupyter.widget-view+json": {
       "model_id": "0dca0c1bde1c4e66a690c1a58bba960b",
       "version_major": 2,
       "version_minor": 0
      },
      "text/plain": [
       "  0%|          | 0/8 [00:00<?, ?it/s]"
      ]
     },
     "metadata": {},
     "output_type": "display_data"
    },
    {
     "name": "stdout",
     "output_type": "stream",
     "text": [
      "False 5\n",
      "0\n"
     ]
    },
    {
     "ename": "KeyboardInterrupt",
     "evalue": "",
     "output_type": "error",
     "traceback": [
      "\u001b[1;31m---------------------------------------------------------------------------\u001b[0m",
      "\u001b[1;31mKeyboardInterrupt\u001b[0m                         Traceback (most recent call last)",
      "\u001b[1;32m<ipython-input-224-b83d6924b0c2>\u001b[0m in \u001b[0;36m<module>\u001b[1;34m\u001b[0m\n\u001b[0;32m      1\u001b[0m \u001b[0mkeywords\u001b[0m \u001b[1;33m=\u001b[0m \u001b[1;33m{\u001b[0m\u001b[1;33m}\u001b[0m\u001b[1;33m\u001b[0m\u001b[1;33m\u001b[0m\u001b[0m\n\u001b[1;32m----> 2\u001b[1;33m \u001b[1;32mfor\u001b[0m \u001b[0mi\u001b[0m \u001b[1;32min\u001b[0m \u001b[0mtqdm\u001b[0m\u001b[1;33m(\u001b[0m\u001b[0marticles\u001b[0m\u001b[1;33m[\u001b[0m\u001b[1;34m\"label\"\u001b[0m\u001b[1;33m]\u001b[0m\u001b[1;33m.\u001b[0m\u001b[0munique\u001b[0m\u001b[1;33m(\u001b[0m\u001b[1;33m)\u001b[0m\u001b[1;33m)\u001b[0m\u001b[1;33m:\u001b[0m\u001b[1;33m\u001b[0m\u001b[1;33m\u001b[0m\u001b[0m\n\u001b[0m\u001b[0;32m      3\u001b[0m     \u001b[0mdocs\u001b[0m \u001b[1;33m=\u001b[0m \u001b[0marticles\u001b[0m\u001b[1;33m[\u001b[0m\u001b[0marticles\u001b[0m\u001b[1;33m[\u001b[0m\u001b[1;34m\"label\"\u001b[0m\u001b[1;33m]\u001b[0m \u001b[1;33m==\u001b[0m \u001b[0mi\u001b[0m\u001b[1;33m]\u001b[0m\u001b[1;33m[\u001b[0m\u001b[1;34m\"text_processed\"\u001b[0m\u001b[1;33m]\u001b[0m\u001b[1;33m.\u001b[0m\u001b[0mvalues\u001b[0m\u001b[1;33m\u001b[0m\u001b[1;33m\u001b[0m\u001b[0m\n\u001b[0;32m      4\u001b[0m     \u001b[1;32mtry\u001b[0m\u001b[1;33m:\u001b[0m\u001b[1;33m\u001b[0m\u001b[1;33m\u001b[0m\u001b[0m\n\u001b[0;32m      5\u001b[0m         \u001b[0mtop_words\u001b[0m \u001b[1;33m=\u001b[0m \u001b[0mextract_keywords\u001b[0m\u001b[1;33m(\u001b[0m\u001b[1;34m\" \"\u001b[0m\u001b[1;33m.\u001b[0m\u001b[0mjoin\u001b[0m\u001b[1;33m(\u001b[0m\u001b[0mdocs\u001b[0m\u001b[1;33m)\u001b[0m\u001b[1;33m,\u001b[0m \u001b[0mtop_n\u001b[0m\u001b[1;33m=\u001b[0m\u001b[1;36m50\u001b[0m\u001b[1;33m)\u001b[0m\u001b[1;33m\u001b[0m\u001b[1;33m\u001b[0m\u001b[0m\n",
      "\u001b[1;32mC:\\Programs\\miniconda3\\envs\\gaz\\lib\\site-packages\\tqdm\\notebook.py\u001b[0m in \u001b[0;36m__iter__\u001b[1;34m(self)\u001b[0m\n\u001b[0;32m    252\u001b[0m     \u001b[1;32mdef\u001b[0m \u001b[0m__iter__\u001b[0m\u001b[1;33m(\u001b[0m\u001b[0mself\u001b[0m\u001b[1;33m)\u001b[0m\u001b[1;33m:\u001b[0m\u001b[1;33m\u001b[0m\u001b[1;33m\u001b[0m\u001b[0m\n\u001b[0;32m    253\u001b[0m         \u001b[1;32mtry\u001b[0m\u001b[1;33m:\u001b[0m\u001b[1;33m\u001b[0m\u001b[1;33m\u001b[0m\u001b[0m\n\u001b[1;32m--> 254\u001b[1;33m             \u001b[1;32mfor\u001b[0m \u001b[0mobj\u001b[0m \u001b[1;32min\u001b[0m \u001b[0msuper\u001b[0m\u001b[1;33m(\u001b[0m\u001b[0mtqdm_notebook\u001b[0m\u001b[1;33m,\u001b[0m \u001b[0mself\u001b[0m\u001b[1;33m)\u001b[0m\u001b[1;33m.\u001b[0m\u001b[0m__iter__\u001b[0m\u001b[1;33m(\u001b[0m\u001b[1;33m)\u001b[0m\u001b[1;33m:\u001b[0m\u001b[1;33m\u001b[0m\u001b[1;33m\u001b[0m\u001b[0m\n\u001b[0m\u001b[0;32m    255\u001b[0m                 \u001b[1;31m# return super(tqdm...) will not catch exception\u001b[0m\u001b[1;33m\u001b[0m\u001b[1;33m\u001b[0m\u001b[1;33m\u001b[0m\u001b[0m\n\u001b[0;32m    256\u001b[0m                 \u001b[1;32myield\u001b[0m \u001b[0mobj\u001b[0m\u001b[1;33m\u001b[0m\u001b[1;33m\u001b[0m\u001b[0m\n",
      "\u001b[1;32mC:\\Programs\\miniconda3\\envs\\gaz\\lib\\site-packages\\tqdm\\std.py\u001b[0m in \u001b[0;36m__iter__\u001b[1;34m(self)\u001b[0m\n\u001b[0;32m   1186\u001b[0m                     \u001b[0mdt\u001b[0m \u001b[1;33m=\u001b[0m \u001b[0mcur_t\u001b[0m \u001b[1;33m-\u001b[0m \u001b[0mlast_print_t\u001b[0m\u001b[1;33m\u001b[0m\u001b[1;33m\u001b[0m\u001b[0m\n\u001b[0;32m   1187\u001b[0m                     \u001b[1;32mif\u001b[0m \u001b[0mdt\u001b[0m \u001b[1;33m>=\u001b[0m \u001b[0mmininterval\u001b[0m \u001b[1;32mand\u001b[0m \u001b[0mcur_t\u001b[0m \u001b[1;33m>=\u001b[0m \u001b[0mmin_start_t\u001b[0m\u001b[1;33m:\u001b[0m\u001b[1;33m\u001b[0m\u001b[1;33m\u001b[0m\u001b[0m\n\u001b[1;32m-> 1188\u001b[1;33m                         \u001b[0mself\u001b[0m\u001b[1;33m.\u001b[0m\u001b[0mupdate\u001b[0m\u001b[1;33m(\u001b[0m\u001b[0mn\u001b[0m \u001b[1;33m-\u001b[0m \u001b[0mlast_print_n\u001b[0m\u001b[1;33m)\u001b[0m\u001b[1;33m\u001b[0m\u001b[1;33m\u001b[0m\u001b[0m\n\u001b[0m\u001b[0;32m   1189\u001b[0m                         \u001b[0mlast_print_n\u001b[0m \u001b[1;33m=\u001b[0m \u001b[0mself\u001b[0m\u001b[1;33m.\u001b[0m\u001b[0mlast_print_n\u001b[0m\u001b[1;33m\u001b[0m\u001b[1;33m\u001b[0m\u001b[0m\n\u001b[0;32m   1190\u001b[0m                         \u001b[0mlast_print_t\u001b[0m \u001b[1;33m=\u001b[0m \u001b[0mself\u001b[0m\u001b[1;33m.\u001b[0m\u001b[0mlast_print_t\u001b[0m\u001b[1;33m\u001b[0m\u001b[1;33m\u001b[0m\u001b[0m\n",
      "\u001b[1;32mC:\\Programs\\miniconda3\\envs\\gaz\\lib\\site-packages\\tqdm\\notebook.py\u001b[0m in \u001b[0;36mupdate\u001b[1;34m(self, n)\u001b[0m\n\u001b[0;32m    264\u001b[0m     \u001b[1;32mdef\u001b[0m \u001b[0mupdate\u001b[0m\u001b[1;33m(\u001b[0m\u001b[0mself\u001b[0m\u001b[1;33m,\u001b[0m \u001b[0mn\u001b[0m\u001b[1;33m=\u001b[0m\u001b[1;36m1\u001b[0m\u001b[1;33m)\u001b[0m\u001b[1;33m:\u001b[0m\u001b[1;33m\u001b[0m\u001b[1;33m\u001b[0m\u001b[0m\n\u001b[0;32m    265\u001b[0m         \u001b[1;32mtry\u001b[0m\u001b[1;33m:\u001b[0m\u001b[1;33m\u001b[0m\u001b[1;33m\u001b[0m\u001b[0m\n\u001b[1;32m--> 266\u001b[1;33m             \u001b[1;32mreturn\u001b[0m \u001b[0msuper\u001b[0m\u001b[1;33m(\u001b[0m\u001b[0mtqdm_notebook\u001b[0m\u001b[1;33m,\u001b[0m \u001b[0mself\u001b[0m\u001b[1;33m)\u001b[0m\u001b[1;33m.\u001b[0m\u001b[0mupdate\u001b[0m\u001b[1;33m(\u001b[0m\u001b[0mn\u001b[0m\u001b[1;33m=\u001b[0m\u001b[0mn\u001b[0m\u001b[1;33m)\u001b[0m\u001b[1;33m\u001b[0m\u001b[1;33m\u001b[0m\u001b[0m\n\u001b[0m\u001b[0;32m    267\u001b[0m         \u001b[1;31m# NB: except ... [ as ...] breaks IPython async KeyboardInterrupt\u001b[0m\u001b[1;33m\u001b[0m\u001b[1;33m\u001b[0m\u001b[1;33m\u001b[0m\u001b[0m\n\u001b[0;32m    268\u001b[0m         \u001b[1;32mexcept\u001b[0m\u001b[1;33m:\u001b[0m  \u001b[1;31m# NOQA\u001b[0m\u001b[1;33m\u001b[0m\u001b[1;33m\u001b[0m\u001b[0m\n",
      "\u001b[1;32mC:\\Programs\\miniconda3\\envs\\gaz\\lib\\site-packages\\tqdm\\std.py\u001b[0m in \u001b[0;36mupdate\u001b[1;34m(self, n)\u001b[0m\n\u001b[0;32m   1237\u001b[0m                     \u001b[0mself\u001b[0m\u001b[1;33m.\u001b[0m\u001b[0m_ema_dn\u001b[0m\u001b[1;33m(\u001b[0m\u001b[0mdn\u001b[0m\u001b[1;33m)\u001b[0m\u001b[1;33m\u001b[0m\u001b[1;33m\u001b[0m\u001b[0m\n\u001b[0;32m   1238\u001b[0m                     \u001b[0mself\u001b[0m\u001b[1;33m.\u001b[0m\u001b[0m_ema_dt\u001b[0m\u001b[1;33m(\u001b[0m\u001b[0mdt\u001b[0m\u001b[1;33m)\u001b[0m\u001b[1;33m\u001b[0m\u001b[1;33m\u001b[0m\u001b[0m\n\u001b[1;32m-> 1239\u001b[1;33m                 \u001b[0mself\u001b[0m\u001b[1;33m.\u001b[0m\u001b[0mrefresh\u001b[0m\u001b[1;33m(\u001b[0m\u001b[0mlock_args\u001b[0m\u001b[1;33m=\u001b[0m\u001b[0mself\u001b[0m\u001b[1;33m.\u001b[0m\u001b[0mlock_args\u001b[0m\u001b[1;33m)\u001b[0m\u001b[1;33m\u001b[0m\u001b[1;33m\u001b[0m\u001b[0m\n\u001b[0m\u001b[0;32m   1240\u001b[0m                 \u001b[1;32mif\u001b[0m \u001b[0mself\u001b[0m\u001b[1;33m.\u001b[0m\u001b[0mdynamic_miniters\u001b[0m\u001b[1;33m:\u001b[0m\u001b[1;33m\u001b[0m\u001b[1;33m\u001b[0m\u001b[0m\n\u001b[0;32m   1241\u001b[0m                     \u001b[1;31m# If no `miniters` was specified, adjust automatically to the\u001b[0m\u001b[1;33m\u001b[0m\u001b[1;33m\u001b[0m\u001b[1;33m\u001b[0m\u001b[0m\n",
      "\u001b[1;32mC:\\Programs\\miniconda3\\envs\\gaz\\lib\\site-packages\\tqdm\\std.py\u001b[0m in \u001b[0;36mrefresh\u001b[1;34m(self, nolock, lock_args)\u001b[0m\n\u001b[0;32m   1342\u001b[0m             \u001b[1;32melse\u001b[0m\u001b[1;33m:\u001b[0m\u001b[1;33m\u001b[0m\u001b[1;33m\u001b[0m\u001b[0m\n\u001b[0;32m   1343\u001b[0m                 \u001b[0mself\u001b[0m\u001b[1;33m.\u001b[0m\u001b[0m_lock\u001b[0m\u001b[1;33m.\u001b[0m\u001b[0macquire\u001b[0m\u001b[1;33m(\u001b[0m\u001b[1;33m)\u001b[0m\u001b[1;33m\u001b[0m\u001b[1;33m\u001b[0m\u001b[0m\n\u001b[1;32m-> 1344\u001b[1;33m         \u001b[0mself\u001b[0m\u001b[1;33m.\u001b[0m\u001b[0mdisplay\u001b[0m\u001b[1;33m(\u001b[0m\u001b[1;33m)\u001b[0m\u001b[1;33m\u001b[0m\u001b[1;33m\u001b[0m\u001b[0m\n\u001b[0m\u001b[0;32m   1345\u001b[0m         \u001b[1;32mif\u001b[0m \u001b[1;32mnot\u001b[0m \u001b[0mnolock\u001b[0m\u001b[1;33m:\u001b[0m\u001b[1;33m\u001b[0m\u001b[1;33m\u001b[0m\u001b[0m\n\u001b[0;32m   1346\u001b[0m             \u001b[0mself\u001b[0m\u001b[1;33m.\u001b[0m\u001b[0m_lock\u001b[0m\u001b[1;33m.\u001b[0m\u001b[0mrelease\u001b[0m\u001b[1;33m(\u001b[0m\u001b[1;33m)\u001b[0m\u001b[1;33m\u001b[0m\u001b[1;33m\u001b[0m\u001b[0m\n",
      "\u001b[1;32mC:\\Programs\\miniconda3\\envs\\gaz\\lib\\site-packages\\tqdm\\notebook.py\u001b[0m in \u001b[0;36mdisplay\u001b[1;34m(self, msg, pos, close, bar_style, check_delay)\u001b[0m\n\u001b[0;32m    162\u001b[0m \u001b[1;33m\u001b[0m\u001b[0m\n\u001b[0;32m    163\u001b[0m         \u001b[0mltext\u001b[0m\u001b[1;33m,\u001b[0m \u001b[0mpbar\u001b[0m\u001b[1;33m,\u001b[0m \u001b[0mrtext\u001b[0m \u001b[1;33m=\u001b[0m \u001b[0mself\u001b[0m\u001b[1;33m.\u001b[0m\u001b[0mcontainer\u001b[0m\u001b[1;33m.\u001b[0m\u001b[0mchildren\u001b[0m\u001b[1;33m\u001b[0m\u001b[1;33m\u001b[0m\u001b[0m\n\u001b[1;32m--> 164\u001b[1;33m         \u001b[0mpbar\u001b[0m\u001b[1;33m.\u001b[0m\u001b[0mvalue\u001b[0m \u001b[1;33m=\u001b[0m \u001b[0mself\u001b[0m\u001b[1;33m.\u001b[0m\u001b[0mn\u001b[0m\u001b[1;33m\u001b[0m\u001b[1;33m\u001b[0m\u001b[0m\n\u001b[0m\u001b[0;32m    165\u001b[0m \u001b[1;33m\u001b[0m\u001b[0m\n\u001b[0;32m    166\u001b[0m         \u001b[1;32mif\u001b[0m \u001b[0mmsg\u001b[0m\u001b[1;33m:\u001b[0m\u001b[1;33m\u001b[0m\u001b[1;33m\u001b[0m\u001b[0m\n",
      "\u001b[1;32mC:\\Programs\\miniconda3\\envs\\gaz\\lib\\site-packages\\traitlets\\traitlets.py\u001b[0m in \u001b[0;36m__set__\u001b[1;34m(self, obj, value)\u001b[0m\n\u001b[0;32m    602\u001b[0m             \u001b[1;32mraise\u001b[0m \u001b[0mTraitError\u001b[0m\u001b[1;33m(\u001b[0m\u001b[1;34m'The \"%s\" trait is read-only.'\u001b[0m \u001b[1;33m%\u001b[0m \u001b[0mself\u001b[0m\u001b[1;33m.\u001b[0m\u001b[0mname\u001b[0m\u001b[1;33m)\u001b[0m\u001b[1;33m\u001b[0m\u001b[1;33m\u001b[0m\u001b[0m\n\u001b[0;32m    603\u001b[0m         \u001b[1;32melse\u001b[0m\u001b[1;33m:\u001b[0m\u001b[1;33m\u001b[0m\u001b[1;33m\u001b[0m\u001b[0m\n\u001b[1;32m--> 604\u001b[1;33m             \u001b[0mself\u001b[0m\u001b[1;33m.\u001b[0m\u001b[0mset\u001b[0m\u001b[1;33m(\u001b[0m\u001b[0mobj\u001b[0m\u001b[1;33m,\u001b[0m \u001b[0mvalue\u001b[0m\u001b[1;33m)\u001b[0m\u001b[1;33m\u001b[0m\u001b[1;33m\u001b[0m\u001b[0m\n\u001b[0m\u001b[0;32m    605\u001b[0m \u001b[1;33m\u001b[0m\u001b[0m\n\u001b[0;32m    606\u001b[0m     \u001b[1;32mdef\u001b[0m \u001b[0m_validate\u001b[0m\u001b[1;33m(\u001b[0m\u001b[0mself\u001b[0m\u001b[1;33m,\u001b[0m \u001b[0mobj\u001b[0m\u001b[1;33m,\u001b[0m \u001b[0mvalue\u001b[0m\u001b[1;33m)\u001b[0m\u001b[1;33m:\u001b[0m\u001b[1;33m\u001b[0m\u001b[1;33m\u001b[0m\u001b[0m\n",
      "\u001b[1;32mC:\\Programs\\miniconda3\\envs\\gaz\\lib\\site-packages\\traitlets\\traitlets.py\u001b[0m in \u001b[0;36mset\u001b[1;34m(self, obj, value)\u001b[0m\n\u001b[0;32m    591\u001b[0m             \u001b[1;31m# we explicitly compare silent to True just in case the equality\u001b[0m\u001b[1;33m\u001b[0m\u001b[1;33m\u001b[0m\u001b[1;33m\u001b[0m\u001b[0m\n\u001b[0;32m    592\u001b[0m             \u001b[1;31m# comparison above returns something other than True/False\u001b[0m\u001b[1;33m\u001b[0m\u001b[1;33m\u001b[0m\u001b[1;33m\u001b[0m\u001b[0m\n\u001b[1;32m--> 593\u001b[1;33m             \u001b[0mobj\u001b[0m\u001b[1;33m.\u001b[0m\u001b[0m_notify_trait\u001b[0m\u001b[1;33m(\u001b[0m\u001b[0mself\u001b[0m\u001b[1;33m.\u001b[0m\u001b[0mname\u001b[0m\u001b[1;33m,\u001b[0m \u001b[0mold_value\u001b[0m\u001b[1;33m,\u001b[0m \u001b[0mnew_value\u001b[0m\u001b[1;33m)\u001b[0m\u001b[1;33m\u001b[0m\u001b[1;33m\u001b[0m\u001b[0m\n\u001b[0m\u001b[0;32m    594\u001b[0m \u001b[1;33m\u001b[0m\u001b[0m\n\u001b[0;32m    595\u001b[0m     \u001b[1;32mdef\u001b[0m \u001b[0m__set__\u001b[0m\u001b[1;33m(\u001b[0m\u001b[0mself\u001b[0m\u001b[1;33m,\u001b[0m \u001b[0mobj\u001b[0m\u001b[1;33m,\u001b[0m \u001b[0mvalue\u001b[0m\u001b[1;33m)\u001b[0m\u001b[1;33m:\u001b[0m\u001b[1;33m\u001b[0m\u001b[1;33m\u001b[0m\u001b[0m\n",
      "\u001b[1;32mC:\\Programs\\miniconda3\\envs\\gaz\\lib\\site-packages\\traitlets\\traitlets.py\u001b[0m in \u001b[0;36m_notify_trait\u001b[1;34m(self, name, old_value, new_value)\u001b[0m\n\u001b[0;32m   1215\u001b[0m \u001b[1;33m\u001b[0m\u001b[0m\n\u001b[0;32m   1216\u001b[0m     \u001b[1;32mdef\u001b[0m \u001b[0m_notify_trait\u001b[0m\u001b[1;33m(\u001b[0m\u001b[0mself\u001b[0m\u001b[1;33m,\u001b[0m \u001b[0mname\u001b[0m\u001b[1;33m,\u001b[0m \u001b[0mold_value\u001b[0m\u001b[1;33m,\u001b[0m \u001b[0mnew_value\u001b[0m\u001b[1;33m)\u001b[0m\u001b[1;33m:\u001b[0m\u001b[1;33m\u001b[0m\u001b[1;33m\u001b[0m\u001b[0m\n\u001b[1;32m-> 1217\u001b[1;33m         self.notify_change(Bunch(\n\u001b[0m\u001b[0;32m   1218\u001b[0m             \u001b[0mname\u001b[0m\u001b[1;33m=\u001b[0m\u001b[0mname\u001b[0m\u001b[1;33m,\u001b[0m\u001b[1;33m\u001b[0m\u001b[1;33m\u001b[0m\u001b[0m\n\u001b[0;32m   1219\u001b[0m             \u001b[0mold\u001b[0m\u001b[1;33m=\u001b[0m\u001b[0mold_value\u001b[0m\u001b[1;33m,\u001b[0m\u001b[1;33m\u001b[0m\u001b[1;33m\u001b[0m\u001b[0m\n",
      "\u001b[1;32mC:\\Programs\\miniconda3\\envs\\gaz\\lib\\site-packages\\ipywidgets\\widgets\\widget.py\u001b[0m in \u001b[0;36mnotify_change\u001b[1;34m(self, change)\u001b[0m\n\u001b[0;32m    603\u001b[0m             \u001b[1;32mif\u001b[0m \u001b[0mname\u001b[0m \u001b[1;32min\u001b[0m \u001b[0mself\u001b[0m\u001b[1;33m.\u001b[0m\u001b[0mkeys\u001b[0m \u001b[1;32mand\u001b[0m \u001b[0mself\u001b[0m\u001b[1;33m.\u001b[0m\u001b[0m_should_send_property\u001b[0m\u001b[1;33m(\u001b[0m\u001b[0mname\u001b[0m\u001b[1;33m,\u001b[0m \u001b[0mgetattr\u001b[0m\u001b[1;33m(\u001b[0m\u001b[0mself\u001b[0m\u001b[1;33m,\u001b[0m \u001b[0mname\u001b[0m\u001b[1;33m)\u001b[0m\u001b[1;33m)\u001b[0m\u001b[1;33m:\u001b[0m\u001b[1;33m\u001b[0m\u001b[1;33m\u001b[0m\u001b[0m\n\u001b[0;32m    604\u001b[0m                 \u001b[1;31m# Send new state to front-end\u001b[0m\u001b[1;33m\u001b[0m\u001b[1;33m\u001b[0m\u001b[1;33m\u001b[0m\u001b[0m\n\u001b[1;32m--> 605\u001b[1;33m                 \u001b[0mself\u001b[0m\u001b[1;33m.\u001b[0m\u001b[0msend_state\u001b[0m\u001b[1;33m(\u001b[0m\u001b[0mkey\u001b[0m\u001b[1;33m=\u001b[0m\u001b[0mname\u001b[0m\u001b[1;33m)\u001b[0m\u001b[1;33m\u001b[0m\u001b[1;33m\u001b[0m\u001b[0m\n\u001b[0m\u001b[0;32m    606\u001b[0m         \u001b[0msuper\u001b[0m\u001b[1;33m(\u001b[0m\u001b[0mWidget\u001b[0m\u001b[1;33m,\u001b[0m \u001b[0mself\u001b[0m\u001b[1;33m)\u001b[0m\u001b[1;33m.\u001b[0m\u001b[0mnotify_change\u001b[0m\u001b[1;33m(\u001b[0m\u001b[0mchange\u001b[0m\u001b[1;33m)\u001b[0m\u001b[1;33m\u001b[0m\u001b[1;33m\u001b[0m\u001b[0m\n\u001b[0;32m    607\u001b[0m \u001b[1;33m\u001b[0m\u001b[0m\n",
      "\u001b[1;32mC:\\Programs\\miniconda3\\envs\\gaz\\lib\\site-packages\\ipywidgets\\widgets\\widget.py\u001b[0m in \u001b[0;36msend_state\u001b[1;34m(self, key)\u001b[0m\n\u001b[0;32m    487\u001b[0m             \u001b[0mstate\u001b[0m\u001b[1;33m,\u001b[0m \u001b[0mbuffer_paths\u001b[0m\u001b[1;33m,\u001b[0m \u001b[0mbuffers\u001b[0m \u001b[1;33m=\u001b[0m \u001b[0m_remove_buffers\u001b[0m\u001b[1;33m(\u001b[0m\u001b[0mstate\u001b[0m\u001b[1;33m)\u001b[0m\u001b[1;33m\u001b[0m\u001b[1;33m\u001b[0m\u001b[0m\n\u001b[0;32m    488\u001b[0m             \u001b[0mmsg\u001b[0m \u001b[1;33m=\u001b[0m \u001b[1;33m{\u001b[0m\u001b[1;34m'method'\u001b[0m\u001b[1;33m:\u001b[0m \u001b[1;34m'update'\u001b[0m\u001b[1;33m,\u001b[0m \u001b[1;34m'state'\u001b[0m\u001b[1;33m:\u001b[0m \u001b[0mstate\u001b[0m\u001b[1;33m,\u001b[0m \u001b[1;34m'buffer_paths'\u001b[0m\u001b[1;33m:\u001b[0m \u001b[0mbuffer_paths\u001b[0m\u001b[1;33m}\u001b[0m\u001b[1;33m\u001b[0m\u001b[1;33m\u001b[0m\u001b[0m\n\u001b[1;32m--> 489\u001b[1;33m             \u001b[0mself\u001b[0m\u001b[1;33m.\u001b[0m\u001b[0m_send\u001b[0m\u001b[1;33m(\u001b[0m\u001b[0mmsg\u001b[0m\u001b[1;33m,\u001b[0m \u001b[0mbuffers\u001b[0m\u001b[1;33m=\u001b[0m\u001b[0mbuffers\u001b[0m\u001b[1;33m)\u001b[0m\u001b[1;33m\u001b[0m\u001b[1;33m\u001b[0m\u001b[0m\n\u001b[0m\u001b[0;32m    490\u001b[0m \u001b[1;33m\u001b[0m\u001b[0m\n\u001b[0;32m    491\u001b[0m \u001b[1;33m\u001b[0m\u001b[0m\n",
      "\u001b[1;32mC:\\Programs\\miniconda3\\envs\\gaz\\lib\\site-packages\\ipywidgets\\widgets\\widget.py\u001b[0m in \u001b[0;36m_send\u001b[1;34m(self, msg, buffers)\u001b[0m\n\u001b[0;32m    735\u001b[0m         \u001b[1;34m\"\"\"Sends a message to the model in the front-end.\"\"\"\u001b[0m\u001b[1;33m\u001b[0m\u001b[1;33m\u001b[0m\u001b[0m\n\u001b[0;32m    736\u001b[0m         \u001b[1;32mif\u001b[0m \u001b[0mself\u001b[0m\u001b[1;33m.\u001b[0m\u001b[0mcomm\u001b[0m \u001b[1;32mis\u001b[0m \u001b[1;32mnot\u001b[0m \u001b[1;32mNone\u001b[0m \u001b[1;32mand\u001b[0m \u001b[0mself\u001b[0m\u001b[1;33m.\u001b[0m\u001b[0mcomm\u001b[0m\u001b[1;33m.\u001b[0m\u001b[0mkernel\u001b[0m \u001b[1;32mis\u001b[0m \u001b[1;32mnot\u001b[0m \u001b[1;32mNone\u001b[0m\u001b[1;33m:\u001b[0m\u001b[1;33m\u001b[0m\u001b[1;33m\u001b[0m\u001b[0m\n\u001b[1;32m--> 737\u001b[1;33m             \u001b[0mself\u001b[0m\u001b[1;33m.\u001b[0m\u001b[0mcomm\u001b[0m\u001b[1;33m.\u001b[0m\u001b[0msend\u001b[0m\u001b[1;33m(\u001b[0m\u001b[0mdata\u001b[0m\u001b[1;33m=\u001b[0m\u001b[0mmsg\u001b[0m\u001b[1;33m,\u001b[0m \u001b[0mbuffers\u001b[0m\u001b[1;33m=\u001b[0m\u001b[0mbuffers\u001b[0m\u001b[1;33m)\u001b[0m\u001b[1;33m\u001b[0m\u001b[1;33m\u001b[0m\u001b[0m\n\u001b[0m\u001b[0;32m    738\u001b[0m \u001b[1;33m\u001b[0m\u001b[0m\n\u001b[0;32m    739\u001b[0m     \u001b[1;32mdef\u001b[0m \u001b[0m_repr_keys\u001b[0m\u001b[1;33m(\u001b[0m\u001b[0mself\u001b[0m\u001b[1;33m)\u001b[0m\u001b[1;33m:\u001b[0m\u001b[1;33m\u001b[0m\u001b[1;33m\u001b[0m\u001b[0m\n",
      "\u001b[1;32mC:\\Programs\\miniconda3\\envs\\gaz\\lib\\site-packages\\ipykernel\\comm\\comm.py\u001b[0m in \u001b[0;36msend\u001b[1;34m(self, data, metadata, buffers)\u001b[0m\n\u001b[0;32m    120\u001b[0m     \u001b[1;32mdef\u001b[0m \u001b[0msend\u001b[0m\u001b[1;33m(\u001b[0m\u001b[0mself\u001b[0m\u001b[1;33m,\u001b[0m \u001b[0mdata\u001b[0m\u001b[1;33m=\u001b[0m\u001b[1;32mNone\u001b[0m\u001b[1;33m,\u001b[0m \u001b[0mmetadata\u001b[0m\u001b[1;33m=\u001b[0m\u001b[1;32mNone\u001b[0m\u001b[1;33m,\u001b[0m \u001b[0mbuffers\u001b[0m\u001b[1;33m=\u001b[0m\u001b[1;32mNone\u001b[0m\u001b[1;33m)\u001b[0m\u001b[1;33m:\u001b[0m\u001b[1;33m\u001b[0m\u001b[1;33m\u001b[0m\u001b[0m\n\u001b[0;32m    121\u001b[0m         \u001b[1;34m\"\"\"Send a message to the frontend-side version of this comm\"\"\"\u001b[0m\u001b[1;33m\u001b[0m\u001b[1;33m\u001b[0m\u001b[0m\n\u001b[1;32m--> 122\u001b[1;33m         self._publish_msg('comm_msg',\n\u001b[0m\u001b[0;32m    123\u001b[0m             \u001b[0mdata\u001b[0m\u001b[1;33m=\u001b[0m\u001b[0mdata\u001b[0m\u001b[1;33m,\u001b[0m \u001b[0mmetadata\u001b[0m\u001b[1;33m=\u001b[0m\u001b[0mmetadata\u001b[0m\u001b[1;33m,\u001b[0m \u001b[0mbuffers\u001b[0m\u001b[1;33m=\u001b[0m\u001b[0mbuffers\u001b[0m\u001b[1;33m,\u001b[0m\u001b[1;33m\u001b[0m\u001b[1;33m\u001b[0m\u001b[0m\n\u001b[0;32m    124\u001b[0m         )\n",
      "\u001b[1;32mC:\\Programs\\miniconda3\\envs\\gaz\\lib\\site-packages\\ipykernel\\comm\\comm.py\u001b[0m in \u001b[0;36m_publish_msg\u001b[1;34m(self, msg_type, data, metadata, buffers, **keys)\u001b[0m\n\u001b[0;32m     64\u001b[0m         \u001b[0mmetadata\u001b[0m \u001b[1;33m=\u001b[0m \u001b[1;33m{\u001b[0m\u001b[1;33m}\u001b[0m \u001b[1;32mif\u001b[0m \u001b[0mmetadata\u001b[0m \u001b[1;32mis\u001b[0m \u001b[1;32mNone\u001b[0m \u001b[1;32melse\u001b[0m \u001b[0mmetadata\u001b[0m\u001b[1;33m\u001b[0m\u001b[1;33m\u001b[0m\u001b[0m\n\u001b[0;32m     65\u001b[0m         \u001b[0mcontent\u001b[0m \u001b[1;33m=\u001b[0m \u001b[0mjson_clean\u001b[0m\u001b[1;33m(\u001b[0m\u001b[0mdict\u001b[0m\u001b[1;33m(\u001b[0m\u001b[0mdata\u001b[0m\u001b[1;33m=\u001b[0m\u001b[0mdata\u001b[0m\u001b[1;33m,\u001b[0m \u001b[0mcomm_id\u001b[0m\u001b[1;33m=\u001b[0m\u001b[0mself\u001b[0m\u001b[1;33m.\u001b[0m\u001b[0mcomm_id\u001b[0m\u001b[1;33m,\u001b[0m \u001b[1;33m**\u001b[0m\u001b[0mkeys\u001b[0m\u001b[1;33m)\u001b[0m\u001b[1;33m)\u001b[0m\u001b[1;33m\u001b[0m\u001b[1;33m\u001b[0m\u001b[0m\n\u001b[1;32m---> 66\u001b[1;33m         self.kernel.session.send(self.kernel.iopub_socket, msg_type,\n\u001b[0m\u001b[0;32m     67\u001b[0m             \u001b[0mcontent\u001b[0m\u001b[1;33m,\u001b[0m\u001b[1;33m\u001b[0m\u001b[1;33m\u001b[0m\u001b[0m\n\u001b[0;32m     68\u001b[0m             \u001b[0mmetadata\u001b[0m\u001b[1;33m=\u001b[0m\u001b[0mjson_clean\u001b[0m\u001b[1;33m(\u001b[0m\u001b[0mmetadata\u001b[0m\u001b[1;33m)\u001b[0m\u001b[1;33m,\u001b[0m\u001b[1;33m\u001b[0m\u001b[1;33m\u001b[0m\u001b[0m\n",
      "\u001b[1;32mC:\\Programs\\miniconda3\\envs\\gaz\\lib\\site-packages\\jupyter_client\\session.py\u001b[0m in \u001b[0;36msend\u001b[1;34m(self, stream, msg_or_type, content, parent, ident, buffers, track, header, metadata)\u001b[0m\n\u001b[0;32m    751\u001b[0m             \u001b[1;31m# use dummy tracker, which will be done immediately\u001b[0m\u001b[1;33m\u001b[0m\u001b[1;33m\u001b[0m\u001b[1;33m\u001b[0m\u001b[0m\n\u001b[0;32m    752\u001b[0m             \u001b[0mtracker\u001b[0m \u001b[1;33m=\u001b[0m \u001b[0mDONE\u001b[0m\u001b[1;33m\u001b[0m\u001b[1;33m\u001b[0m\u001b[0m\n\u001b[1;32m--> 753\u001b[1;33m             \u001b[0mstream\u001b[0m\u001b[1;33m.\u001b[0m\u001b[0msend_multipart\u001b[0m\u001b[1;33m(\u001b[0m\u001b[0mto_send\u001b[0m\u001b[1;33m,\u001b[0m \u001b[0mcopy\u001b[0m\u001b[1;33m=\u001b[0m\u001b[0mcopy\u001b[0m\u001b[1;33m)\u001b[0m\u001b[1;33m\u001b[0m\u001b[1;33m\u001b[0m\u001b[0m\n\u001b[0m\u001b[0;32m    754\u001b[0m \u001b[1;33m\u001b[0m\u001b[0m\n\u001b[0;32m    755\u001b[0m         \u001b[1;32mif\u001b[0m \u001b[0mself\u001b[0m\u001b[1;33m.\u001b[0m\u001b[0mdebug\u001b[0m\u001b[1;33m:\u001b[0m\u001b[1;33m\u001b[0m\u001b[1;33m\u001b[0m\u001b[0m\n",
      "\u001b[1;32mC:\\Programs\\miniconda3\\envs\\gaz\\lib\\site-packages\\ipykernel\\iostream.py\u001b[0m in \u001b[0;36msend_multipart\u001b[1;34m(self, *args, **kwargs)\u001b[0m\n\u001b[0;32m    262\u001b[0m     \u001b[1;32mdef\u001b[0m \u001b[0msend_multipart\u001b[0m\u001b[1;33m(\u001b[0m\u001b[0mself\u001b[0m\u001b[1;33m,\u001b[0m \u001b[1;33m*\u001b[0m\u001b[0margs\u001b[0m\u001b[1;33m,\u001b[0m \u001b[1;33m**\u001b[0m\u001b[0mkwargs\u001b[0m\u001b[1;33m)\u001b[0m\u001b[1;33m:\u001b[0m\u001b[1;33m\u001b[0m\u001b[1;33m\u001b[0m\u001b[0m\n\u001b[0;32m    263\u001b[0m         \u001b[1;34m\"\"\"Schedule send in IO thread\"\"\"\u001b[0m\u001b[1;33m\u001b[0m\u001b[1;33m\u001b[0m\u001b[0m\n\u001b[1;32m--> 264\u001b[1;33m         \u001b[1;32mreturn\u001b[0m \u001b[0mself\u001b[0m\u001b[1;33m.\u001b[0m\u001b[0mio_thread\u001b[0m\u001b[1;33m.\u001b[0m\u001b[0msend_multipart\u001b[0m\u001b[1;33m(\u001b[0m\u001b[1;33m*\u001b[0m\u001b[0margs\u001b[0m\u001b[1;33m,\u001b[0m \u001b[1;33m**\u001b[0m\u001b[0mkwargs\u001b[0m\u001b[1;33m)\u001b[0m\u001b[1;33m\u001b[0m\u001b[1;33m\u001b[0m\u001b[0m\n\u001b[0m\u001b[0;32m    265\u001b[0m \u001b[1;33m\u001b[0m\u001b[0m\n\u001b[0;32m    266\u001b[0m \u001b[1;33m\u001b[0m\u001b[0m\n",
      "\u001b[1;32mC:\\Programs\\miniconda3\\envs\\gaz\\lib\\site-packages\\ipykernel\\iostream.py\u001b[0m in \u001b[0;36msend_multipart\u001b[1;34m(self, *args, **kwargs)\u001b[0m\n\u001b[0;32m    212\u001b[0m         \u001b[0mIf\u001b[0m \u001b[0mmy\u001b[0m \u001b[0mthread\u001b[0m \u001b[0misn\u001b[0m\u001b[0;31m'\u001b[0m\u001b[0mt\u001b[0m \u001b[0mrunning\u001b[0m \u001b[1;33m(\u001b[0m\u001b[0me\u001b[0m\u001b[1;33m.\u001b[0m\u001b[0mg\u001b[0m\u001b[1;33m.\u001b[0m \u001b[0mforked\u001b[0m \u001b[0mprocess\u001b[0m\u001b[1;33m)\u001b[0m\u001b[1;33m,\u001b[0m \u001b[0msend\u001b[0m \u001b[0mimmediately\u001b[0m\u001b[1;33m.\u001b[0m\u001b[1;33m\u001b[0m\u001b[1;33m\u001b[0m\u001b[0m\n\u001b[0;32m    213\u001b[0m         \"\"\"\n\u001b[1;32m--> 214\u001b[1;33m         \u001b[0mself\u001b[0m\u001b[1;33m.\u001b[0m\u001b[0mschedule\u001b[0m\u001b[1;33m(\u001b[0m\u001b[1;32mlambda\u001b[0m \u001b[1;33m:\u001b[0m \u001b[0mself\u001b[0m\u001b[1;33m.\u001b[0m\u001b[0m_really_send\u001b[0m\u001b[1;33m(\u001b[0m\u001b[1;33m*\u001b[0m\u001b[0margs\u001b[0m\u001b[1;33m,\u001b[0m \u001b[1;33m**\u001b[0m\u001b[0mkwargs\u001b[0m\u001b[1;33m)\u001b[0m\u001b[1;33m)\u001b[0m\u001b[1;33m\u001b[0m\u001b[1;33m\u001b[0m\u001b[0m\n\u001b[0m\u001b[0;32m    215\u001b[0m \u001b[1;33m\u001b[0m\u001b[0m\n\u001b[0;32m    216\u001b[0m     \u001b[1;32mdef\u001b[0m \u001b[0m_really_send\u001b[0m\u001b[1;33m(\u001b[0m\u001b[0mself\u001b[0m\u001b[1;33m,\u001b[0m \u001b[0mmsg\u001b[0m\u001b[1;33m,\u001b[0m \u001b[1;33m*\u001b[0m\u001b[0margs\u001b[0m\u001b[1;33m,\u001b[0m \u001b[1;33m**\u001b[0m\u001b[0mkwargs\u001b[0m\u001b[1;33m)\u001b[0m\u001b[1;33m:\u001b[0m\u001b[1;33m\u001b[0m\u001b[1;33m\u001b[0m\u001b[0m\n",
      "\u001b[1;32mC:\\Programs\\miniconda3\\envs\\gaz\\lib\\site-packages\\ipykernel\\iostream.py\u001b[0m in \u001b[0;36mschedule\u001b[1;34m(self, f)\u001b[0m\n\u001b[0;32m    203\u001b[0m             \u001b[0mself\u001b[0m\u001b[1;33m.\u001b[0m\u001b[0m_events\u001b[0m\u001b[1;33m.\u001b[0m\u001b[0mappend\u001b[0m\u001b[1;33m(\u001b[0m\u001b[0mf\u001b[0m\u001b[1;33m)\u001b[0m\u001b[1;33m\u001b[0m\u001b[1;33m\u001b[0m\u001b[0m\n\u001b[0;32m    204\u001b[0m             \u001b[1;31m# wake event thread (message content is ignored)\u001b[0m\u001b[1;33m\u001b[0m\u001b[1;33m\u001b[0m\u001b[1;33m\u001b[0m\u001b[0m\n\u001b[1;32m--> 205\u001b[1;33m             \u001b[0mself\u001b[0m\u001b[1;33m.\u001b[0m\u001b[0m_event_pipe\u001b[0m\u001b[1;33m.\u001b[0m\u001b[0msend\u001b[0m\u001b[1;33m(\u001b[0m\u001b[1;34mb''\u001b[0m\u001b[1;33m)\u001b[0m\u001b[1;33m\u001b[0m\u001b[1;33m\u001b[0m\u001b[0m\n\u001b[0m\u001b[0;32m    206\u001b[0m         \u001b[1;32melse\u001b[0m\u001b[1;33m:\u001b[0m\u001b[1;33m\u001b[0m\u001b[1;33m\u001b[0m\u001b[0m\n\u001b[0;32m    207\u001b[0m             \u001b[0mf\u001b[0m\u001b[1;33m(\u001b[0m\u001b[1;33m)\u001b[0m\u001b[1;33m\u001b[0m\u001b[1;33m\u001b[0m\u001b[0m\n",
      "\u001b[1;32mC:\\Programs\\miniconda3\\envs\\gaz\\lib\\site-packages\\zmq\\sugar\\socket.py\u001b[0m in \u001b[0;36msend\u001b[1;34m(self, data, flags, copy, track, routing_id, group)\u001b[0m\n\u001b[0;32m    489\u001b[0m                                  copy_threshold=self.copy_threshold)\n\u001b[0;32m    490\u001b[0m             \u001b[0mdata\u001b[0m\u001b[1;33m.\u001b[0m\u001b[0mgroup\u001b[0m \u001b[1;33m=\u001b[0m \u001b[0mgroup\u001b[0m\u001b[1;33m\u001b[0m\u001b[1;33m\u001b[0m\u001b[0m\n\u001b[1;32m--> 491\u001b[1;33m         \u001b[1;32mreturn\u001b[0m \u001b[0msuper\u001b[0m\u001b[1;33m(\u001b[0m\u001b[0mSocket\u001b[0m\u001b[1;33m,\u001b[0m \u001b[0mself\u001b[0m\u001b[1;33m)\u001b[0m\u001b[1;33m.\u001b[0m\u001b[0msend\u001b[0m\u001b[1;33m(\u001b[0m\u001b[0mdata\u001b[0m\u001b[1;33m,\u001b[0m \u001b[0mflags\u001b[0m\u001b[1;33m=\u001b[0m\u001b[0mflags\u001b[0m\u001b[1;33m,\u001b[0m \u001b[0mcopy\u001b[0m\u001b[1;33m=\u001b[0m\u001b[0mcopy\u001b[0m\u001b[1;33m,\u001b[0m \u001b[0mtrack\u001b[0m\u001b[1;33m=\u001b[0m\u001b[0mtrack\u001b[0m\u001b[1;33m)\u001b[0m\u001b[1;33m\u001b[0m\u001b[1;33m\u001b[0m\u001b[0m\n\u001b[0m\u001b[0;32m    492\u001b[0m \u001b[1;33m\u001b[0m\u001b[0m\n\u001b[0;32m    493\u001b[0m     \u001b[1;32mdef\u001b[0m \u001b[0msend_multipart\u001b[0m\u001b[1;33m(\u001b[0m\u001b[0mself\u001b[0m\u001b[1;33m,\u001b[0m \u001b[0mmsg_parts\u001b[0m\u001b[1;33m,\u001b[0m \u001b[0mflags\u001b[0m\u001b[1;33m=\u001b[0m\u001b[1;36m0\u001b[0m\u001b[1;33m,\u001b[0m \u001b[0mcopy\u001b[0m\u001b[1;33m=\u001b[0m\u001b[1;32mTrue\u001b[0m\u001b[1;33m,\u001b[0m \u001b[0mtrack\u001b[0m\u001b[1;33m=\u001b[0m\u001b[1;32mFalse\u001b[0m\u001b[1;33m,\u001b[0m \u001b[1;33m**\u001b[0m\u001b[0mkwargs\u001b[0m\u001b[1;33m)\u001b[0m\u001b[1;33m:\u001b[0m\u001b[1;33m\u001b[0m\u001b[1;33m\u001b[0m\u001b[0m\n",
      "\u001b[1;32mzmq/backend/cython/socket.pyx\u001b[0m in \u001b[0;36mzmq.backend.cython.socket.Socket.send\u001b[1;34m()\u001b[0m\n",
      "\u001b[1;32mzmq/backend/cython/socket.pyx\u001b[0m in \u001b[0;36mzmq.backend.cython.socket.Socket.send\u001b[1;34m()\u001b[0m\n",
      "\u001b[1;32mzmq/backend/cython/socket.pyx\u001b[0m in \u001b[0;36mzmq.backend.cython.socket._send_copy\u001b[1;34m()\u001b[0m\n",
      "\u001b[1;32mC:\\Programs\\miniconda3\\envs\\gaz\\lib\\site-packages\\zmq\\backend\\cython\\checkrc.pxd\u001b[0m in \u001b[0;36mzmq.backend.cython.checkrc._check_rc\u001b[1;34m()\u001b[0m\n",
      "\u001b[1;31mKeyboardInterrupt\u001b[0m: "
     ]
    }
   ],
   "source": [
    "keywords = {}\n",
    "for i in tqdm(articles[\"label\"].unique()):\n",
    "    docs = articles[articles[\"label\"] == i][\"text_processed\"].values\n",
    "    try:\n",
    "        top_words = extract_keywords(\" \".join(docs), top_n=50)\n",
    "        print(\"health\" in top_words, i)\n",
    "        keywords[i] = top_words\n",
    "    except:\n",
    "        print(i)"
   ]
  },
  {
   "cell_type": "code",
   "execution_count": 220,
   "id": "5d6f9f35-c120-4018-82ff-e8eec285ba81",
   "metadata": {},
   "outputs": [
    {
     "name": "stdout",
     "output_type": "stream",
     "text": [
      "Wall time: 520 ms\n"
     ]
    }
   ],
   "source": [
    "%%time\n",
    "ke = yake.KeywordExtractor(n=2, top=50)\n",
    "keywords = ke.extract_keywords(' '.join(articles[articles[\"label\"] == i][\"text\"].values))"
   ]
  },
  {
   "cell_type": "code",
   "execution_count": 221,
   "id": "a6a4d306-c9e9-48c2-8cff-c334af7758e1",
   "metadata": {},
   "outputs": [
    {
     "data": {
      "text/plain": [
       "[('wing phenotype', 0.0007688147195421912),\n",
       " ('Figure', 0.0022015695631456486),\n",
       " ('uex', 0.0023547040022274305),\n",
       " ('held-up wing', 0.002862492591257683),\n",
       " ('wing', 0.00300532570535276),\n",
       " ('phenotype', 0.0032568436281381922),\n",
       " ('mutant flies', 0.0036460704038701955),\n",
       " ('flies', 0.005944899042620344),\n",
       " ('Figures', 0.006761963658233063),\n",
       " ('mutant', 0.007531316168501753),\n",
       " ('Uex expression', 0.007887999557205832),\n",
       " ('Drosophila', 0.008488442596446448),\n",
       " ('Uex protein', 0.00915746765041203),\n",
       " ('wing held-up', 0.010495806167944837),\n",
       " ('held-up', 0.011143578821059862),\n",
       " ('mutants', 0.011834925407645611),\n",
       " ('nervous system', 0.011863574452323897),\n",
       " ('expression', 0.01505181624992486),\n",
       " ('held-up phenotype', 0.017452512851913238),\n",
       " ('neurons', 0.019701282014815285),\n",
       " ('nervous', 0.021949160192833026),\n",
       " ('system', 0.023214715730864435),\n",
       " ('Uex levels', 0.024453084708545902),\n",
       " ('uex phenotype', 0.02485170106823377),\n",
       " ('PRL', 0.029099614506787466),\n",
       " ('exposure', 0.029534589575830588),\n",
       " ('phenotype induced', 0.03260465777740616),\n",
       " ('protein', 0.03858692862197093),\n",
       " ('PRLs', 0.04073946030950245),\n",
       " ('neural', 0.0408591204595058),\n",
       " ('dysfunction', 0.04515247169740318),\n",
       " ('Uex knockdown', 0.045758320383298315),\n",
       " ('wings', 0.045831217006629586),\n",
       " ('study', 0.04604879636801658),\n",
       " ('signals', 0.047231378861147096),\n",
       " ('Human', 0.048956172684963266),\n",
       " ('mutant brains', 0.04981366211220833),\n",
       " ('adult flies', 0.050290918640669556),\n",
       " ('observed', 0.05089012303118549),\n",
       " ('uex RNAi', 0.05114172909602048),\n",
       " ('olfactory', 0.05296222134236612),\n",
       " ('function', 0.05352262484917549),\n",
       " ('full-length uex', 0.054472453223866846),\n",
       " ('levels', 0.05691192873146998),\n",
       " ('induced', 0.05713625012644762),\n",
       " ('neural dysfunction', 0.0577293795923246),\n",
       " ('compromised Uex', 0.05842818000973941),\n",
       " ('flies induced', 0.061727388290526826),\n",
       " ('Drosophila Stock', 0.062135339347588955),\n",
       " ('rescue', 0.06503049076779244)]"
      ]
     },
     "execution_count": 221,
     "metadata": {},
     "output_type": "execute_result"
    }
   ],
   "source": [
    "keywords"
   ]
  },
  {
   "cell_type": "code",
   "execution_count": 25,
   "id": "ade3c5b3-5d85-4113-a23d-dd0b42a235fb",
   "metadata": {},
   "outputs": [
    {
     "data": {
      "text/plain": [
       "0.07362158434922515"
      ]
     },
     "execution_count": 25,
     "metadata": {},
     "output_type": "execute_result"
    }
   ],
   "source": [
    "8328 / len(docs)"
   ]
  },
  {
   "cell_type": "code",
   "execution_count": 31,
   "id": "dca69337-045a-4965-960e-318b80f29821",
   "metadata": {},
   "outputs": [
    {
     "data": {
      "text/html": [
       "<div>\n",
       "<style scoped>\n",
       "    .dataframe tbody tr th:only-of-type {\n",
       "        vertical-align: middle;\n",
       "    }\n",
       "\n",
       "    .dataframe tbody tr th {\n",
       "        vertical-align: top;\n",
       "    }\n",
       "\n",
       "    .dataframe thead th {\n",
       "        text-align: right;\n",
       "    }\n",
       "</style>\n",
       "<table border=\"1\" class=\"dataframe\">\n",
       "  <thead>\n",
       "    <tr style=\"text-align: right;\">\n",
       "      <th></th>\n",
       "      <th>word</th>\n",
       "      <th>count</th>\n",
       "    </tr>\n",
       "  </thead>\n",
       "  <tbody>\n",
       "    <tr>\n",
       "      <th>0</th>\n",
       "      <td>patients</td>\n",
       "      <td>30010</td>\n",
       "    </tr>\n",
       "    <tr>\n",
       "      <th>1</th>\n",
       "      <td>cancer</td>\n",
       "      <td>13482</td>\n",
       "    </tr>\n",
       "    <tr>\n",
       "      <th>2</th>\n",
       "      <td>lung</td>\n",
       "      <td>13012</td>\n",
       "    </tr>\n",
       "    <tr>\n",
       "      <th>3</th>\n",
       "      <td>study</td>\n",
       "      <td>10315</td>\n",
       "    </tr>\n",
       "    <tr>\n",
       "      <th>4</th>\n",
       "      <td>use</td>\n",
       "      <td>10090</td>\n",
       "    </tr>\n",
       "  </tbody>\n",
       "</table>\n",
       "</div>"
      ],
      "text/plain": [
       "       word  count\n",
       "0  patients  30010\n",
       "1    cancer  13482\n",
       "2      lung  13012\n",
       "3     study  10315\n",
       "4       use  10090"
      ]
     },
     "execution_count": 31,
     "metadata": {},
     "output_type": "execute_result"
    }
   ],
   "source": [
    "top_words = extract_keywords(' '.join(docs), top_n=10)\n",
    "top_words = pd.DataFrame(top_words, columns=(\"word\", \"count\"))\n",
    "top_words.head()"
   ]
  },
  {
   "cell_type": "code",
   "execution_count": 32,
   "id": "ae2912c7-c542-4c49-a890-cc60aebd3b7f",
   "metadata": {},
   "outputs": [],
   "source": []
  },
  {
   "cell_type": "code",
   "execution_count": 33,
   "id": "9b334a3f-fcf6-4bed-b05b-7cd53b0df745",
   "metadata": {},
   "outputs": [
    {
     "data": {
      "text/plain": [
       "<AxesSubplot:xlabel='word', ylabel='count'>"
      ]
     },
     "execution_count": 33,
     "metadata": {},
     "output_type": "execute_result"
    },
    {
     "data": {
      "image/png": "[encoded data removed]",
      "text/plain": [
       "<Figure size 432x288 with 1 Axes>"
      ]
     },
     "metadata": {
      "needs_background": "light"
     },
     "output_type": "display_data"
    }
   ],
   "source": [
    "sns.barplot(data=top_words, x='word', y='count')"
   ]
  },
  {
   "cell_type": "code",
   "execution_count": null,
   "id": "9709874f-8442-4501-ba38-3d617d973ff4",
   "metadata": {},
   "outputs": [],
   "source": []
  }
 ],
 "metadata": {
  "kernelspec": {
   "display_name": "Python 3",
   "language": "python",
   "name": "python3"
  },
  "language_info": {
   "codemirror_mode": {
    "name": "ipython",
    "version": 3
   },
   "file_extension": ".py",
   "mimetype": "text/x-python",
   "name": "python",
   "nbconvert_exporter": "python",
   "pygments_lexer": "ipython3",
   "version": "3.8.10"
  }
 },
 "nbformat": 4,
 "nbformat_minor": 5
}
